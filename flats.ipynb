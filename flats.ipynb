{
 "cells": [
  {
   "cell_type": "markdown",
   "metadata": {},
   "source": [
    "# Исследование объявлений о продаже квартир\n",
    "\n",
    "В вашем распоряжении данные сервиса Яндекс.Недвижимость — архив объявлений о продаже квартир в Санкт-Петербурге и соседних населённых пунктов за несколько лет. Нужно научиться определять рыночную стоимость объектов недвижимости. Ваша задача — установить параметры. Это позволит построить автоматизированную систему: она отследит аномалии и мошенническую деятельность. \n",
    "\n",
    "По каждой квартире на продажу доступны два вида данных. Первые вписаны пользователем, вторые — получены автоматически на основе картографических данных. Например, расстояние до центра, аэропорта, ближайшего парка и водоёма. "
   ]
  },
  {
   "cell_type": "markdown",
   "metadata": {},
   "source": [
    "### Откройте файл с данными и изучите общую информацию. "
   ]
  },
  {
   "cell_type": "code",
   "execution_count": 1,
   "metadata": {},
   "outputs": [
    {
     "data": {
      "text/html": [
       "<div>\n",
       "<style scoped>\n",
       "    .dataframe tbody tr th:only-of-type {\n",
       "        vertical-align: middle;\n",
       "    }\n",
       "\n",
       "    .dataframe tbody tr th {\n",
       "        vertical-align: top;\n",
       "    }\n",
       "\n",
       "    .dataframe thead th {\n",
       "        text-align: right;\n",
       "    }\n",
       "</style>\n",
       "<table border=\"1\" class=\"dataframe\">\n",
       "  <thead>\n",
       "    <tr style=\"text-align: right;\">\n",
       "      <th></th>\n",
       "      <th>total_images</th>\n",
       "      <th>last_price</th>\n",
       "      <th>total_area</th>\n",
       "      <th>first_day_exposition</th>\n",
       "      <th>rooms</th>\n",
       "      <th>ceiling_height</th>\n",
       "      <th>floors_total</th>\n",
       "      <th>living_area</th>\n",
       "      <th>floor</th>\n",
       "      <th>is_apartment</th>\n",
       "      <th>...</th>\n",
       "      <th>kitchen_area</th>\n",
       "      <th>balcony</th>\n",
       "      <th>locality_name</th>\n",
       "      <th>airports_nearest</th>\n",
       "      <th>cityCenters_nearest</th>\n",
       "      <th>parks_around3000</th>\n",
       "      <th>parks_nearest</th>\n",
       "      <th>ponds_around3000</th>\n",
       "      <th>ponds_nearest</th>\n",
       "      <th>days_exposition</th>\n",
       "    </tr>\n",
       "  </thead>\n",
       "  <tbody>\n",
       "    <tr>\n",
       "      <th>0</th>\n",
       "      <td>20</td>\n",
       "      <td>13000000.0</td>\n",
       "      <td>108.0</td>\n",
       "      <td>2019-03-07T00:00:00</td>\n",
       "      <td>3</td>\n",
       "      <td>2.70</td>\n",
       "      <td>16.0</td>\n",
       "      <td>51.0</td>\n",
       "      <td>8</td>\n",
       "      <td>NaN</td>\n",
       "      <td>...</td>\n",
       "      <td>25.0</td>\n",
       "      <td>NaN</td>\n",
       "      <td>Санкт-Петербург</td>\n",
       "      <td>18863.0</td>\n",
       "      <td>16028.0</td>\n",
       "      <td>1.0</td>\n",
       "      <td>482.0</td>\n",
       "      <td>2.0</td>\n",
       "      <td>755.0</td>\n",
       "      <td>NaN</td>\n",
       "    </tr>\n",
       "    <tr>\n",
       "      <th>1</th>\n",
       "      <td>7</td>\n",
       "      <td>3350000.0</td>\n",
       "      <td>40.4</td>\n",
       "      <td>2018-12-04T00:00:00</td>\n",
       "      <td>1</td>\n",
       "      <td>NaN</td>\n",
       "      <td>11.0</td>\n",
       "      <td>18.6</td>\n",
       "      <td>1</td>\n",
       "      <td>NaN</td>\n",
       "      <td>...</td>\n",
       "      <td>11.0</td>\n",
       "      <td>2.0</td>\n",
       "      <td>посёлок Шушары</td>\n",
       "      <td>12817.0</td>\n",
       "      <td>18603.0</td>\n",
       "      <td>0.0</td>\n",
       "      <td>NaN</td>\n",
       "      <td>0.0</td>\n",
       "      <td>NaN</td>\n",
       "      <td>81.0</td>\n",
       "    </tr>\n",
       "    <tr>\n",
       "      <th>2</th>\n",
       "      <td>10</td>\n",
       "      <td>5196000.0</td>\n",
       "      <td>56.0</td>\n",
       "      <td>2015-08-20T00:00:00</td>\n",
       "      <td>2</td>\n",
       "      <td>NaN</td>\n",
       "      <td>5.0</td>\n",
       "      <td>34.3</td>\n",
       "      <td>4</td>\n",
       "      <td>NaN</td>\n",
       "      <td>...</td>\n",
       "      <td>8.3</td>\n",
       "      <td>0.0</td>\n",
       "      <td>Санкт-Петербург</td>\n",
       "      <td>21741.0</td>\n",
       "      <td>13933.0</td>\n",
       "      <td>1.0</td>\n",
       "      <td>90.0</td>\n",
       "      <td>2.0</td>\n",
       "      <td>574.0</td>\n",
       "      <td>558.0</td>\n",
       "    </tr>\n",
       "    <tr>\n",
       "      <th>3</th>\n",
       "      <td>0</td>\n",
       "      <td>64900000.0</td>\n",
       "      <td>159.0</td>\n",
       "      <td>2015-07-24T00:00:00</td>\n",
       "      <td>3</td>\n",
       "      <td>NaN</td>\n",
       "      <td>14.0</td>\n",
       "      <td>NaN</td>\n",
       "      <td>9</td>\n",
       "      <td>NaN</td>\n",
       "      <td>...</td>\n",
       "      <td>NaN</td>\n",
       "      <td>0.0</td>\n",
       "      <td>Санкт-Петербург</td>\n",
       "      <td>28098.0</td>\n",
       "      <td>6800.0</td>\n",
       "      <td>2.0</td>\n",
       "      <td>84.0</td>\n",
       "      <td>3.0</td>\n",
       "      <td>234.0</td>\n",
       "      <td>424.0</td>\n",
       "    </tr>\n",
       "    <tr>\n",
       "      <th>4</th>\n",
       "      <td>2</td>\n",
       "      <td>10000000.0</td>\n",
       "      <td>100.0</td>\n",
       "      <td>2018-06-19T00:00:00</td>\n",
       "      <td>2</td>\n",
       "      <td>3.03</td>\n",
       "      <td>14.0</td>\n",
       "      <td>32.0</td>\n",
       "      <td>13</td>\n",
       "      <td>NaN</td>\n",
       "      <td>...</td>\n",
       "      <td>41.0</td>\n",
       "      <td>NaN</td>\n",
       "      <td>Санкт-Петербург</td>\n",
       "      <td>31856.0</td>\n",
       "      <td>8098.0</td>\n",
       "      <td>2.0</td>\n",
       "      <td>112.0</td>\n",
       "      <td>1.0</td>\n",
       "      <td>48.0</td>\n",
       "      <td>121.0</td>\n",
       "    </tr>\n",
       "  </tbody>\n",
       "</table>\n",
       "<p>5 rows × 22 columns</p>\n",
       "</div>"
      ],
      "text/plain": [
       "   total_images  last_price  total_area first_day_exposition  rooms  \\\n",
       "0            20  13000000.0       108.0  2019-03-07T00:00:00      3   \n",
       "1             7   3350000.0        40.4  2018-12-04T00:00:00      1   \n",
       "2            10   5196000.0        56.0  2015-08-20T00:00:00      2   \n",
       "3             0  64900000.0       159.0  2015-07-24T00:00:00      3   \n",
       "4             2  10000000.0       100.0  2018-06-19T00:00:00      2   \n",
       "\n",
       "   ceiling_height  floors_total  living_area  floor is_apartment  ...  \\\n",
       "0            2.70          16.0         51.0      8          NaN  ...   \n",
       "1             NaN          11.0         18.6      1          NaN  ...   \n",
       "2             NaN           5.0         34.3      4          NaN  ...   \n",
       "3             NaN          14.0          NaN      9          NaN  ...   \n",
       "4            3.03          14.0         32.0     13          NaN  ...   \n",
       "\n",
       "   kitchen_area  balcony    locality_name  airports_nearest  \\\n",
       "0          25.0      NaN  Санкт-Петербург           18863.0   \n",
       "1          11.0      2.0   посёлок Шушары           12817.0   \n",
       "2           8.3      0.0  Санкт-Петербург           21741.0   \n",
       "3           NaN      0.0  Санкт-Петербург           28098.0   \n",
       "4          41.0      NaN  Санкт-Петербург           31856.0   \n",
       "\n",
       "  cityCenters_nearest  parks_around3000  parks_nearest  ponds_around3000  \\\n",
       "0             16028.0               1.0          482.0               2.0   \n",
       "1             18603.0               0.0            NaN               0.0   \n",
       "2             13933.0               1.0           90.0               2.0   \n",
       "3              6800.0               2.0           84.0               3.0   \n",
       "4              8098.0               2.0          112.0               1.0   \n",
       "\n",
       "   ponds_nearest  days_exposition  \n",
       "0          755.0              NaN  \n",
       "1            NaN             81.0  \n",
       "2          574.0            558.0  \n",
       "3          234.0            424.0  \n",
       "4           48.0            121.0  \n",
       "\n",
       "[5 rows x 22 columns]"
      ]
     },
     "execution_count": 1,
     "metadata": {},
     "output_type": "execute_result"
    }
   ],
   "source": [
    "import pandas as pd\n",
    "data = pd.read_csv('/datasets/real_estate_data.csv' , sep= '\\t')\n",
    "data.head()"
   ]
  },
  {
   "cell_type": "code",
   "execution_count": 2,
   "metadata": {},
   "outputs": [
    {
     "name": "stdout",
     "output_type": "stream",
     "text": [
      "<class 'pandas.core.frame.DataFrame'>\n",
      "RangeIndex: 23699 entries, 0 to 23698\n",
      "Data columns (total 22 columns):\n",
      " #   Column                Non-Null Count  Dtype  \n",
      "---  ------                --------------  -----  \n",
      " 0   total_images          23699 non-null  int64  \n",
      " 1   last_price            23699 non-null  float64\n",
      " 2   total_area            23699 non-null  float64\n",
      " 3   first_day_exposition  23699 non-null  object \n",
      " 4   rooms                 23699 non-null  int64  \n",
      " 5   ceiling_height        14504 non-null  float64\n",
      " 6   floors_total          23613 non-null  float64\n",
      " 7   living_area           21796 non-null  float64\n",
      " 8   floor                 23699 non-null  int64  \n",
      " 9   is_apartment          2775 non-null   object \n",
      " 10  studio                23699 non-null  bool   \n",
      " 11  open_plan             23699 non-null  bool   \n",
      " 12  kitchen_area          21421 non-null  float64\n",
      " 13  balcony               12180 non-null  float64\n",
      " 14  locality_name         23650 non-null  object \n",
      " 15  airports_nearest      18157 non-null  float64\n",
      " 16  cityCenters_nearest   18180 non-null  float64\n",
      " 17  parks_around3000      18181 non-null  float64\n",
      " 18  parks_nearest         8079 non-null   float64\n",
      " 19  ponds_around3000      18181 non-null  float64\n",
      " 20  ponds_nearest         9110 non-null   float64\n",
      " 21  days_exposition       20518 non-null  float64\n",
      "dtypes: bool(2), float64(14), int64(3), object(3)\n",
      "memory usage: 3.7+ MB\n"
     ]
    }
   ],
   "source": [
    "data.info()"
   ]
  },
  {
   "cell_type": "markdown",
   "metadata": {},
   "source": [
    "Вижу несовпадающие типа данных, \"кривые\" названия, есть пропуски в некоторых местах. Со всем этим придется разбираться"
   ]
  },
  {
   "cell_type": "code",
   "execution_count": 3,
   "metadata": {},
   "outputs": [
    {
     "data": {
      "text/plain": [
       "array([[<AxesSubplot:title={'center':'total_images'}>,\n",
       "        <AxesSubplot:title={'center':'last_price'}>,\n",
       "        <AxesSubplot:title={'center':'total_area'}>,\n",
       "        <AxesSubplot:title={'center':'rooms'}>],\n",
       "       [<AxesSubplot:title={'center':'ceiling_height'}>,\n",
       "        <AxesSubplot:title={'center':'floors_total'}>,\n",
       "        <AxesSubplot:title={'center':'living_area'}>,\n",
       "        <AxesSubplot:title={'center':'floor'}>],\n",
       "       [<AxesSubplot:title={'center':'kitchen_area'}>,\n",
       "        <AxesSubplot:title={'center':'balcony'}>,\n",
       "        <AxesSubplot:title={'center':'airports_nearest'}>,\n",
       "        <AxesSubplot:title={'center':'cityCenters_nearest'}>],\n",
       "       [<AxesSubplot:title={'center':'parks_around3000'}>,\n",
       "        <AxesSubplot:title={'center':'parks_nearest'}>,\n",
       "        <AxesSubplot:title={'center':'ponds_around3000'}>,\n",
       "        <AxesSubplot:title={'center':'ponds_nearest'}>],\n",
       "       [<AxesSubplot:title={'center':'days_exposition'}>, <AxesSubplot:>,\n",
       "        <AxesSubplot:>, <AxesSubplot:>]], dtype=object)"
      ]
     },
     "execution_count": 3,
     "metadata": {},
     "output_type": "execute_result"
    },
    {
     "data": {
      "image/png": "[encoded data removed]",
      "text/plain": [
       "<Figure size 1080x1440 with 20 Axes>"
      ]
     },
     "metadata": {
      "needs_background": "light"
     },
     "output_type": "display_data"
    }
   ],
   "source": [
    "data.hist(figsize=(15,20))"
   ]
  },
  {
   "cell_type": "code",
   "execution_count": 4,
   "metadata": {},
   "outputs": [
    {
     "data": {
      "text/html": [
       "<div>\n",
       "<style scoped>\n",
       "    .dataframe tbody tr th:only-of-type {\n",
       "        vertical-align: middle;\n",
       "    }\n",
       "\n",
       "    .dataframe tbody tr th {\n",
       "        vertical-align: top;\n",
       "    }\n",
       "\n",
       "    .dataframe thead th {\n",
       "        text-align: right;\n",
       "    }\n",
       "</style>\n",
       "<table border=\"1\" class=\"dataframe\">\n",
       "  <thead>\n",
       "    <tr style=\"text-align: right;\">\n",
       "      <th></th>\n",
       "      <th>total_images</th>\n",
       "      <th>last_price</th>\n",
       "      <th>total_area</th>\n",
       "      <th>rooms</th>\n",
       "      <th>ceiling_height</th>\n",
       "      <th>floors_total</th>\n",
       "      <th>living_area</th>\n",
       "      <th>floor</th>\n",
       "      <th>kitchen_area</th>\n",
       "      <th>balcony</th>\n",
       "      <th>airports_nearest</th>\n",
       "      <th>cityCenters_nearest</th>\n",
       "      <th>parks_around3000</th>\n",
       "      <th>parks_nearest</th>\n",
       "      <th>ponds_around3000</th>\n",
       "      <th>ponds_nearest</th>\n",
       "      <th>days_exposition</th>\n",
       "    </tr>\n",
       "  </thead>\n",
       "  <tbody>\n",
       "    <tr>\n",
       "      <th>count</th>\n",
       "      <td>23699.000000</td>\n",
       "      <td>2.369900e+04</td>\n",
       "      <td>23699.000000</td>\n",
       "      <td>23699.000000</td>\n",
       "      <td>14504.000000</td>\n",
       "      <td>23613.000000</td>\n",
       "      <td>21796.000000</td>\n",
       "      <td>23699.000000</td>\n",
       "      <td>21421.000000</td>\n",
       "      <td>12180.000000</td>\n",
       "      <td>18157.000000</td>\n",
       "      <td>18180.000000</td>\n",
       "      <td>18181.000000</td>\n",
       "      <td>8079.000000</td>\n",
       "      <td>18181.000000</td>\n",
       "      <td>9110.000000</td>\n",
       "      <td>20518.000000</td>\n",
       "    </tr>\n",
       "    <tr>\n",
       "      <th>mean</th>\n",
       "      <td>9.858475</td>\n",
       "      <td>6.541549e+06</td>\n",
       "      <td>60.348651</td>\n",
       "      <td>2.070636</td>\n",
       "      <td>2.771499</td>\n",
       "      <td>10.673824</td>\n",
       "      <td>34.457852</td>\n",
       "      <td>5.892358</td>\n",
       "      <td>10.569807</td>\n",
       "      <td>1.150082</td>\n",
       "      <td>28793.672193</td>\n",
       "      <td>14191.277833</td>\n",
       "      <td>0.611408</td>\n",
       "      <td>490.804555</td>\n",
       "      <td>0.770255</td>\n",
       "      <td>517.980900</td>\n",
       "      <td>180.888634</td>\n",
       "    </tr>\n",
       "    <tr>\n",
       "      <th>std</th>\n",
       "      <td>5.682529</td>\n",
       "      <td>1.088701e+07</td>\n",
       "      <td>35.654083</td>\n",
       "      <td>1.078405</td>\n",
       "      <td>1.261056</td>\n",
       "      <td>6.597173</td>\n",
       "      <td>22.030445</td>\n",
       "      <td>4.885249</td>\n",
       "      <td>5.905438</td>\n",
       "      <td>1.071300</td>\n",
       "      <td>12630.880622</td>\n",
       "      <td>8608.386210</td>\n",
       "      <td>0.802074</td>\n",
       "      <td>342.317995</td>\n",
       "      <td>0.938346</td>\n",
       "      <td>277.720643</td>\n",
       "      <td>219.727988</td>\n",
       "    </tr>\n",
       "    <tr>\n",
       "      <th>min</th>\n",
       "      <td>0.000000</td>\n",
       "      <td>1.219000e+04</td>\n",
       "      <td>12.000000</td>\n",
       "      <td>0.000000</td>\n",
       "      <td>1.000000</td>\n",
       "      <td>1.000000</td>\n",
       "      <td>2.000000</td>\n",
       "      <td>1.000000</td>\n",
       "      <td>1.300000</td>\n",
       "      <td>0.000000</td>\n",
       "      <td>0.000000</td>\n",
       "      <td>181.000000</td>\n",
       "      <td>0.000000</td>\n",
       "      <td>1.000000</td>\n",
       "      <td>0.000000</td>\n",
       "      <td>13.000000</td>\n",
       "      <td>1.000000</td>\n",
       "    </tr>\n",
       "    <tr>\n",
       "      <th>25%</th>\n",
       "      <td>6.000000</td>\n",
       "      <td>3.400000e+06</td>\n",
       "      <td>40.000000</td>\n",
       "      <td>1.000000</td>\n",
       "      <td>2.520000</td>\n",
       "      <td>5.000000</td>\n",
       "      <td>18.600000</td>\n",
       "      <td>2.000000</td>\n",
       "      <td>7.000000</td>\n",
       "      <td>0.000000</td>\n",
       "      <td>18585.000000</td>\n",
       "      <td>9238.000000</td>\n",
       "      <td>0.000000</td>\n",
       "      <td>288.000000</td>\n",
       "      <td>0.000000</td>\n",
       "      <td>294.000000</td>\n",
       "      <td>45.000000</td>\n",
       "    </tr>\n",
       "    <tr>\n",
       "      <th>50%</th>\n",
       "      <td>9.000000</td>\n",
       "      <td>4.650000e+06</td>\n",
       "      <td>52.000000</td>\n",
       "      <td>2.000000</td>\n",
       "      <td>2.650000</td>\n",
       "      <td>9.000000</td>\n",
       "      <td>30.000000</td>\n",
       "      <td>4.000000</td>\n",
       "      <td>9.100000</td>\n",
       "      <td>1.000000</td>\n",
       "      <td>26726.000000</td>\n",
       "      <td>13098.500000</td>\n",
       "      <td>0.000000</td>\n",
       "      <td>455.000000</td>\n",
       "      <td>1.000000</td>\n",
       "      <td>502.000000</td>\n",
       "      <td>95.000000</td>\n",
       "    </tr>\n",
       "    <tr>\n",
       "      <th>75%</th>\n",
       "      <td>14.000000</td>\n",
       "      <td>6.800000e+06</td>\n",
       "      <td>69.900000</td>\n",
       "      <td>3.000000</td>\n",
       "      <td>2.800000</td>\n",
       "      <td>16.000000</td>\n",
       "      <td>42.300000</td>\n",
       "      <td>8.000000</td>\n",
       "      <td>12.000000</td>\n",
       "      <td>2.000000</td>\n",
       "      <td>37273.000000</td>\n",
       "      <td>16293.000000</td>\n",
       "      <td>1.000000</td>\n",
       "      <td>612.000000</td>\n",
       "      <td>1.000000</td>\n",
       "      <td>729.000000</td>\n",
       "      <td>232.000000</td>\n",
       "    </tr>\n",
       "    <tr>\n",
       "      <th>max</th>\n",
       "      <td>50.000000</td>\n",
       "      <td>7.630000e+08</td>\n",
       "      <td>900.000000</td>\n",
       "      <td>19.000000</td>\n",
       "      <td>100.000000</td>\n",
       "      <td>60.000000</td>\n",
       "      <td>409.700000</td>\n",
       "      <td>33.000000</td>\n",
       "      <td>112.000000</td>\n",
       "      <td>5.000000</td>\n",
       "      <td>84869.000000</td>\n",
       "      <td>65968.000000</td>\n",
       "      <td>3.000000</td>\n",
       "      <td>3190.000000</td>\n",
       "      <td>3.000000</td>\n",
       "      <td>1344.000000</td>\n",
       "      <td>1580.000000</td>\n",
       "    </tr>\n",
       "  </tbody>\n",
       "</table>\n",
       "</div>"
      ],
      "text/plain": [
       "       total_images    last_price    total_area         rooms  ceiling_height  \\\n",
       "count  23699.000000  2.369900e+04  23699.000000  23699.000000    14504.000000   \n",
       "mean       9.858475  6.541549e+06     60.348651      2.070636        2.771499   \n",
       "std        5.682529  1.088701e+07     35.654083      1.078405        1.261056   \n",
       "min        0.000000  1.219000e+04     12.000000      0.000000        1.000000   \n",
       "25%        6.000000  3.400000e+06     40.000000      1.000000        2.520000   \n",
       "50%        9.000000  4.650000e+06     52.000000      2.000000        2.650000   \n",
       "75%       14.000000  6.800000e+06     69.900000      3.000000        2.800000   \n",
       "max       50.000000  7.630000e+08    900.000000     19.000000      100.000000   \n",
       "\n",
       "       floors_total   living_area         floor  kitchen_area       balcony  \\\n",
       "count  23613.000000  21796.000000  23699.000000  21421.000000  12180.000000   \n",
       "mean      10.673824     34.457852      5.892358     10.569807      1.150082   \n",
       "std        6.597173     22.030445      4.885249      5.905438      1.071300   \n",
       "min        1.000000      2.000000      1.000000      1.300000      0.000000   \n",
       "25%        5.000000     18.600000      2.000000      7.000000      0.000000   \n",
       "50%        9.000000     30.000000      4.000000      9.100000      1.000000   \n",
       "75%       16.000000     42.300000      8.000000     12.000000      2.000000   \n",
       "max       60.000000    409.700000     33.000000    112.000000      5.000000   \n",
       "\n",
       "       airports_nearest  cityCenters_nearest  parks_around3000  parks_nearest  \\\n",
       "count      18157.000000         18180.000000      18181.000000    8079.000000   \n",
       "mean       28793.672193         14191.277833          0.611408     490.804555   \n",
       "std        12630.880622          8608.386210          0.802074     342.317995   \n",
       "min            0.000000           181.000000          0.000000       1.000000   \n",
       "25%        18585.000000          9238.000000          0.000000     288.000000   \n",
       "50%        26726.000000         13098.500000          0.000000     455.000000   \n",
       "75%        37273.000000         16293.000000          1.000000     612.000000   \n",
       "max        84869.000000         65968.000000          3.000000    3190.000000   \n",
       "\n",
       "       ponds_around3000  ponds_nearest  days_exposition  \n",
       "count      18181.000000    9110.000000     20518.000000  \n",
       "mean           0.770255     517.980900       180.888634  \n",
       "std            0.938346     277.720643       219.727988  \n",
       "min            0.000000      13.000000         1.000000  \n",
       "25%            0.000000     294.000000        45.000000  \n",
       "50%            1.000000     502.000000        95.000000  \n",
       "75%            1.000000     729.000000       232.000000  \n",
       "max            3.000000    1344.000000      1580.000000  "
      ]
     },
     "execution_count": 4,
     "metadata": {},
     "output_type": "execute_result"
    }
   ],
   "source": [
    "data.describe()"
   ]
  },
  {
   "cell_type": "markdown",
   "metadata": {},
   "source": [
    "### Предобработка данных"
   ]
  },
  {
   "cell_type": "code",
   "execution_count": 5,
   "metadata": {},
   "outputs": [
    {
     "data": {
      "text/plain": [
       "total_images                0\n",
       "last_price                  0\n",
       "total_area                  0\n",
       "first_day_exposition        0\n",
       "rooms                       0\n",
       "ceiling_height           9195\n",
       "floors_total               86\n",
       "living_area              1903\n",
       "floor                       0\n",
       "is_apartment            20924\n",
       "studio                      0\n",
       "open_plan                   0\n",
       "kitchen_area             2278\n",
       "balcony                 11519\n",
       "locality_name              49\n",
       "airports_nearest         5542\n",
       "cityCenters_nearest      5519\n",
       "parks_around3000         5518\n",
       "parks_nearest           15620\n",
       "ponds_around3000         5518\n",
       "ponds_nearest           14589\n",
       "days_exposition          3181\n",
       "dtype: int64"
      ]
     },
     "execution_count": 5,
     "metadata": {},
     "output_type": "execute_result"
    }
   ],
   "source": [
    "data.isna().sum()"
   ]
  },
  {
   "cell_type": "markdown",
   "metadata": {},
   "source": [
    "Уточнил, что пропуски и правда есть, особенно напрягают значения, где больше 10к пропусков. Однако, скорее всего, они будут иметь значения 1 или 0 в зависимости от контекста"
   ]
  },
  {
   "cell_type": "code",
   "execution_count": 6,
   "metadata": {},
   "outputs": [
    {
     "data": {
      "text/plain": [
       "Index(['total_images', 'last_price', 'total_area', 'first_day_exposition',\n",
       "       'rooms', 'ceiling_height', 'floors_total', 'living_area', 'floor',\n",
       "       'is_apartment', 'is_studio', 'is_open_plan', 'kitchen_area', 'balcony',\n",
       "       'locality_name', 'airports_nearest', 'city_centers_nearest',\n",
       "       'parks_around_3000', 'parks_nearest', 'ponds_around_3000',\n",
       "       'ponds_nearest', 'days_exposition'],\n",
       "      dtype='object')"
      ]
     },
     "execution_count": 6,
     "metadata": {},
     "output_type": "execute_result"
    }
   ],
   "source": [
    "data = data.rename(columns={'cityCenters_nearest': 'city_centers_nearest', \n",
    "                        'parks_around3000': 'parks_around_3000', \n",
    "                        'ponds_around3000': 'ponds_around_3000',\n",
    "                        'studio': 'is_studio',\n",
    "                        'open_plan': 'is_open_plan'\n",
    "                       })\n",
    "data.columns"
   ]
  },
  {
   "cell_type": "markdown",
   "metadata": {},
   "source": [
    "Исправим типы данных и заполним пропуски"
   ]
  },
  {
   "cell_type": "code",
   "execution_count": 7,
   "metadata": {},
   "outputs": [],
   "source": [
    "data['first_day_exposition'] = pd.to_datetime(data['first_day_exposition'], format='%Y-%m-%dT%H:%M:%S')"
   ]
  },
  {
   "cell_type": "code",
   "execution_count": 8,
   "metadata": {},
   "outputs": [],
   "source": [
    "data['is_apartment'] = data['is_apartment'].astype(bool)"
   ]
  },
  {
   "cell_type": "code",
   "execution_count": 9,
   "metadata": {},
   "outputs": [
    {
     "data": {
      "text/plain": [
       "0"
      ]
     },
     "execution_count": 9,
     "metadata": {},
     "output_type": "execute_result"
    }
   ],
   "source": [
    "data['balcony'] = data['balcony'].fillna('0').astype(int)\n",
    "data['balcony'].isna().sum()"
   ]
  },
  {
   "cell_type": "markdown",
   "metadata": {},
   "source": [
    "С балконами разобрались, мы великолепны"
   ]
  },
  {
   "cell_type": "code",
   "execution_count": 10,
   "metadata": {},
   "outputs": [
    {
     "data": {
      "text/plain": [
       "count    14504.000000\n",
       "mean         2.771499\n",
       "std          1.261056\n",
       "min          1.000000\n",
       "25%          2.520000\n",
       "50%          2.650000\n",
       "75%          2.800000\n",
       "max        100.000000\n",
       "Name: ceiling_height, dtype: float64"
      ]
     },
     "execution_count": 10,
     "metadata": {},
     "output_type": "execute_result"
    }
   ],
   "source": [
    "data['ceiling_height'].describe()"
   ]
  },
  {
   "cell_type": "code",
   "execution_count": 11,
   "metadata": {},
   "outputs": [],
   "source": [
    "ceiling_height_meadian = data['ceiling_height'].median()\n",
    "data['ceiling_height'] = data['ceiling_height'].fillna(ceiling_height_meadian)"
   ]
  },
  {
   "cell_type": "code",
   "execution_count": 12,
   "metadata": {},
   "outputs": [
    {
     "data": {
      "text/plain": [
       "<AxesSubplot:title={'center':'Доли пропущенных значений в процентах'}>"
      ]
     },
     "execution_count": 12,
     "metadata": {},
     "output_type": "execute_result"
    },
    {
     "data": {
      "image/png": "[encoded data removed]",
      "text/plain": [
       "<Figure size 1080x720 with 1 Axes>"
      ]
     },
     "metadata": {
      "needs_background": "light"
     },
     "output_type": "display_data"
    }
   ],
   "source": [
    "(\n",
    "    (data.isna().mean()*100)\n",
    "    .to_frame()\n",
    "    .rename(columns={0:'Nans'})\n",
    "    .query('Nans > 0')\n",
    "    .sort_values(by='Nans', ascending=True)\n",
    "    .plot(kind='barh', figsize=(15, 10), title='Доли пропущенных значений в процентах')\n",
    ")"
   ]
  },
  {
   "cell_type": "markdown",
   "metadata": {},
   "source": [
    "График по долям пропущенным значениям. Скорее всего NaN значит не то, что данных нет, а то, что кол-во = 0"
   ]
  },
  {
   "cell_type": "code",
   "execution_count": 13,
   "metadata": {},
   "outputs": [
    {
     "data": {
      "text/plain": [
       "total_images                0\n",
       "last_price                  0\n",
       "total_area                  0\n",
       "first_day_exposition        0\n",
       "rooms                       0\n",
       "ceiling_height              0\n",
       "floors_total                0\n",
       "living_area              1865\n",
       "floor                       0\n",
       "is_apartment                0\n",
       "is_studio                   0\n",
       "is_open_plan                0\n",
       "kitchen_area             2222\n",
       "balcony                     0\n",
       "locality_name               0\n",
       "airports_nearest         5524\n",
       "city_centers_nearest     5501\n",
       "parks_around_3000        5500\n",
       "parks_nearest           15535\n",
       "ponds_around_3000        5500\n",
       "ponds_nearest           14529\n",
       "days_exposition          3171\n",
       "dtype: int64"
      ]
     },
     "execution_count": 13,
     "metadata": {},
     "output_type": "execute_result"
    }
   ],
   "source": [
    "data.dropna(subset=['locality_name'], inplace=True)\n",
    "data.dropna(subset=['floors_total'], inplace=True)\n",
    "data.isna().sum()"
   ]
  },
  {
   "cell_type": "code",
   "execution_count": 14,
   "metadata": {},
   "outputs": [
    {
     "data": {
      "text/plain": [
       "364"
      ]
     },
     "execution_count": 14,
     "metadata": {},
     "output_type": "execute_result"
    }
   ],
   "source": [
    "len(data['locality_name'].unique())"
   ]
  },
  {
   "cell_type": "markdown",
   "metadata": {},
   "source": [
    "Разберемся с поселками в СПб. Много типичных ошибок, типа перепущенных е и ё"
   ]
  },
  {
   "cell_type": "code",
   "execution_count": 15,
   "metadata": {},
   "outputs": [
    {
     "data": {
      "text/plain": [
       "323"
      ]
     },
     "execution_count": 15,
     "metadata": {},
     "output_type": "execute_result"
    }
   ],
   "source": [
    "data['locality_name'] = data['locality_name'].str.replace('ё', 'е')\n",
    "data['locality_name'] = data['locality_name'].str.lower()\n",
    "data['locality_name'] = data['locality_name'].str.replace('городской поселок', 'поселок городского типа')\n",
    "len(data['locality_name'].unique())"
   ]
  },
  {
   "cell_type": "code",
   "execution_count": 16,
   "metadata": {},
   "outputs": [
    {
     "data": {
      "text/plain": [
       "0"
      ]
     },
     "execution_count": 16,
     "metadata": {},
     "output_type": "execute_result"
    }
   ],
   "source": [
    "data.duplicated().sum()"
   ]
  },
  {
   "cell_type": "markdown",
   "metadata": {},
   "source": [
    "явных дубликатов нет"
   ]
  },
  {
   "cell_type": "code",
   "execution_count": 17,
   "metadata": {},
   "outputs": [
    {
     "name": "stdout",
     "output_type": "stream",
     "text": [
      "Квартир стоимостью 0: 0\n",
      "Очень дешевые квартиры 100.000: 1\n",
      "Сверхдорогие квартиры 100.000.000: 37\n",
      "Квартир стоимостью больше 100.000.000: 2698\n"
     ]
    }
   ],
   "source": [
    "print('Квартир стоимостью 0:', data.query('last_price == 0')['last_price'].count())\n",
    "print('Очень дешевые квартиры 100.000:', data.query('last_price < 1e+05')['last_price'].count())\n",
    "print('Сверхдорогие квартиры 100.000.000:', data.query('last_price > 1e+08')['last_price'].count())\n",
    "\n",
    "print('Квартир стоимостью больше 100.000.000:', data.query('last_price > 1e+07')['last_price'].count())\n",
    "data.drop(index=data.query('last_price > 1e+08').index,inplace=True)"
   ]
  },
  {
   "cell_type": "markdown",
   "metadata": {},
   "source": [
    "избавился от аномально дорогих цен"
   ]
  },
  {
   "cell_type": "code",
   "execution_count": 18,
   "metadata": {},
   "outputs": [
    {
     "data": {
      "image/png": "[encoded data removed]",
      "text/plain": [
       "<Figure size 720x720 with 1 Axes>"
      ]
     },
     "metadata": {
      "needs_background": "light"
     },
     "output_type": "display_data"
    },
    {
     "data": {
      "image/png": "[encoded data removed]",
      "text/plain": [
       "<Figure size 720x720 with 1 Axes>"
      ]
     },
     "metadata": {
      "needs_background": "light"
     },
     "output_type": "display_data"
    }
   ],
   "source": [
    "data.plot(y='last_price', kind='hist', bins=50, range=(0,3e+06), figsize=(10,10), title='цена')\n",
    "data.plot(y='last_price', kind='hist', bins=50, range=(0,1e+07), figsize=(10, 10), title='цена')\n",
    "data.drop(index=data.query('last_price < 1e+05').index,inplace=True)"
   ]
  },
  {
   "cell_type": "code",
   "execution_count": 19,
   "metadata": {},
   "outputs": [
    {
     "data": {
      "text/plain": [
       "<AxesSubplot:title={'center':'Площади квартир'}, ylabel='Frequency'>"
      ]
     },
     "execution_count": 19,
     "metadata": {},
     "output_type": "execute_result"
    },
    {
     "data": {
      "image/png": "[encoded data removed]",
      "text/plain": [
       "<Figure size 432x288 with 1 Axes>"
      ]
     },
     "metadata": {
      "needs_background": "light"
     },
     "output_type": "display_data"
    }
   ],
   "source": [
    "data['total_area'].plot(kind='hist', bins=5, title='Площади квартир')"
   ]
  },
  {
   "cell_type": "markdown",
   "metadata": {},
   "source": [
    "Основное кол-во квартир < 100 кв.метров, что логично. Однако есть квартиры аж более 400м^2, а это много. Если это и не оишбки, то уж точно не типичные ситуации, избавимся от них"
   ]
  },
  {
   "cell_type": "code",
   "execution_count": 20,
   "metadata": {},
   "outputs": [
    {
     "name": "stdout",
     "output_type": "stream",
     "text": [
      "Менее 100 метров -> 21674\n",
      "Менее 25 метров -> 186\n",
      "Менее 20 метров -> 27\n",
      "Менее 15 метров -> 6\n",
      "Менее 10 метров -> 0\n",
      "\n"
     ]
    }
   ],
   "source": [
    "print('Менее 100 метров ->', data.query('total_area < 100')['total_area'].count())\n",
    "print('Менее 25 метров ->', data.query('total_area < 25')['total_area'].count())\n",
    "print('Менее 20 метров ->', data.query('total_area < 20')['total_area'].count())\n",
    "print('Менее 15 метров ->', data.query('total_area < 15')['total_area'].count())\n",
    "print('Менее 10 метров ->', data.query('total_area < 10')['total_area'].count())\n",
    "print()"
   ]
  },
  {
   "cell_type": "code",
   "execution_count": 21,
   "metadata": {},
   "outputs": [
    {
     "name": "stdout",
     "output_type": "stream",
     "text": [
      "Более 400 метров -> 14\n"
     ]
    }
   ],
   "source": [
    "print('Более 400 метров ->', data.query('total_area > 400')['total_area'].count())"
   ]
  },
  {
   "cell_type": "code",
   "execution_count": 22,
   "metadata": {},
   "outputs": [
    {
     "data": {
      "text/plain": [
       "<AxesSubplot:title={'center':'Квартиры с площадью менее 400 м'}, ylabel='Frequency'>"
      ]
     },
     "execution_count": 22,
     "metadata": {},
     "output_type": "execute_result"
    },
    {
     "data": {
      "image/png": "[encoded data removed]",
      "text/plain": [
       "<Figure size 432x288 with 1 Axes>"
      ]
     },
     "metadata": {
      "needs_background": "light"
     },
     "output_type": "display_data"
    }
   ],
   "source": [
    "data.drop(index=data.query('total_area > 400').index, inplace=True)\n",
    "data['total_area'].plot(kind='hist', title='Квартиры с площадью менее 400 м')"
   ]
  },
  {
   "cell_type": "code",
   "execution_count": 23,
   "metadata": {},
   "outputs": [
    {
     "data": {
      "text/plain": [
       "array([[<AxesSubplot:title={'center':'total_area'}>]], dtype=object)"
      ]
     },
     "execution_count": 23,
     "metadata": {},
     "output_type": "execute_result"
    },
    {
     "data": {
      "image/png": "[encoded data removed]",
      "text/plain": [
       "<Figure size 720x720 with 1 Axes>"
      ]
     },
     "metadata": {
      "needs_background": "light"
     },
     "output_type": "display_data"
    },
    {
     "data": {
      "image/png": "[encoded data removed]",
      "text/plain": [
       "<Figure size 720x720 with 1 Axes>"
      ]
     },
     "metadata": {
      "needs_background": "light"
     },
     "output_type": "display_data"
    }
   ],
   "source": [
    "data.hist('total_area', bins=40, range=(0,500), figsize=(10, 10))\n",
    "data.hist('total_area', bins=60, range=(0,100), figsize=(10, 10))"
   ]
  },
  {
   "cell_type": "code",
   "execution_count": 24,
   "metadata": {},
   "outputs": [
    {
     "data": {
      "text/plain": [
       "count    23513.000000\n",
       "mean         2.063369\n",
       "std          1.063315\n",
       "min          0.000000\n",
       "25%          1.000000\n",
       "50%          2.000000\n",
       "75%          3.000000\n",
       "max         19.000000\n",
       "Name: rooms, dtype: float64"
      ]
     },
     "execution_count": 24,
     "metadata": {},
     "output_type": "execute_result"
    }
   ],
   "source": [
    "data['rooms'].describe()"
   ]
  },
  {
   "cell_type": "markdown",
   "metadata": {},
   "source": [
    "0 комнат и 19 очень интересные, надо обратить на них внимание"
   ]
  },
  {
   "cell_type": "code",
   "execution_count": 25,
   "metadata": {},
   "outputs": [
    {
     "name": "stdout",
     "output_type": "stream",
     "text": [
      "Объявлений где 0 комнат ->  194\n",
      "Объявлений где 0 комнат и апартаменты ->  188\n",
      "Объявлений где 0 комнат и студия ->  135\n",
      "Объявлений где 0 комнат и свободная планировка ->  59\n",
      "Объявлений где 0 комнат и не студия, и не апартаменты ->  1\n"
     ]
    }
   ],
   "source": [
    "print('Объявлений где 0 комнат -> ', data.query('rooms == 0').count()['rooms'])\n",
    "print('Объявлений где 0 комнат и апартаменты -> ', data.query('rooms == 0 and is_apartment').count()['rooms'])\n",
    "print('Объявлений где 0 комнат и студия -> ', data.query('rooms == 0 and is_studio').count()['rooms'])\n",
    "print('Объявлений где 0 комнат и свободная планировка -> ', data.query('rooms == 0 and is_open_plan').count()['rooms'])\n",
    "print('Объявлений где 0 комнат и не студия, и не апартаменты -> ',       data.query('rooms == 0 and ~is_studio and ~is_apartment').count()['rooms'])"
   ]
  },
  {
   "cell_type": "code",
   "execution_count": 26,
   "metadata": {},
   "outputs": [
    {
     "name": "stdout",
     "output_type": "stream",
     "text": [
      "23513\n",
      "Объявлений где высота потолка 0 ->  0\n",
      "Объявлений где высота потолка ниже 2 метров ->  3\n",
      "Объявлений где высота потолка ниже 2.5 метров ->  73\n",
      "Объявлений где высота потолка выше 4 метров ->  68\n"
     ]
    }
   ],
   "source": [
    "print(data['ceiling_height'].count())\n",
    "print('Объявлений где высота потолка 0 -> ', data.query('ceiling_height == 0').count()['ceiling_height'])\n",
    "print('Объявлений где высота потолка ниже 2 метров -> ', data.query('ceiling_height < 2').count()['ceiling_height'])\n",
    "print('Объявлений где высота потолка ниже 2.5 метров -> ', data.query('ceiling_height < 2.5').count()['ceiling_height'])\n",
    "print('Объявлений где высота потолка выше 4 метров -> ', data.query('ceiling_height > 4').count()['ceiling_height'])"
   ]
  },
  {
   "cell_type": "markdown",
   "metadata": {},
   "source": [
    "потолки менее 2 метров не звучит, как адекватное значение"
   ]
  },
  {
   "cell_type": "code",
   "execution_count": 27,
   "metadata": {},
   "outputs": [
    {
     "name": "stdout",
     "output_type": "stream",
     "text": [
      "Объявлений где высота потолка выше 25 метров ->  13\n",
      "Объявлений где высота потолка выше 36 метров ->  1\n",
      "Объявлений где высота потолка выше 25 метров, но ниже 36 ->  12\n"
     ]
    }
   ],
   "source": [
    "print('Объявлений где высота потолка выше 25 метров -> ', data.query('ceiling_height > 25').count()['ceiling_height'])\n",
    "print('Объявлений где высота потолка выше 36 метров -> ', data.query('ceiling_height > 36').count()['ceiling_height'])\n",
    "print('Объявлений где высота потолка выше 25 метров, но ниже 36 -> ',       data.query('25 < ceiling_height < 36').count()['ceiling_height'])"
   ]
  },
  {
   "cell_type": "markdown",
   "metadata": {},
   "source": [
    "скорее всего, все данные > 10 метров являются ошибочными. То есть 10 изначально планировалось как 1.0, 20 как 2.0 итд. Однако от некоторых все равно избавился"
   ]
  },
  {
   "cell_type": "code",
   "execution_count": 28,
   "metadata": {},
   "outputs": [
    {
     "data": {
      "text/plain": [
       "count    23484.000000\n",
       "mean         2.695408\n",
       "std          0.217322\n",
       "min          1.000000\n",
       "25%          2.600000\n",
       "50%          2.650000\n",
       "75%          2.700000\n",
       "max          5.800000\n",
       "Name: ceiling_height, dtype: float64"
      ]
     },
     "execution_count": 28,
     "metadata": {},
     "output_type": "execute_result"
    }
   ],
   "source": [
    "data.drop(index=data.query('ceiling_height > 7').index, inplace=True)\n",
    "data['ceiling_height'].describe()"
   ]
  },
  {
   "cell_type": "code",
   "execution_count": 29,
   "metadata": {},
   "outputs": [
    {
     "data": {
      "text/plain": [
       "<AxesSubplot:title={'center':'высота потолков'}, ylabel='Frequency'>"
      ]
     },
     "execution_count": 29,
     "metadata": {},
     "output_type": "execute_result"
    },
    {
     "data": {
      "image/png": "[encoded data removed]",
      "text/plain": [
       "<Figure size 504x504 with 1 Axes>"
      ]
     },
     "metadata": {
      "needs_background": "light"
     },
     "output_type": "display_data"
    }
   ],
   "source": [
    "data['ceiling_height'].plot(kind='hist', title='высота потолков', bins=50, range=(0, 5), figsize=(7, 7))"
   ]
  },
  {
   "cell_type": "code",
   "execution_count": 30,
   "metadata": {},
   "outputs": [
    {
     "name": "stdout",
     "output_type": "stream",
     "text": [
      "Объявлений где высота потолка ниже 2.5 метров ->  73\n"
     ]
    }
   ],
   "source": [
    "print('Объявлений где высота потолка ниже 2.5 метров -> ', data.query('ceiling_height < 2.5').count()['ceiling_height'])"
   ]
  },
  {
   "cell_type": "markdown",
   "metadata": {},
   "source": [
    "высота потолков не может быть <2.5 метров, поэтому дропаем"
   ]
  },
  {
   "cell_type": "code",
   "execution_count": 31,
   "metadata": {},
   "outputs": [],
   "source": [
    "data.drop(index=data.query('ceiling_height < 2.5').index, inplace=True)"
   ]
  },
  {
   "cell_type": "code",
   "execution_count": 32,
   "metadata": {},
   "outputs": [
    {
     "data": {
      "text/plain": [
       "count    23411.000000\n",
       "mean        10.693307\n",
       "std          6.596725\n",
       "min          1.000000\n",
       "25%          5.000000\n",
       "50%          9.000000\n",
       "75%         16.000000\n",
       "max         60.000000\n",
       "Name: floors_total, dtype: float64"
      ]
     },
     "execution_count": 32,
     "metadata": {},
     "output_type": "execute_result"
    }
   ],
   "source": [
    "data['floors_total'].describe()"
   ]
  },
  {
   "cell_type": "code",
   "execution_count": 33,
   "metadata": {},
   "outputs": [
    {
     "name": "stdout",
     "output_type": "stream",
     "text": [
      "Количество квартир в доме с 1 этажом -> 23\n",
      "Количество квартир в доме с более чем 20 этажами -> 2666\n",
      "Количество квартир в доме с более чем 25 этажами -> 340\n",
      "Количество квартир в доме с более чем 30 этажами -> 30\n",
      "Количество квартир в доме с более чем 40 этажами -> 2\n"
     ]
    }
   ],
   "source": [
    "data.query('floors_total < 2').count()['floors_total']\n",
    "print('Количество квартир в доме с 1 этажом ->', data.query('floors_total == 1').count()['floors_total'])\n",
    "print('Количество квартир в доме с более чем 20 этажами ->', data.query('floors_total > 20').count()['floors_total'])\n",
    "print('Количество квартир в доме с более чем 25 этажами ->', data.query('floors_total > 25').count()['floors_total'])\n",
    "print('Количество квартир в доме с более чем 30 этажами ->', data.query('floors_total > 30').count()['floors_total'])\n",
    "print('Количество квартир в доме с более чем 40 этажами ->', data.query('floors_total > 40').count()['floors_total'])"
   ]
  },
  {
   "cell_type": "code",
   "execution_count": 34,
   "metadata": {},
   "outputs": [
    {
     "name": "stdout",
     "output_type": "stream",
     "text": [
      "\n"
     ]
    },
    {
     "data": {
      "image/png": "[encoded data removed]",
      "text/plain": [
       "<Figure size 576x576 with 1 Axes>"
      ]
     },
     "metadata": {
      "needs_background": "light"
     },
     "output_type": "display_data"
    }
   ],
   "source": [
    "data['floors_total'].plot(kind='hist', title='Этажность зданий', bins=25, figsize=(8, 8))\n",
    "data.drop(index=data.query('floors_total > 36').index, inplace=True)\n",
    "print()"
   ]
  },
  {
   "cell_type": "markdown",
   "metadata": {},
   "source": [
    "Основные здания - хрущевки (5 этажей) и Брежневки(9 этажей). Выглядит все логично"
   ]
  },
  {
   "cell_type": "code",
   "execution_count": 35,
   "metadata": {},
   "outputs": [
    {
     "name": "stdout",
     "output_type": "stream",
     "text": [
      "count    21558.000000\n",
      "mean        34.139702\n",
      "std         20.392414\n",
      "min          2.000000\n",
      "25%         18.600000\n",
      "50%         30.000000\n",
      "75%         42.200000\n",
      "max        264.500000\n",
      "Name: living_area, dtype: float64\n"
     ]
    }
   ],
   "source": [
    "print(data['living_area'].describe())"
   ]
  },
  {
   "cell_type": "code",
   "execution_count": 36,
   "metadata": {},
   "outputs": [
    {
     "name": "stdout",
     "output_type": "stream",
     "text": [
      "Количество квартир метражом менее 20 метров ->  6183\n",
      "Количество квартир метражом менее 15 метров ->  693\n",
      "Количество квартир метражом менее 10 метров ->  25\n"
     ]
    }
   ],
   "source": [
    "print('Количество квартир метражом менее 20 метров -> ', data.query('living_area < 20').count()['living_area'])\n",
    "print('Количество квартир метражом менее 15 метров -> ', data.query('living_area < 15').count()['living_area'])\n",
    "print('Количество квартир метражом менее 10 метров -> ', data.query('living_area < 10').count()['living_area'])"
   ]
  },
  {
   "cell_type": "markdown",
   "metadata": {},
   "source": [
    "Вряд ли квартиры с площадью менее 15м^2 правда существуют. Я надеюсь"
   ]
  },
  {
   "cell_type": "code",
   "execution_count": 37,
   "metadata": {},
   "outputs": [],
   "source": [
    "data.drop(index=data.query('living_area < 15').index, inplace=True)"
   ]
  },
  {
   "cell_type": "code",
   "execution_count": 38,
   "metadata": {},
   "outputs": [
    {
     "name": "stdout",
     "output_type": "stream",
     "text": [
      "Количество квартир метражом более 150 метров ->  91\n"
     ]
    }
   ],
   "source": [
    "print('Количество квартир метражом более 150 метров -> ', data.query('living_area > 150').count()['living_area'])\n",
    "data.drop(index=data.query('living_area > 150').index, inplace=True)"
   ]
  },
  {
   "cell_type": "code",
   "execution_count": 39,
   "metadata": {},
   "outputs": [
    {
     "data": {
      "text/plain": [
       "<AxesSubplot:title={'center':'Жилая площадь'}, ylabel='Frequency'>"
      ]
     },
     "execution_count": 39,
     "metadata": {},
     "output_type": "execute_result"
    },
    {
     "data": {
      "image/png": "[encoded data removed]",
      "text/plain": [
       "<Figure size 432x288 with 1 Axes>"
      ]
     },
     "metadata": {
      "needs_background": "light"
     },
     "output_type": "display_data"
    },
    {
     "data": {
      "image/png": "[encoded data removed]",
      "text/plain": [
       "<Figure size 432x288 with 1 Axes>"
      ]
     },
     "metadata": {
      "needs_background": "light"
     },
     "output_type": "display_data"
    }
   ],
   "source": [
    "data.plot(kind='hist', y='living_area', title='Жилая площадь', bins=50)\n",
    "data.plot(kind='hist', title='Жилая площадь', y='living_area', bins=50, range=(0, 70))"
   ]
  },
  {
   "cell_type": "code",
   "execution_count": 40,
   "metadata": {},
   "outputs": [
    {
     "data": {
      "text/plain": [
       "<AxesSubplot:title={'center':'Этаж квартиры'}, ylabel='Frequency'>"
      ]
     },
     "execution_count": 40,
     "metadata": {},
     "output_type": "execute_result"
    },
    {
     "data": {
      "image/png": "[encoded data removed]",
      "text/plain": [
       "<Figure size 432x288 with 1 Axes>"
      ]
     },
     "metadata": {
      "needs_background": "light"
     },
     "output_type": "display_data"
    }
   ],
   "source": [
    "data['floor'].describe()\n",
    "data['floor'].plot(kind='hist', title='Этаж квартиры', bins=25)"
   ]
  },
  {
   "cell_type": "code",
   "execution_count": 41,
   "metadata": {},
   "outputs": [
    {
     "name": "stdout",
     "output_type": "stream",
     "text": [
      "count    20490.000000\n",
      "mean        10.410285\n",
      "std          5.536625\n",
      "min          1.300000\n",
      "25%          7.000000\n",
      "50%          9.000000\n",
      "75%         11.945000\n",
      "max        107.000000\n",
      "Name: kitchen_area, dtype: float64\n"
     ]
    },
    {
     "data": {
      "text/plain": [
       "<AxesSubplot:title={'center':'Плоащдь кухни'}, ylabel='Frequency'>"
      ]
     },
     "execution_count": 41,
     "metadata": {},
     "output_type": "execute_result"
    },
    {
     "data": {
      "image/png": "[encoded data removed]",
      "text/plain": [
       "<Figure size 432x288 with 1 Axes>"
      ]
     },
     "metadata": {
      "needs_background": "light"
     },
     "output_type": "display_data"
    }
   ],
   "source": [
    "print(data['kitchen_area'].describe())\n",
    "data['kitchen_area'].plot(kind='hist', title='Плоащдь кухни')"
   ]
  },
  {
   "cell_type": "code",
   "execution_count": 42,
   "metadata": {},
   "outputs": [
    {
     "name": "stdout",
     "output_type": "stream",
     "text": [
      "Кухни менее 15 метров -> 18022\n",
      "Кухни менее 10 метров -> 11291\n",
      "Кухни менее 8 метров -> 6411\n",
      "Кухни менее 5 метров -> 93\n",
      "Кухни более 40 метров -> 102\n"
     ]
    }
   ],
   "source": [
    "print('Кухни менее 15 метров ->', data.query('kitchen_area < 15').count()['kitchen_area']) # Видимо стандартный размер\n",
    "print('Кухни менее 10 метров ->', data.query('kitchen_area < 10').count()['kitchen_area'])\n",
    "print('Кухни менее 8 метров ->', data.query('kitchen_area < 8').count()['kitchen_area']) # а это уже ниже минимума по СНИП\n",
    "print('Кухни менее 5 метров ->', data.query('kitchen_area < 5').count()['kitchen_area']) # меньше 5 метров в 91 квартире\n",
    "print('Кухни более 40 метров ->', data.query('kitchen_area > 40').count()['kitchen_area'])"
   ]
  },
  {
   "cell_type": "markdown",
   "metadata": {},
   "source": [
    "Чаще всего кухни маленькие, однако не менее 5 м^2, но вряд ли и более 40. Дропаем"
   ]
  },
  {
   "cell_type": "code",
   "execution_count": 43,
   "metadata": {},
   "outputs": [],
   "source": [
    "data.drop(index=data.query(' kitchen_area < 5').index, inplace=True)\n",
    "data.drop(index=data.query(' kitchen_area > 40').index, inplace=True)"
   ]
  },
  {
   "cell_type": "code",
   "execution_count": 44,
   "metadata": {},
   "outputs": [
    {
     "data": {
      "text/plain": [
       "<AxesSubplot:title={'center':'Плоащдь кухни'}, ylabel='Frequency'>"
      ]
     },
     "execution_count": 44,
     "metadata": {},
     "output_type": "execute_result"
    },
    {
     "data": {
      "image/png": "[encoded data removed]",
      "text/plain": [
       "<Figure size 432x288 with 1 Axes>"
      ]
     },
     "metadata": {
      "needs_background": "light"
     },
     "output_type": "display_data"
    }
   ],
   "source": [
    "data.plot(y='kitchen_area', kind='hist', bins=30, range=(0, 30), title='Плоащдь кухни')"
   ]
  },
  {
   "cell_type": "code",
   "execution_count": 45,
   "metadata": {},
   "outputs": [
    {
     "name": "stdout",
     "output_type": "stream",
     "text": [
      "count    22430.000000\n",
      "mean         0.594427\n",
      "std          0.963221\n",
      "min          0.000000\n",
      "25%          0.000000\n",
      "50%          0.000000\n",
      "75%          1.000000\n",
      "max          5.000000\n",
      "Name: balcony, dtype: float64\n"
     ]
    },
    {
     "data": {
      "text/plain": [
       "<AxesSubplot:title={'center':'Балконы'}, ylabel='Frequency'>"
      ]
     },
     "execution_count": 45,
     "metadata": {},
     "output_type": "execute_result"
    },
    {
     "data": {
      "image/png": "[encoded data removed]",
      "text/plain": [
       "<Figure size 576x576 with 1 Axes>"
      ]
     },
     "metadata": {
      "needs_background": "light"
     },
     "output_type": "display_data"
    }
   ],
   "source": [
    "print(data['balcony'].describe())\n",
    "data['balcony'].plot(kind='hist', bins=10, figsize=(8, 8), title='Балконы')"
   ]
  },
  {
   "cell_type": "code",
   "execution_count": 46,
   "metadata": {},
   "outputs": [
    {
     "name": "stdout",
     "output_type": "stream",
     "text": [
      "count    19413.000000\n",
      "mean       180.632875\n",
      "std        219.486391\n",
      "min          1.000000\n",
      "25%         45.000000\n",
      "50%         95.000000\n",
      "75%        231.000000\n",
      "max       1580.000000\n",
      "Name: days_exposition, dtype: float64\n"
     ]
    },
    {
     "data": {
      "text/plain": [
       "<AxesSubplot:title={'center':'Сколько дней прошло до продажи'}, ylabel='Frequency'>"
      ]
     },
     "execution_count": 46,
     "metadata": {},
     "output_type": "execute_result"
    },
    {
     "data": {
      "image/png": "[encoded data removed]",
      "text/plain": [
       "<Figure size 720x720 with 1 Axes>"
      ]
     },
     "metadata": {
      "needs_background": "light"
     },
     "output_type": "display_data"
    }
   ],
   "source": [
    "print(data['days_exposition'].describe())\n",
    "data['days_exposition'].plot(kind='hist', bins=100, figsize=(10, 10), title='Сколько дней прошло до продажи')"
   ]
  },
  {
   "cell_type": "code",
   "execution_count": 47,
   "metadata": {},
   "outputs": [],
   "source": [
    "data.drop(index=data.query('days_exposition > 365*2').index, inplace=True)"
   ]
  },
  {
   "cell_type": "markdown",
   "metadata": {},
   "source": [
    "Очень мало квартир, которые не могут продать за 2 года, удалю их"
   ]
  },
  {
   "cell_type": "code",
   "execution_count": 48,
   "metadata": {},
   "outputs": [
    {
     "name": "stdout",
     "output_type": "stream",
     "text": [
      "count    16646.000000\n",
      "mean     28795.557311\n",
      "std      12652.426910\n",
      "min          0.000000\n",
      "25%      18459.750000\n",
      "50%      26866.500000\n",
      "75%      37288.000000\n",
      "max      84853.000000\n",
      "Name: airports_nearest, dtype: float64\n"
     ]
    },
    {
     "data": {
      "text/plain": [
       "<AxesSubplot:title={'center':'Ближайший аэропорт'}, ylabel='Frequency'>"
      ]
     },
     "execution_count": 48,
     "metadata": {},
     "output_type": "execute_result"
    },
    {
     "data": {
      "image/png": "[encoded data removed]",
      "text/plain": [
       "<Figure size 1080x576 with 1 Axes>"
      ]
     },
     "metadata": {
      "needs_background": "light"
     },
     "output_type": "display_data"
    }
   ],
   "source": [
    "print(data['airports_nearest'].describe())\n",
    "data['airports_nearest'].plot(kind='hist', bins=50, figsize=(15, 8), title='Ближайший аэропорт')"
   ]
  },
  {
   "cell_type": "code",
   "execution_count": 49,
   "metadata": {},
   "outputs": [
    {
     "data": {
      "text/plain": [
       "282"
      ]
     },
     "execution_count": 49,
     "metadata": {},
     "output_type": "execute_result"
    }
   ],
   "source": [
    "data.query('airports_nearest < 10000').count()['airports_nearest']"
   ]
  },
  {
   "cell_type": "code",
   "execution_count": 50,
   "metadata": {},
   "outputs": [],
   "source": [
    "data.drop(index=data.query('airports_nearest < 10000').index, inplace=True)"
   ]
  },
  {
   "cell_type": "markdown",
   "metadata": {},
   "source": [
    "### Посчитайте и добавьте в таблицу новые столбцы"
   ]
  },
  {
   "cell_type": "code",
   "execution_count": 51,
   "metadata": {},
   "outputs": [
    {
     "data": {
      "text/html": [
       "<div>\n",
       "<style scoped>\n",
       "    .dataframe tbody tr th:only-of-type {\n",
       "        vertical-align: middle;\n",
       "    }\n",
       "\n",
       "    .dataframe tbody tr th {\n",
       "        vertical-align: top;\n",
       "    }\n",
       "\n",
       "    .dataframe thead th {\n",
       "        text-align: right;\n",
       "    }\n",
       "</style>\n",
       "<table border=\"1\" class=\"dataframe\">\n",
       "  <thead>\n",
       "    <tr style=\"text-align: right;\">\n",
       "      <th></th>\n",
       "      <th>total_images</th>\n",
       "      <th>last_price</th>\n",
       "      <th>total_area</th>\n",
       "      <th>first_day_exposition</th>\n",
       "      <th>rooms</th>\n",
       "      <th>ceiling_height</th>\n",
       "      <th>floors_total</th>\n",
       "      <th>living_area</th>\n",
       "      <th>floor</th>\n",
       "      <th>is_apartment</th>\n",
       "      <th>...</th>\n",
       "      <th>balcony</th>\n",
       "      <th>locality_name</th>\n",
       "      <th>airports_nearest</th>\n",
       "      <th>city_centers_nearest</th>\n",
       "      <th>parks_around_3000</th>\n",
       "      <th>parks_nearest</th>\n",
       "      <th>ponds_around_3000</th>\n",
       "      <th>ponds_nearest</th>\n",
       "      <th>days_exposition</th>\n",
       "      <th>one_sqr_m_price</th>\n",
       "    </tr>\n",
       "  </thead>\n",
       "  <tbody>\n",
       "    <tr>\n",
       "      <th>0</th>\n",
       "      <td>20</td>\n",
       "      <td>13000000.0</td>\n",
       "      <td>108.0</td>\n",
       "      <td>2019-03-07</td>\n",
       "      <td>3</td>\n",
       "      <td>2.70</td>\n",
       "      <td>16.0</td>\n",
       "      <td>51.0</td>\n",
       "      <td>8</td>\n",
       "      <td>True</td>\n",
       "      <td>...</td>\n",
       "      <td>0</td>\n",
       "      <td>санкт-петербург</td>\n",
       "      <td>18863.0</td>\n",
       "      <td>16028.0</td>\n",
       "      <td>1.0</td>\n",
       "      <td>482.0</td>\n",
       "      <td>2.0</td>\n",
       "      <td>755.0</td>\n",
       "      <td>NaN</td>\n",
       "      <td>120370.370370</td>\n",
       "    </tr>\n",
       "    <tr>\n",
       "      <th>1</th>\n",
       "      <td>7</td>\n",
       "      <td>3350000.0</td>\n",
       "      <td>40.4</td>\n",
       "      <td>2018-12-04</td>\n",
       "      <td>1</td>\n",
       "      <td>2.65</td>\n",
       "      <td>11.0</td>\n",
       "      <td>18.6</td>\n",
       "      <td>1</td>\n",
       "      <td>True</td>\n",
       "      <td>...</td>\n",
       "      <td>2</td>\n",
       "      <td>поселок шушары</td>\n",
       "      <td>12817.0</td>\n",
       "      <td>18603.0</td>\n",
       "      <td>0.0</td>\n",
       "      <td>NaN</td>\n",
       "      <td>0.0</td>\n",
       "      <td>NaN</td>\n",
       "      <td>81.0</td>\n",
       "      <td>82920.792079</td>\n",
       "    </tr>\n",
       "    <tr>\n",
       "      <th>2</th>\n",
       "      <td>10</td>\n",
       "      <td>5196000.0</td>\n",
       "      <td>56.0</td>\n",
       "      <td>2015-08-20</td>\n",
       "      <td>2</td>\n",
       "      <td>2.65</td>\n",
       "      <td>5.0</td>\n",
       "      <td>34.3</td>\n",
       "      <td>4</td>\n",
       "      <td>True</td>\n",
       "      <td>...</td>\n",
       "      <td>0</td>\n",
       "      <td>санкт-петербург</td>\n",
       "      <td>21741.0</td>\n",
       "      <td>13933.0</td>\n",
       "      <td>1.0</td>\n",
       "      <td>90.0</td>\n",
       "      <td>2.0</td>\n",
       "      <td>574.0</td>\n",
       "      <td>558.0</td>\n",
       "      <td>92785.714286</td>\n",
       "    </tr>\n",
       "    <tr>\n",
       "      <th>3</th>\n",
       "      <td>0</td>\n",
       "      <td>64900000.0</td>\n",
       "      <td>159.0</td>\n",
       "      <td>2015-07-24</td>\n",
       "      <td>3</td>\n",
       "      <td>2.65</td>\n",
       "      <td>14.0</td>\n",
       "      <td>NaN</td>\n",
       "      <td>9</td>\n",
       "      <td>True</td>\n",
       "      <td>...</td>\n",
       "      <td>0</td>\n",
       "      <td>санкт-петербург</td>\n",
       "      <td>28098.0</td>\n",
       "      <td>6800.0</td>\n",
       "      <td>2.0</td>\n",
       "      <td>84.0</td>\n",
       "      <td>3.0</td>\n",
       "      <td>234.0</td>\n",
       "      <td>424.0</td>\n",
       "      <td>408176.100629</td>\n",
       "    </tr>\n",
       "    <tr>\n",
       "      <th>7</th>\n",
       "      <td>5</td>\n",
       "      <td>7915000.0</td>\n",
       "      <td>71.6</td>\n",
       "      <td>2019-04-18</td>\n",
       "      <td>2</td>\n",
       "      <td>2.65</td>\n",
       "      <td>24.0</td>\n",
       "      <td>NaN</td>\n",
       "      <td>22</td>\n",
       "      <td>True</td>\n",
       "      <td>...</td>\n",
       "      <td>2</td>\n",
       "      <td>санкт-петербург</td>\n",
       "      <td>23982.0</td>\n",
       "      <td>11634.0</td>\n",
       "      <td>0.0</td>\n",
       "      <td>NaN</td>\n",
       "      <td>0.0</td>\n",
       "      <td>NaN</td>\n",
       "      <td>NaN</td>\n",
       "      <td>110544.692737</td>\n",
       "    </tr>\n",
       "  </tbody>\n",
       "</table>\n",
       "<p>5 rows × 23 columns</p>\n",
       "</div>"
      ],
      "text/plain": [
       "   total_images  last_price  total_area first_day_exposition  rooms  \\\n",
       "0            20  13000000.0       108.0           2019-03-07      3   \n",
       "1             7   3350000.0        40.4           2018-12-04      1   \n",
       "2            10   5196000.0        56.0           2015-08-20      2   \n",
       "3             0  64900000.0       159.0           2015-07-24      3   \n",
       "7             5   7915000.0        71.6           2019-04-18      2   \n",
       "\n",
       "   ceiling_height  floors_total  living_area  floor  is_apartment  ...  \\\n",
       "0            2.70          16.0         51.0      8          True  ...   \n",
       "1            2.65          11.0         18.6      1          True  ...   \n",
       "2            2.65           5.0         34.3      4          True  ...   \n",
       "3            2.65          14.0          NaN      9          True  ...   \n",
       "7            2.65          24.0          NaN     22          True  ...   \n",
       "\n",
       "   balcony    locality_name  airports_nearest  city_centers_nearest  \\\n",
       "0        0  санкт-петербург           18863.0               16028.0   \n",
       "1        2   поселок шушары           12817.0               18603.0   \n",
       "2        0  санкт-петербург           21741.0               13933.0   \n",
       "3        0  санкт-петербург           28098.0                6800.0   \n",
       "7        2  санкт-петербург           23982.0               11634.0   \n",
       "\n",
       "  parks_around_3000  parks_nearest  ponds_around_3000  ponds_nearest  \\\n",
       "0               1.0          482.0                2.0          755.0   \n",
       "1               0.0            NaN                0.0            NaN   \n",
       "2               1.0           90.0                2.0          574.0   \n",
       "3               2.0           84.0                3.0          234.0   \n",
       "7               0.0            NaN                0.0            NaN   \n",
       "\n",
       "   days_exposition  one_sqr_m_price  \n",
       "0              NaN    120370.370370  \n",
       "1             81.0     82920.792079  \n",
       "2            558.0     92785.714286  \n",
       "3            424.0    408176.100629  \n",
       "7              NaN    110544.692737  \n",
       "\n",
       "[5 rows x 23 columns]"
      ]
     },
     "execution_count": 51,
     "metadata": {},
     "output_type": "execute_result"
    }
   ],
   "source": [
    "data['one_sqr_m_price'] = data['last_price'] / data['total_area']\n",
    "data.head()"
   ]
  },
  {
   "cell_type": "markdown",
   "metadata": {},
   "source": [
    "Цена за 1 м^2"
   ]
  },
  {
   "cell_type": "code",
   "execution_count": 52,
   "metadata": {},
   "outputs": [
    {
     "name": "stdout",
     "output_type": "stream",
     "text": [
      "<class 'pandas.core.frame.DataFrame'>\n",
      "Int64Index: 21434 entries, 0 to 23697\n",
      "Data columns (total 23 columns):\n",
      " #   Column                Non-Null Count  Dtype         \n",
      "---  ------                --------------  -----         \n",
      " 0   total_images          21434 non-null  int64         \n",
      " 1   last_price            21434 non-null  float64       \n",
      " 2   total_area            21434 non-null  float64       \n",
      " 3   first_day_exposition  21434 non-null  datetime64[ns]\n",
      " 4   rooms                 21434 non-null  int64         \n",
      " 5   ceiling_height        21434 non-null  float64       \n",
      " 6   floors_total          21434 non-null  float64       \n",
      " 7   living_area           19659 non-null  float64       \n",
      " 8   floor                 21434 non-null  int64         \n",
      " 9   is_apartment          21434 non-null  bool          \n",
      " 10  is_studio             21434 non-null  bool          \n",
      " 11  is_open_plan          21434 non-null  bool          \n",
      " 12  kitchen_area          19378 non-null  float64       \n",
      " 13  balcony               21434 non-null  int64         \n",
      " 14  locality_name         21434 non-null  object        \n",
      " 15  airports_nearest      16364 non-null  float64       \n",
      " 16  city_centers_nearest  16384 non-null  float64       \n",
      " 17  parks_around_3000     16385 non-null  float64       \n",
      " 18  parks_nearest         7176 non-null   float64       \n",
      " 19  ponds_around_3000     16385 non-null  float64       \n",
      " 20  ponds_nearest         8169 non-null   float64       \n",
      " 21  days_exposition       18450 non-null  float64       \n",
      " 22  one_sqr_m_price       21434 non-null  float64       \n",
      "dtypes: bool(3), datetime64[ns](1), float64(14), int64(4), object(1)\n",
      "memory usage: 3.5+ MB\n"
     ]
    }
   ],
   "source": [
    "data.info()\n",
    "data['day_of_week'] = data['first_day_exposition'].dt.dayofweek\n",
    "data['month'] = data['first_day_exposition'].dt.month\n",
    "data['year'] = data['first_day_exposition'].dt.year"
   ]
  },
  {
   "cell_type": "markdown",
   "metadata": {},
   "source": [
    "Более подробно про даты"
   ]
  },
  {
   "cell_type": "code",
   "execution_count": 53,
   "metadata": {},
   "outputs": [],
   "source": [
    "data['floor_type'] = data.apply(\n",
    "    lambda x: 'первый' if (x.floor == 1)\n",
    "    else ('последний' if (x.floor == x.floors_total)\n",
    "    else 'другой'), axis=1\n",
    ")\n",
    "\n",
    "data['floor_type_number'] = data.apply(\n",
    "    lambda x: 0 if (x.floor == 1) \n",
    "    else (2 if (x.floor == x.floors_total)\n",
    "    else 1), axis=1\n",
    ")"
   ]
  },
  {
   "cell_type": "markdown",
   "metadata": {},
   "source": [
    "Добавил типы этажей"
   ]
  },
  {
   "cell_type": "code",
   "execution_count": 54,
   "metadata": {},
   "outputs": [
    {
     "name": "stdout",
     "output_type": "stream",
     "text": [
      "другой       15742\n",
      "последний     3021\n",
      "первый        2671\n",
      "Name: floor_type, dtype: int64\n",
      "1    15742\n",
      "2     3021\n",
      "0     2671\n",
      "Name: floor_type_number, dtype: int64\n"
     ]
    }
   ],
   "source": [
    "print(data['floor_type'].value_counts())\n",
    "print(data['floor_type_number'].value_counts())"
   ]
  },
  {
   "cell_type": "code",
   "execution_count": 55,
   "metadata": {},
   "outputs": [
    {
     "data": {
      "text/html": [
       "<div>\n",
       "<style scoped>\n",
       "    .dataframe tbody tr th:only-of-type {\n",
       "        vertical-align: middle;\n",
       "    }\n",
       "\n",
       "    .dataframe tbody tr th {\n",
       "        vertical-align: top;\n",
       "    }\n",
       "\n",
       "    .dataframe thead th {\n",
       "        text-align: right;\n",
       "    }\n",
       "</style>\n",
       "<table border=\"1\" class=\"dataframe\">\n",
       "  <thead>\n",
       "    <tr style=\"text-align: right;\">\n",
       "      <th></th>\n",
       "      <th>total_images</th>\n",
       "      <th>last_price</th>\n",
       "      <th>total_area</th>\n",
       "      <th>first_day_exposition</th>\n",
       "      <th>rooms</th>\n",
       "      <th>ceiling_height</th>\n",
       "      <th>floors_total</th>\n",
       "      <th>living_area</th>\n",
       "      <th>floor</th>\n",
       "      <th>is_apartment</th>\n",
       "      <th>...</th>\n",
       "      <th>ponds_around_3000</th>\n",
       "      <th>ponds_nearest</th>\n",
       "      <th>days_exposition</th>\n",
       "      <th>one_sqr_m_price</th>\n",
       "      <th>day_of_week</th>\n",
       "      <th>month</th>\n",
       "      <th>year</th>\n",
       "      <th>floor_type</th>\n",
       "      <th>floor_type_number</th>\n",
       "      <th>city_centers_nearest_km</th>\n",
       "    </tr>\n",
       "  </thead>\n",
       "  <tbody>\n",
       "    <tr>\n",
       "      <th>0</th>\n",
       "      <td>20</td>\n",
       "      <td>13000000.0</td>\n",
       "      <td>108.0</td>\n",
       "      <td>2019-03-07</td>\n",
       "      <td>3</td>\n",
       "      <td>2.70</td>\n",
       "      <td>16.0</td>\n",
       "      <td>51.0</td>\n",
       "      <td>8</td>\n",
       "      <td>True</td>\n",
       "      <td>...</td>\n",
       "      <td>2.0</td>\n",
       "      <td>755.0</td>\n",
       "      <td>NaN</td>\n",
       "      <td>120370.370370</td>\n",
       "      <td>3</td>\n",
       "      <td>3</td>\n",
       "      <td>2019</td>\n",
       "      <td>другой</td>\n",
       "      <td>1</td>\n",
       "      <td>16.0</td>\n",
       "    </tr>\n",
       "    <tr>\n",
       "      <th>1</th>\n",
       "      <td>7</td>\n",
       "      <td>3350000.0</td>\n",
       "      <td>40.4</td>\n",
       "      <td>2018-12-04</td>\n",
       "      <td>1</td>\n",
       "      <td>2.65</td>\n",
       "      <td>11.0</td>\n",
       "      <td>18.6</td>\n",
       "      <td>1</td>\n",
       "      <td>True</td>\n",
       "      <td>...</td>\n",
       "      <td>0.0</td>\n",
       "      <td>NaN</td>\n",
       "      <td>81.0</td>\n",
       "      <td>82920.792079</td>\n",
       "      <td>1</td>\n",
       "      <td>12</td>\n",
       "      <td>2018</td>\n",
       "      <td>первый</td>\n",
       "      <td>0</td>\n",
       "      <td>19.0</td>\n",
       "    </tr>\n",
       "    <tr>\n",
       "      <th>2</th>\n",
       "      <td>10</td>\n",
       "      <td>5196000.0</td>\n",
       "      <td>56.0</td>\n",
       "      <td>2015-08-20</td>\n",
       "      <td>2</td>\n",
       "      <td>2.65</td>\n",
       "      <td>5.0</td>\n",
       "      <td>34.3</td>\n",
       "      <td>4</td>\n",
       "      <td>True</td>\n",
       "      <td>...</td>\n",
       "      <td>2.0</td>\n",
       "      <td>574.0</td>\n",
       "      <td>558.0</td>\n",
       "      <td>92785.714286</td>\n",
       "      <td>3</td>\n",
       "      <td>8</td>\n",
       "      <td>2015</td>\n",
       "      <td>другой</td>\n",
       "      <td>1</td>\n",
       "      <td>14.0</td>\n",
       "    </tr>\n",
       "    <tr>\n",
       "      <th>3</th>\n",
       "      <td>0</td>\n",
       "      <td>64900000.0</td>\n",
       "      <td>159.0</td>\n",
       "      <td>2015-07-24</td>\n",
       "      <td>3</td>\n",
       "      <td>2.65</td>\n",
       "      <td>14.0</td>\n",
       "      <td>NaN</td>\n",
       "      <td>9</td>\n",
       "      <td>True</td>\n",
       "      <td>...</td>\n",
       "      <td>3.0</td>\n",
       "      <td>234.0</td>\n",
       "      <td>424.0</td>\n",
       "      <td>408176.100629</td>\n",
       "      <td>4</td>\n",
       "      <td>7</td>\n",
       "      <td>2015</td>\n",
       "      <td>другой</td>\n",
       "      <td>1</td>\n",
       "      <td>7.0</td>\n",
       "    </tr>\n",
       "    <tr>\n",
       "      <th>7</th>\n",
       "      <td>5</td>\n",
       "      <td>7915000.0</td>\n",
       "      <td>71.6</td>\n",
       "      <td>2019-04-18</td>\n",
       "      <td>2</td>\n",
       "      <td>2.65</td>\n",
       "      <td>24.0</td>\n",
       "      <td>NaN</td>\n",
       "      <td>22</td>\n",
       "      <td>True</td>\n",
       "      <td>...</td>\n",
       "      <td>0.0</td>\n",
       "      <td>NaN</td>\n",
       "      <td>NaN</td>\n",
       "      <td>110544.692737</td>\n",
       "      <td>3</td>\n",
       "      <td>4</td>\n",
       "      <td>2019</td>\n",
       "      <td>другой</td>\n",
       "      <td>1</td>\n",
       "      <td>12.0</td>\n",
       "    </tr>\n",
       "  </tbody>\n",
       "</table>\n",
       "<p>5 rows × 29 columns</p>\n",
       "</div>"
      ],
      "text/plain": [
       "   total_images  last_price  total_area first_day_exposition  rooms  \\\n",
       "0            20  13000000.0       108.0           2019-03-07      3   \n",
       "1             7   3350000.0        40.4           2018-12-04      1   \n",
       "2            10   5196000.0        56.0           2015-08-20      2   \n",
       "3             0  64900000.0       159.0           2015-07-24      3   \n",
       "7             5   7915000.0        71.6           2019-04-18      2   \n",
       "\n",
       "   ceiling_height  floors_total  living_area  floor  is_apartment  ...  \\\n",
       "0            2.70          16.0         51.0      8          True  ...   \n",
       "1            2.65          11.0         18.6      1          True  ...   \n",
       "2            2.65           5.0         34.3      4          True  ...   \n",
       "3            2.65          14.0          NaN      9          True  ...   \n",
       "7            2.65          24.0          NaN     22          True  ...   \n",
       "\n",
       "   ponds_around_3000  ponds_nearest  days_exposition  one_sqr_m_price  \\\n",
       "0                2.0          755.0              NaN    120370.370370   \n",
       "1                0.0            NaN             81.0     82920.792079   \n",
       "2                2.0          574.0            558.0     92785.714286   \n",
       "3                3.0          234.0            424.0    408176.100629   \n",
       "7                0.0            NaN              NaN    110544.692737   \n",
       "\n",
       "  day_of_week  month  year  floor_type  floor_type_number  \\\n",
       "0           3      3  2019      другой                  1   \n",
       "1           1     12  2018      первый                  0   \n",
       "2           3      8  2015      другой                  1   \n",
       "3           4      7  2015      другой                  1   \n",
       "7           3      4  2019      другой                  1   \n",
       "\n",
       "   city_centers_nearest_km  \n",
       "0                     16.0  \n",
       "1                     19.0  \n",
       "2                     14.0  \n",
       "3                      7.0  \n",
       "7                     12.0  \n",
       "\n",
       "[5 rows x 29 columns]"
      ]
     },
     "execution_count": 55,
     "metadata": {},
     "output_type": "execute_result"
    }
   ],
   "source": [
    "data['city_centers_nearest_km'] = round(data['city_centers_nearest'] / 1000)\n",
    "data.head()"
   ]
  },
  {
   "cell_type": "markdown",
   "metadata": {},
   "source": [
    "Расстояние в км от центра города"
   ]
  },
  {
   "cell_type": "markdown",
   "metadata": {},
   "source": [
    "### Проведите исследовательский анализ данных"
   ]
  },
  {
   "cell_type": "code",
   "execution_count": 56,
   "metadata": {},
   "outputs": [
    {
     "data": {
      "text/plain": [
       "<AxesSubplot:title={'center':'Жилая площадь'}, ylabel='Frequency'>"
      ]
     },
     "execution_count": 56,
     "metadata": {},
     "output_type": "execute_result"
    },
    {
     "data": {
      "image/png": "[encoded data removed]",
      "text/plain": [
       "<Figure size 432x288 with 1 Axes>"
      ]
     },
     "metadata": {
      "needs_background": "light"
     },
     "output_type": "display_data"
    },
    {
     "data": {
      "image/png": "[encoded data removed]",
      "text/plain": [
       "<Figure size 432x288 with 1 Axes>"
      ]
     },
     "metadata": {
      "needs_background": "light"
     },
     "output_type": "display_data"
    },
    {
     "data": {
      "image/png": "[encoded data removed]",
      "text/plain": [
       "<Figure size 432x288 with 1 Axes>"
      ]
     },
     "metadata": {
      "needs_background": "light"
     },
     "output_type": "display_data"
    },
    {
     "data": {
      "image/png": "[encoded data removed]",
      "text/plain": [
       "<Figure size 432x288 with 1 Axes>"
      ]
     },
     "metadata": {
      "needs_background": "light"
     },
     "output_type": "display_data"
    }
   ],
   "source": [
    "data.groupby(by='floor_type')['floor_type'].count().plot(kind='bar', ylabel = 'count', title='Тип этажа')\n",
    "data.plot(y='total_area', kind='hist', bins = 100, title='Общая площадь')\n",
    "data.plot(y='living_area', kind='hist', bins = 100, title='Жилая площадь')\n",
    "data.plot(y='living_area', kind='hist', bins = 100, title='Жилая площадь', range=(0, 60))"
   ]
  },
  {
   "cell_type": "markdown",
   "metadata": {},
   "source": [
    "Большинство квартир находится между первым и последними этажами. Логично\n",
    "Большинство площадей находится между 35 и 70 м^2, что логично\n",
    "Странно, что есть большие провалы, где жилая площадь между 20 и 30 м^2"
   ]
  },
  {
   "cell_type": "code",
   "execution_count": 57,
   "metadata": {},
   "outputs": [
    {
     "data": {
      "text/plain": [
       "<AxesSubplot:title={'center':'Площадь кухни'}, ylabel='Frequency'>"
      ]
     },
     "execution_count": 57,
     "metadata": {},
     "output_type": "execute_result"
    },
    {
     "data": {
      "image/png": "[encoded data removed]",
      "text/plain": [
       "<Figure size 432x288 with 1 Axes>"
      ]
     },
     "metadata": {
      "needs_background": "light"
     },
     "output_type": "display_data"
    },
    {
     "data": {
      "image/png": "[encoded data removed]",
      "text/plain": [
       "<Figure size 432x288 with 1 Axes>"
      ]
     },
     "metadata": {
      "needs_background": "light"
     },
     "output_type": "display_data"
    }
   ],
   "source": [
    "data.plot(y='kitchen_area', kind='hist', bins=100, title='Площадь кухни')\n",
    "data.plot(y='kitchen_area', kind='hist', bins=100, title='Площадь кухни', range=(0,20))"
   ]
  },
  {
   "cell_type": "markdown",
   "metadata": {},
   "source": [
    "Все выглядит логично. Есть огромные пики на опредленных площадях, скорее всего это стандратная планировка, было бы неплохо добавить такой столбец"
   ]
  },
  {
   "cell_type": "code",
   "execution_count": 58,
   "metadata": {},
   "outputs": [
    {
     "data": {
      "text/plain": [
       "<AxesSubplot:title={'center':'Последняя цена (модифицированная)'}, ylabel='Frequency'>"
      ]
     },
     "execution_count": 58,
     "metadata": {},
     "output_type": "execute_result"
    },
    {
     "data": {
      "image/png": "[encoded data removed]",
      "text/plain": [
       "<Figure size 432x288 with 1 Axes>"
      ]
     },
     "metadata": {
      "needs_background": "light"
     },
     "output_type": "display_data"
    },
    {
     "data": {
      "image/png": "[encoded data removed]",
      "text/plain": [
       "<Figure size 720x720 with 1 Axes>"
      ]
     },
     "metadata": {
      "needs_background": "light"
     },
     "output_type": "display_data"
    }
   ],
   "source": [
    "data.plot(y='last_price', kind='hist', bins=100, title='Цена на момент продажи')\n",
    "data.plot(y='last_price',kind='hist', bins=100, range=(0,3e+07), figsize=(10, 10), title='Последняя цена (модифицированная)')"
   ]
  },
  {
   "cell_type": "markdown",
   "metadata": {},
   "source": [
    "Все выглядит логично, Похоже на нормальное распределние"
   ]
  },
  {
   "cell_type": "code",
   "execution_count": 59,
   "metadata": {},
   "outputs": [
    {
     "data": {
      "text/plain": [
       "<AxesSubplot:title={'center':'Комнаты'}, ylabel='Frequency'>"
      ]
     },
     "execution_count": 59,
     "metadata": {},
     "output_type": "execute_result"
    },
    {
     "data": {
      "image/png": "[encoded data removed]",
      "text/plain": [
       "<Figure size 432x288 with 1 Axes>"
      ]
     },
     "metadata": {
      "needs_background": "light"
     },
     "output_type": "display_data"
    }
   ],
   "source": [
    "data.plot(y='rooms', kind='hist', bins=data['rooms'].max(), title='Комнаты')"
   ]
  },
  {
   "cell_type": "markdown",
   "metadata": {},
   "source": [
    "Большинство домов имеют 1-3 комнаты, что соответсвует действительности. > 3 кмонат - элитное жилье"
   ]
  },
  {
   "cell_type": "code",
   "execution_count": 60,
   "metadata": {},
   "outputs": [
    {
     "data": {
      "text/plain": [
       "<AxesSubplot:title={'center':'Высота потолков'}, ylabel='Frequency'>"
      ]
     },
     "execution_count": 60,
     "metadata": {},
     "output_type": "execute_result"
    },
    {
     "data": {
      "image/png": "[encoded data removed]",
      "text/plain": [
       "<Figure size 432x288 with 1 Axes>"
      ]
     },
     "metadata": {
      "needs_background": "light"
     },
     "output_type": "display_data"
    }
   ],
   "source": [
    "data.plot(y='ceiling_height', kind='hist', bins=20, range=(0, 7), title='Высота потолков')"
   ]
  },
  {
   "cell_type": "code",
   "execution_count": 61,
   "metadata": {},
   "outputs": [
    {
     "data": {
      "text/plain": [
       "<AxesSubplot:title={'center':'Этаж'}, ylabel='Frequency'>"
      ]
     },
     "execution_count": 61,
     "metadata": {},
     "output_type": "execute_result"
    },
    {
     "data": {
      "image/png": "[encoded data removed]",
      "text/plain": [
       "<Figure size 432x288 with 1 Axes>"
      ]
     },
     "metadata": {
      "needs_background": "light"
     },
     "output_type": "display_data"
    }
   ],
   "source": [
    "data.plot(y='floor', kind='hist', bins=data['floor'].max(), title='Этаж')"
   ]
  },
  {
   "cell_type": "markdown",
   "metadata": {},
   "source": [
    "Данные выглядят корректными. Похоже на распредление Пуассона, не знаю, уместно ли здесь это. У нас распространены 5 и 9 этажные, а продают чаще всего где то в середине здания, отсюда и самые распространенные этажи между 3 и 5"
   ]
  },
  {
   "cell_type": "code",
   "execution_count": 62,
   "metadata": {},
   "outputs": [
    {
     "data": {
      "text/plain": [
       "<AxesSubplot:title={'center':'Всего этажей (модифицированный)'}, ylabel='Frequency'>"
      ]
     },
     "execution_count": 62,
     "metadata": {},
     "output_type": "execute_result"
    },
    {
     "data": {
      "image/png": "[encoded data removed]",
      "text/plain": [
       "<Figure size 432x288 with 1 Axes>"
      ]
     },
     "metadata": {
      "needs_background": "light"
     },
     "output_type": "display_data"
    }
   ],
   "source": [
    "data.plot(y='floors_total', kind='hist', bins=round(data['floors_total'].max()), title='Всего этажей (модифицированный)')"
   ]
  },
  {
   "cell_type": "code",
   "execution_count": 63,
   "metadata": {},
   "outputs": [
    {
     "data": {
      "text/plain": [
       "<AxesSubplot:title={'center':'Ближайший парк'}, ylabel='Frequency'>"
      ]
     },
     "execution_count": 63,
     "metadata": {},
     "output_type": "execute_result"
    },
    {
     "data": {
      "image/png": "[encoded data removed]",
      "text/plain": [
       "<Figure size 432x288 with 1 Axes>"
      ]
     },
     "metadata": {
      "needs_background": "light"
     },
     "output_type": "display_data"
    },
    {
     "data": {
      "image/png": "[encoded data removed]",
      "text/plain": [
       "<Figure size 432x288 with 1 Axes>"
      ]
     },
     "metadata": {
      "needs_background": "light"
     },
     "output_type": "display_data"
    },
    {
     "data": {
      "image/png": "[encoded data removed]",
      "text/plain": [
       "<Figure size 432x288 with 1 Axes>"
      ]
     },
     "metadata": {
      "needs_background": "light"
     },
     "output_type": "display_data"
    }
   ],
   "source": [
    "data.plot(y='city_centers_nearest', kind='hist', bins=100, title='Ближайшее расстояние до центра города')\n",
    "data.plot(y='airports_nearest', kind='hist', bins=100, title='Ближайший аэропорт')\n",
    "data.plot(y='parks_nearest', kind='hist', bins=100, title='Ближайший парк')"
   ]
  },
  {
   "cell_type": "markdown",
   "metadata": {},
   "source": [
    "Все выглядит логично. Нет каких-то выдающихся выбросов или интересных фактов"
   ]
  },
  {
   "cell_type": "code",
   "execution_count": 64,
   "metadata": {},
   "outputs": [
    {
     "data": {
      "text/plain": [
       "<AxesSubplot:title={'center':'Год'}, ylabel='Frequency'>"
      ]
     },
     "execution_count": 64,
     "metadata": {},
     "output_type": "execute_result"
    },
    {
     "data": {
      "image/png": "[encoded data removed]",
      "text/plain": [
       "<Figure size 432x288 with 1 Axes>"
      ]
     },
     "metadata": {
      "needs_background": "light"
     },
     "output_type": "display_data"
    },
    {
     "data": {
      "image/png": "[encoded data removed]",
      "text/plain": [
       "<Figure size 432x288 with 1 Axes>"
      ]
     },
     "metadata": {
      "needs_background": "light"
     },
     "output_type": "display_data"
    },
    {
     "data": {
      "image/png": "[encoded data removed]",
      "text/plain": [
       "<Figure size 432x288 with 1 Axes>"
      ]
     },
     "metadata": {
      "needs_background": "light"
     },
     "output_type": "display_data"
    }
   ],
   "source": [
    "data.plot(y='day_of_week', kind='hist', bins=7, title='День недели')\n",
    "data.plot(y='month', kind='hist', title='Месяц', bins=12)\n",
    "data.plot(y='year', kind='hist', title='Год')"
   ]
  },
  {
   "cell_type": "markdown",
   "metadata": {},
   "source": [
    "Чазе всего продавать квартиры стали после 2017. Скорее всего это связано с тем, что продажа квартир через интернет стала более популярной после 17 года. Еще это связано с тем, что квартиры не висят так долго на сайте.\n",
    "Видим провал в публикации объявлений в субботу и воскресенье, видимо объявления публикуют преимущественно в будни. Так же видим что с февраля по апрель наблюдалосась повышенная активность."
   ]
  },
  {
   "cell_type": "code",
   "execution_count": 65,
   "metadata": {},
   "outputs": [
    {
     "data": {
      "text/plain": [
       "<AxesSubplot:title={'center':'Дней до момента продажи'}, ylabel='Frequency'>"
      ]
     },
     "execution_count": 65,
     "metadata": {},
     "output_type": "execute_result"
    },
    {
     "data": {
      "image/png": "[encoded data removed]",
      "text/plain": [
       "<Figure size 504x504 with 1 Axes>"
      ]
     },
     "metadata": {
      "needs_background": "light"
     },
     "output_type": "display_data"
    }
   ],
   "source": [
    "data.plot(y='days_exposition', kind='hist', bins=100, figsize=(7, 7), title='Дней до момента продажи')"
   ]
  },
  {
   "cell_type": "code",
   "execution_count": 66,
   "metadata": {},
   "outputs": [
    {
     "name": "stdout",
     "output_type": "stream",
     "text": [
      "count    18450.000000\n",
      "mean       150.606829\n",
      "std        155.772589\n",
      "min          1.000000\n",
      "25%         44.000000\n",
      "50%         90.000000\n",
      "75%        206.000000\n",
      "max        729.000000\n",
      "Name: days_exposition, dtype: float64\n"
     ]
    }
   ],
   "source": [
    "print(data['days_exposition'].describe())"
   ]
  },
  {
   "cell_type": "markdown",
   "metadata": {},
   "source": [
    "Чаще всего квартиры продают меньше, чем за год"
   ]
  },
  {
   "cell_type": "code",
   "execution_count": 67,
   "metadata": {
    "scrolled": true
   },
   "outputs": [
    {
     "data": {
      "text/plain": [
       "<AxesSubplot:title={'center':'Дней до момента продажи (модифицированные)'}, ylabel='Frequency'>"
      ]
     },
     "execution_count": 67,
     "metadata": {},
     "output_type": "execute_result"
    },
    {
     "data": {
      "image/png": "[encoded data removed]",
      "text/plain": [
       "<Figure size 432x288 with 1 Axes>"
      ]
     },
     "metadata": {
      "needs_background": "light"
     },
     "output_type": "display_data"
    }
   ],
   "source": [
    "data.plot(y='days_exposition', kind='hist', title='Дней до момента продажи (модифицированные)', bins=100, range=(0, 120))"
   ]
  },
  {
   "cell_type": "code",
   "execution_count": 68,
   "metadata": {},
   "outputs": [
    {
     "name": "stdout",
     "output_type": "stream",
     "text": [
      "Зависимость цены от фактора total_area -> 74.56%\n",
      "Зависимость цены от фактора living_area -> 64.80%\n",
      "Зависимость цены от фактора kitchen_area -> 54.98%\n",
      "Зависимость цены от фактора rooms -> 44.66%\n",
      "Зависимость цены от фактора floor_type_number -> 5.38%\n"
     ]
    }
   ],
   "source": [
    "factors = ['total_area',\n",
    "           'living_area',\n",
    "           'kitchen_area',\n",
    "           'rooms',\n",
    "           'floor_type_number'\n",
    "           ]\n",
    "\n",
    "for f in factors:\n",
    "    data_correlation = data['last_price'].corr(data[f])\n",
    "    print(f'Зависимость цены от фактора {f} -> {data_correlation:0.2%}')"
   ]
  },
  {
   "cell_type": "markdown",
   "metadata": {},
   "source": [
    "Как и ожидалось, цена по большей части зависит от площади"
   ]
  },
  {
   "cell_type": "code",
   "execution_count": 69,
   "metadata": {},
   "outputs": [
    {
     "data": {
      "text/plain": [
       "<AxesSubplot:title={'center':'Зависимость цены от площади кухни'}, xlabel='last_price', ylabel='kitchen_area'>"
      ]
     },
     "execution_count": 69,
     "metadata": {},
     "output_type": "execute_result"
    },
    {
     "data": {
      "image/png": "[encoded data removed]",
      "text/plain": [
       "<Figure size 432x288 with 1 Axes>"
      ]
     },
     "metadata": {
      "needs_background": "light"
     },
     "output_type": "display_data"
    },
    {
     "data": {
      "image/png": "[encoded data removed]",
      "text/plain": [
       "<Figure size 432x288 with 1 Axes>"
      ]
     },
     "metadata": {
      "needs_background": "light"
     },
     "output_type": "display_data"
    },
    {
     "data": {
      "image/png": "[encoded data removed]",
      "text/plain": [
       "<Figure size 432x288 with 1 Axes>"
      ]
     },
     "metadata": {
      "needs_background": "light"
     },
     "output_type": "display_data"
    }
   ],
   "source": [
    "data.plot(x='last_price', y='total_area', kind='scatter', alpha=0.3, title='Зависимость цены от всей площади')\n",
    "data.plot(x='last_price', y='living_area', kind='scatter', alpha=0.3, title='Зависимость цены от жилой площади')\n",
    "data.plot(x='last_price', y='kitchen_area', kind='scatter', alpha=0.3, title='Зависимость цены от площади кухни')"
   ]
  },
  {
   "cell_type": "markdown",
   "metadata": {},
   "source": [
    "Видно взаимосвязь между площадью и ценой, однако чем дороже квартиры, тем меньше взаимосвязи"
   ]
  },
  {
   "cell_type": "code",
   "execution_count": 70,
   "metadata": {},
   "outputs": [
    {
     "data": {
      "text/plain": [
       "<AxesSubplot:title={'center':'Медианная цена от дня недели выставления'}, xlabel='day_of_week'>"
      ]
     },
     "execution_count": 70,
     "metadata": {},
     "output_type": "execute_result"
    },
    {
     "data": {
      "image/png": "[encoded data removed]",
      "text/plain": [
       "<Figure size 432x288 with 1 Axes>"
      ]
     },
     "metadata": {
      "needs_background": "light"
     },
     "output_type": "display_data"
    },
    {
     "data": {
      "image/png": "[encoded data removed]",
      "text/plain": [
       "<Figure size 432x288 with 1 Axes>"
      ]
     },
     "metadata": {
      "needs_background": "light"
     },
     "output_type": "display_data"
    }
   ],
   "source": [
    "(\n",
    "    data.pivot_table(index='day_of_week',\n",
    "                     values='last_price', \n",
    "                     aggfunc='mean')\n",
    "    .plot(y='last_price' \n",
    "          ,kind='line', \n",
    "          style='o-', \n",
    "          title='Средняя цена от дня недели выставления')\n",
    ")\n",
    "(\n",
    "    data.pivot_table(index='day_of_week',\n",
    "                     values='last_price', \n",
    "                     aggfunc='median')\n",
    "    .plot(y='last_price' \n",
    "          ,kind='line', \n",
    "          style='o-', \n",
    "          title='Медианная цена от дня недели выставления')\n",
    ")"
   ]
  },
  {
   "cell_type": "code",
   "execution_count": 71,
   "metadata": {},
   "outputs": [
    {
     "data": {
      "text/plain": [
       "<AxesSubplot:title={'center':'Медианная цена от месяца выставления'}, xlabel='month'>"
      ]
     },
     "execution_count": 71,
     "metadata": {},
     "output_type": "execute_result"
    },
    {
     "data": {
      "image/png": "[encoded data removed]",
      "text/plain": [
       "<Figure size 432x288 with 1 Axes>"
      ]
     },
     "metadata": {
      "needs_background": "light"
     },
     "output_type": "display_data"
    },
    {
     "data": {
      "image/png": "[encoded data removed]",
      "text/plain": [
       "<Figure size 432x288 with 1 Axes>"
      ]
     },
     "metadata": {
      "needs_background": "light"
     },
     "output_type": "display_data"
    }
   ],
   "source": [
    "(\n",
    "    data.pivot_table(index='month',\n",
    "                     values='last_price', \n",
    "                     aggfunc='mean')\n",
    "    .plot(y='last_price' \n",
    "          ,kind='line', \n",
    "          style='o-', \n",
    "          title='Средняя цена от месяца выставления')\n",
    ")\n",
    "(\n",
    "    data.pivot_table(index='month',\n",
    "                     values='last_price', \n",
    "                     aggfunc='median')\n",
    "    .plot(y='last_price' \n",
    "          ,kind='line', \n",
    "          style='o-', \n",
    "          title='Медианная цена от месяца выставления')\n",
    ")"
   ]
  },
  {
   "cell_type": "code",
   "execution_count": 72,
   "metadata": {},
   "outputs": [
    {
     "data": {
      "text/plain": [
       "<AxesSubplot:title={'center':'Медианная цена от года выставления'}, xlabel='year'>"
      ]
     },
     "execution_count": 72,
     "metadata": {},
     "output_type": "execute_result"
    },
    {
     "data": {
      "image/png": "[encoded data removed]",
      "text/plain": [
       "<Figure size 432x288 with 1 Axes>"
      ]
     },
     "metadata": {
      "needs_background": "light"
     },
     "output_type": "display_data"
    },
    {
     "data": {
      "image/png": "[encoded data removed]",
      "text/plain": [
       "<Figure size 432x288 with 1 Axes>"
      ]
     },
     "metadata": {
      "needs_background": "light"
     },
     "output_type": "display_data"
    }
   ],
   "source": [
    "(\n",
    "    data.pivot_table(index='year',\n",
    "                     values='last_price', \n",
    "                     aggfunc='mean')\n",
    "    .plot(y='last_price' \n",
    "          ,kind='line', \n",
    "          style='o-', \n",
    "          title='Средняя цена от года выставления')\n",
    ")\n",
    "(\n",
    "    data.pivot_table(index='year',\n",
    "                     values='last_price', \n",
    "                     aggfunc='median')\n",
    "    .plot(y='last_price' \n",
    "          ,kind='line', \n",
    "          style='o-', \n",
    "          title='Медианная цена от года выставления')\n",
    ")"
   ]
  },
  {
   "cell_type": "code",
   "execution_count": 73,
   "metadata": {},
   "outputs": [
    {
     "data": {
      "text/html": [
       "<div>\n",
       "<style scoped>\n",
       "    .dataframe tbody tr th:only-of-type {\n",
       "        vertical-align: middle;\n",
       "    }\n",
       "\n",
       "    .dataframe tbody tr th {\n",
       "        vertical-align: top;\n",
       "    }\n",
       "\n",
       "    .dataframe thead th {\n",
       "        text-align: right;\n",
       "    }\n",
       "</style>\n",
       "<table border=\"1\" class=\"dataframe\">\n",
       "  <thead>\n",
       "    <tr style=\"text-align: right;\">\n",
       "      <th></th>\n",
       "      <th>count</th>\n",
       "      <th>price_m2</th>\n",
       "    </tr>\n",
       "    <tr>\n",
       "      <th>locality_name</th>\n",
       "      <th></th>\n",
       "      <th></th>\n",
       "    </tr>\n",
       "  </thead>\n",
       "  <tbody>\n",
       "    <tr>\n",
       "      <th>санкт-петербург</th>\n",
       "      <td>14195</td>\n",
       "      <td>112334.964259</td>\n",
       "    </tr>\n",
       "    <tr>\n",
       "      <th>поселок мурино</th>\n",
       "      <td>462</td>\n",
       "      <td>84516.377546</td>\n",
       "    </tr>\n",
       "    <tr>\n",
       "      <th>поселок шушары</th>\n",
       "      <td>387</td>\n",
       "      <td>76964.909843</td>\n",
       "    </tr>\n",
       "    <tr>\n",
       "      <th>всеволожск</th>\n",
       "      <td>364</td>\n",
       "      <td>68777.188363</td>\n",
       "    </tr>\n",
       "    <tr>\n",
       "      <th>пушкин</th>\n",
       "      <td>333</td>\n",
       "      <td>102817.622757</td>\n",
       "    </tr>\n",
       "    <tr>\n",
       "      <th>колпино</th>\n",
       "      <td>324</td>\n",
       "      <td>75061.428870</td>\n",
       "    </tr>\n",
       "    <tr>\n",
       "      <th>гатчина</th>\n",
       "      <td>284</td>\n",
       "      <td>69267.028931</td>\n",
       "    </tr>\n",
       "    <tr>\n",
       "      <th>поселок парголово</th>\n",
       "      <td>270</td>\n",
       "      <td>88050.546007</td>\n",
       "    </tr>\n",
       "    <tr>\n",
       "      <th>деревня кудрово</th>\n",
       "      <td>264</td>\n",
       "      <td>92321.574392</td>\n",
       "    </tr>\n",
       "    <tr>\n",
       "      <th>выборг</th>\n",
       "      <td>224</td>\n",
       "      <td>58223.342971</td>\n",
       "    </tr>\n",
       "  </tbody>\n",
       "</table>\n",
       "</div>"
      ],
      "text/plain": [
       "                   count       price_m2\n",
       "locality_name                          \n",
       "санкт-петербург    14195  112334.964259\n",
       "поселок мурино       462   84516.377546\n",
       "поселок шушары       387   76964.909843\n",
       "всеволожск           364   68777.188363\n",
       "пушкин               333  102817.622757\n",
       "колпино              324   75061.428870\n",
       "гатчина              284   69267.028931\n",
       "поселок парголово    270   88050.546007\n",
       "деревня кудрово      264   92321.574392\n",
       "выборг               224   58223.342971"
      ]
     },
     "execution_count": 73,
     "metadata": {},
     "output_type": "execute_result"
    },
    {
     "data": {
      "image/png": "[encoded data removed]",
      "text/plain": [
       "<Figure size 720x504 with 1 Axes>"
      ]
     },
     "metadata": {
      "needs_background": "light"
     },
     "output_type": "display_data"
    }
   ],
   "source": [
    "stat_grouped = data.pivot_table(\n",
    "    index='locality_name', values='one_sqr_m_price', aggfunc=['count', 'mean'])\n",
    "\n",
    "stat_grouped.columns = ['count', 'price_m2']\n",
    "stat_grouped.sort_values(by='count', ascending=False, inplace=True)\n",
    "stat_grouped = stat_grouped.iloc[:10]\n",
    "stat_grouped['price_m2'].plot(kind='barh', figsize=(10, 7), title='Топ 10 самых дорогих мест')\n",
    "stat_grouped"
   ]
  },
  {
   "cell_type": "markdown",
   "metadata": {},
   "source": [
    "Самая дорогая и популярная жил.площадь в СПБ, самая дешевая в Выборге"
   ]
  },
  {
   "cell_type": "code",
   "execution_count": 74,
   "metadata": {},
   "outputs": [
    {
     "data": {
      "text/plain": [
       "<AxesSubplot:title={'center':'Цена киллометра при отдалении от центра'}, xlabel='city_centers_nearest_km'>"
      ]
     },
     "execution_count": 74,
     "metadata": {},
     "output_type": "execute_result"
    },
    {
     "data": {
      "image/png": "[encoded data removed]",
      "text/plain": [
       "<Figure size 720x720 with 1 Axes>"
      ]
     },
     "metadata": {
      "needs_background": "light"
     },
     "output_type": "display_data"
    }
   ],
   "source": [
    "(\n",
    "    data[data['locality_name']=='санкт-петербург']\n",
    "    .pivot_table(\n",
    "        index='city_centers_nearest_km',\n",
    "        values='last_price',\n",
    "        aggfunc='mean')\n",
    "    .plot(kind='bar', figsize=(10, 10), title='Цена киллометра при отдалении от центра')\n",
    ")"
   ]
  },
  {
   "cell_type": "markdown",
   "metadata": {},
   "source": [
    "Радиус в 8 км от центра является центром города, цена в нем очень высокая. Далее идет явное снижение цены с пиком на 27 км, возможно там находится какой то элитный поселок"
   ]
  },
  {
   "cell_type": "markdown",
   "metadata": {},
   "source": [
    "### Общий вывод"
   ]
  },
  {
   "cell_type": "markdown",
   "metadata": {},
   "source": [
    "1. Выбросы сильно влияют на ситуацию, от них надо избавляться. Изначально было очень много грязных данных, пришлось менять типы данных, изменять названия столбцов\n",
    "\n",
    "2. Самые дорогие места, помимо СПБ:\n",
    "    Пушкин, Парголово и Кудрово\n",
    "3. На цену квартиры влияет площадь и удаленность от центра города. Кол-во этажей на цену почти не влияет. Обычно, квартиры продаются быстрее, чем за год. В среднем, около 200 дней\n",
    "4. Быстрая продажа считается < 90 дней, медленно - более 200 дней\n",
    "\n",
    "\n",
    "В СПБ жилье дороже, чем в области, а в центре СПБ дороже, чем на окраине. Я бы рекоммендовал добавить больше обязательных полей для заполнения, чтобы данные были чище. Цена, вроде как, не зависит от дня недели и месяца. Добавил бы новые столбцы, такие как наличие ремонта, было ли изменение в планировке и т.д"
   ]
  },
  {
   "cell_type": "markdown",
   "metadata": {},
   "source": [
    "**Чек-лист готовности проекта**\n",
    "\n",
    "Поставьте 'x' в выполненных пунктах. Далее нажмите Shift+Enter."
   ]
  },
  {
   "cell_type": "markdown",
   "metadata": {},
   "source": [
    "- [x]  открыт файл\n",
    "- [x]  файлы изучены (выведены первые строки, метод `info()`, гистограммы и т.д.)\n",
    "- [x]  определены пропущенные значения\n",
    "- [x]  заполнены пропущенные значения там, где это возможно\n",
    "- [x]  есть пояснение, какие пропущенные значения обнаружены\n",
    "- [x]  изменены типы данных\n",
    "- [x]  есть пояснение, в каких столбцах изменены типы и почему\n",
    "- [x]  устранены неявные дубликаты в названиях населённых пунктов\n",
    "- [x]  устранены редкие и выбивающиеся значения (аномалии) во всех столбцах\n",
    "- [x]  посчитано и добавлено в таблицу: цена одного квадратного метра\n",
    "- [x]  посчитано и добавлено в таблицу: день публикации объявления (0 - понедельник, 1 - вторник и т.д.)\n",
    "- [x]  посчитано и добавлено в таблицу: месяц публикации объявления\n",
    "- [x]  посчитано и добавлено в таблицу: год публикации объявления\n",
    "- [x]  посчитано и добавлено в таблицу: тип этажа квартиры (значения — «первый», «последний», «другой»)\n",
    "- [x]  посчитано и добавлено в таблицу: расстояние в км до центра города\n",
    "- [x]  изучены и описаны следующие параметры:\n",
    "        - общая площадь;\n",
    "        - жилая площадь;\n",
    "        - площадь кухни;\n",
    "        - цена объекта;\n",
    "        - количество комнат;\n",
    "        - высота потолков;\n",
    "        - этаж квартиры;\n",
    "        - тип этажа квартиры («первый», «последний», «другой»);\n",
    "        - общее количество этажей в доме;\n",
    "        - расстояние до центра города в метрах;\n",
    "        - расстояние до ближайшего аэропорта;\n",
    "        - расстояние до ближайшего парка;\n",
    "        - день и месяц публикации объявления\n",
    "- [x]  построены гистограммы для каждого параметра\n",
    "- [x]  выполнено задание: \"Изучите, как быстро продавались квартиры (столбец days_exposition). Этот параметр показывает, сколько дней «висело» каждое объявление.\n",
    "    - Постройте гистограмму.\n",
    "    - Посчитайте среднее и медиану.\n",
    "    - В ячейке типа markdown опишите, сколько обычно занимает продажа. Какие продажи можно считать быстрыми, а какие — необычно долгими?\"\n",
    "- [x]  выполнено задание: \"Какие факторы больше всего влияют на общую (полную) стоимость объекта? Постройте графики, которые покажут зависимость цены от указанных ниже параметров. Для подготовки данных перед визуализацией вы можете использовать сводные таблицы.\"\n",
    "        - общей площади;\n",
    "        - жилой площади;\n",
    "        - площади кухни;\n",
    "        - количество комнат;\n",
    "        - типа этажа, на котором расположена квартира (первый, последний, другой);\n",
    "        - даты размещения (день недели, месяц, год);\n",
    "- [x]  выполнено задание: \"Посчитайте среднюю цену одного квадратного метра в 10 населённых пунктах с наибольшим числом объявлений. Выделите населённые пункты с самой высокой и низкой стоимостью квадратного метра. Эти данные можно найти по имени в столбце `locality_name`.\"\n",
    "- [x]  выполнено задание: \"Ранее вы посчитали расстояние до центра в километрах. Теперь выделите квартиры в Санкт-Петербурге с помощью столбца `locality_name` и вычислите среднюю цену каждого километра. Опишите, как стоимость объектов зависит от расстояния до центра города.\"\n",
    "- [x]  в каждом этапе есть промежуточные выводы\n",
    "- [x]  есть общий вывод"
   ]
  }
 ],
 "metadata": {
  "ExecuteTimeLog": [
   {
    "duration": 1149,
    "start_time": "2023-02-19T16:11:22.280Z"
   },
   {
    "duration": 54,
    "start_time": "2023-02-19T16:11:37.047Z"
   },
   {
    "duration": 56,
    "start_time": "2023-02-19T16:12:08.734Z"
   },
   {
    "duration": 309,
    "start_time": "2023-02-19T16:13:17.371Z"
   },
   {
    "duration": 1031,
    "start_time": "2023-02-19T16:13:20.466Z"
   },
   {
    "duration": 95,
    "start_time": "2023-02-19T16:13:24.492Z"
   },
   {
    "duration": 164,
    "start_time": "2023-02-19T16:13:49.905Z"
   },
   {
    "duration": 24,
    "start_time": "2023-02-19T16:14:08.599Z"
   },
   {
    "duration": 1120,
    "start_time": "2023-02-19T16:14:46.163Z"
   },
   {
    "duration": 1237,
    "start_time": "2023-02-19T16:15:07.788Z"
   },
   {
    "duration": 42,
    "start_time": "2023-02-19T16:18:11.113Z"
   },
   {
    "duration": 19,
    "start_time": "2023-02-19T16:18:46.108Z"
   },
   {
    "duration": 22,
    "start_time": "2023-02-19T16:18:55.367Z"
   },
   {
    "duration": 44,
    "start_time": "2023-02-19T16:23:27.833Z"
   },
   {
    "duration": 50,
    "start_time": "2023-02-19T16:23:33.871Z"
   },
   {
    "duration": 572,
    "start_time": "2023-02-19T16:23:59.917Z"
   },
   {
    "duration": 24,
    "start_time": "2023-02-19T16:24:02.467Z"
   },
   {
    "duration": 1466,
    "start_time": "2023-02-19T16:24:03.263Z"
   },
   {
    "duration": 20,
    "start_time": "2023-02-19T16:24:07.297Z"
   },
   {
    "duration": 20,
    "start_time": "2023-02-19T16:27:02.808Z"
   },
   {
    "duration": 20,
    "start_time": "2023-02-19T16:27:14.469Z"
   },
   {
    "duration": 6,
    "start_time": "2023-02-19T16:30:23.326Z"
   },
   {
    "duration": 5,
    "start_time": "2023-02-19T16:30:48.976Z"
   },
   {
    "duration": 5,
    "start_time": "2023-02-19T16:30:54.396Z"
   },
   {
    "duration": 6,
    "start_time": "2023-02-19T16:31:13.335Z"
   },
   {
    "duration": 5,
    "start_time": "2023-02-19T16:31:21.265Z"
   },
   {
    "duration": 5,
    "start_time": "2023-02-19T16:31:43.430Z"
   },
   {
    "duration": 7,
    "start_time": "2023-02-19T16:31:48.288Z"
   },
   {
    "duration": 142,
    "start_time": "2023-02-19T16:33:56.133Z"
   },
   {
    "duration": 11,
    "start_time": "2023-02-19T16:34:24.467Z"
   },
   {
    "duration": 8,
    "start_time": "2023-02-19T16:34:52.474Z"
   },
   {
    "duration": 5,
    "start_time": "2023-02-19T16:35:16.964Z"
   },
   {
    "duration": 4,
    "start_time": "2023-02-19T16:35:21.268Z"
   },
   {
    "duration": 6,
    "start_time": "2023-02-19T16:35:27.970Z"
   },
   {
    "duration": 43,
    "start_time": "2023-02-19T16:36:10.022Z"
   },
   {
    "duration": 5,
    "start_time": "2023-02-19T16:46:05.274Z"
   },
   {
    "duration": 82,
    "start_time": "2023-02-19T16:46:16.891Z"
   },
   {
    "duration": 12,
    "start_time": "2023-02-19T16:46:20.516Z"
   },
   {
    "duration": 28,
    "start_time": "2023-02-19T16:48:36.918Z"
   },
   {
    "duration": 33,
    "start_time": "2023-02-19T16:48:41.269Z"
   },
   {
    "duration": 22,
    "start_time": "2023-02-19T16:49:01.270Z"
   },
   {
    "duration": 63,
    "start_time": "2023-03-05T13:01:40.226Z"
   },
   {
    "duration": 1291,
    "start_time": "2023-03-05T13:01:45.423Z"
   },
   {
    "duration": 27,
    "start_time": "2023-03-05T13:01:47.596Z"
   },
   {
    "duration": 1611,
    "start_time": "2023-03-05T13:01:49.773Z"
   },
   {
    "duration": 33,
    "start_time": "2023-03-05T13:01:53.296Z"
   },
   {
    "duration": 12,
    "start_time": "2023-03-05T13:01:53.786Z"
   },
   {
    "duration": 10,
    "start_time": "2023-03-05T13:01:55.270Z"
   },
   {
    "duration": 588,
    "start_time": "2023-03-05T21:17:06.898Z"
   },
   {
    "duration": 23,
    "start_time": "2023-03-05T21:17:07.514Z"
   },
   {
    "duration": 1411,
    "start_time": "2023-03-05T21:17:09.587Z"
   },
   {
    "duration": 16,
    "start_time": "2023-03-05T21:17:11.462Z"
   },
   {
    "duration": 11,
    "start_time": "2023-03-05T21:17:12.755Z"
   },
   {
    "duration": 15,
    "start_time": "2023-03-05T21:17:15.972Z"
   },
   {
    "duration": 72,
    "start_time": "2023-03-05T21:18:47.492Z"
   },
   {
    "duration": 12,
    "start_time": "2023-03-05T21:18:51.973Z"
   },
   {
    "duration": 22,
    "start_time": "2023-03-05T21:19:28.600Z"
   },
   {
    "duration": 6,
    "start_time": "2023-03-05T21:21:14.132Z"
   },
   {
    "duration": 7,
    "start_time": "2023-03-05T21:21:20.256Z"
   },
   {
    "duration": 50,
    "start_time": "2023-03-05T21:23:56.798Z"
   },
   {
    "duration": 283,
    "start_time": "2023-03-05T21:28:13.520Z"
   },
   {
    "duration": 307,
    "start_time": "2023-03-05T21:28:26.976Z"
   },
   {
    "duration": 129,
    "start_time": "2023-03-05T21:29:21.855Z"
   },
   {
    "duration": 21,
    "start_time": "2023-03-05T21:29:22.965Z"
   },
   {
    "duration": 974,
    "start_time": "2023-03-05T21:29:23.496Z"
   },
   {
    "duration": 33,
    "start_time": "2023-03-05T21:29:25.179Z"
   },
   {
    "duration": 15,
    "start_time": "2023-03-05T21:29:28.363Z"
   },
   {
    "duration": 6,
    "start_time": "2023-03-05T21:29:30.775Z"
   },
   {
    "duration": 344,
    "start_time": "2023-03-05T21:29:32.387Z"
   },
   {
    "duration": 316,
    "start_time": "2023-03-05T21:29:49.683Z"
   },
   {
    "duration": 307,
    "start_time": "2023-03-05T21:30:46.383Z"
   },
   {
    "duration": 13,
    "start_time": "2023-03-05T21:31:06.556Z"
   },
   {
    "duration": 293,
    "start_time": "2023-03-05T21:32:25.606Z"
   },
   {
    "duration": 303,
    "start_time": "2023-03-05T21:32:34.921Z"
   },
   {
    "duration": 5,
    "start_time": "2023-03-05T21:32:41.288Z"
   },
   {
    "duration": 320,
    "start_time": "2023-03-05T21:32:47.661Z"
   },
   {
    "duration": 69,
    "start_time": "2023-03-05T21:33:01.446Z"
   },
   {
    "duration": 294,
    "start_time": "2023-03-05T21:33:06.991Z"
   },
   {
    "duration": 4,
    "start_time": "2023-03-05T21:34:07.765Z"
   },
   {
    "duration": 20,
    "start_time": "2023-03-05T21:37:24.263Z"
   },
   {
    "duration": 489,
    "start_time": "2023-03-05T21:39:16.201Z"
   },
   {
    "duration": 21,
    "start_time": "2023-03-05T21:39:18.286Z"
   },
   {
    "duration": 1185,
    "start_time": "2023-03-05T21:39:19.299Z"
   },
   {
    "duration": 85,
    "start_time": "2023-03-05T21:39:20.986Z"
   },
   {
    "duration": 15,
    "start_time": "2023-03-05T21:39:25.515Z"
   },
   {
    "duration": 8,
    "start_time": "2023-03-05T21:39:36.679Z"
   },
   {
    "duration": 64,
    "start_time": "2023-03-05T21:39:58.210Z"
   },
   {
    "duration": 25,
    "start_time": "2023-03-05T21:40:42.091Z"
   },
   {
    "duration": 9,
    "start_time": "2023-03-05T21:42:01.786Z"
   },
   {
    "duration": 313,
    "start_time": "2023-03-05T21:43:28.995Z"
   },
   {
    "duration": 8,
    "start_time": "2023-03-05T21:45:59.288Z"
   },
   {
    "duration": 5,
    "start_time": "2023-03-05T21:46:03.187Z"
   },
   {
    "duration": 6,
    "start_time": "2023-03-05T21:47:00.969Z"
   },
   {
    "duration": 30,
    "start_time": "2023-03-05T21:53:35.411Z"
   },
   {
    "duration": 806,
    "start_time": "2023-03-07T15:48:53.601Z"
   },
   {
    "duration": 23,
    "start_time": "2023-03-07T15:48:54.409Z"
   },
   {
    "duration": 1623,
    "start_time": "2023-03-07T15:48:56.288Z"
   },
   {
    "duration": 42,
    "start_time": "2023-03-07T15:48:58.310Z"
   },
   {
    "duration": 22,
    "start_time": "2023-03-07T15:48:59.475Z"
   },
   {
    "duration": 11,
    "start_time": "2023-03-07T15:49:01.876Z"
   },
   {
    "duration": 13,
    "start_time": "2023-03-07T15:49:30.126Z"
   },
   {
    "duration": 49,
    "start_time": "2023-03-07T15:49:52.720Z"
   },
   {
    "duration": 6,
    "start_time": "2023-03-07T15:50:07.268Z"
   },
   {
    "duration": 254,
    "start_time": "2023-03-07T15:50:58.341Z"
   },
   {
    "duration": 4,
    "start_time": "2023-03-07T15:51:57.143Z"
   },
   {
    "duration": 202,
    "start_time": "2023-03-07T15:52:11.179Z"
   },
   {
    "duration": 8,
    "start_time": "2023-03-07T15:53:29.210Z"
   },
   {
    "duration": 12,
    "start_time": "2023-03-07T15:53:42.757Z"
   },
   {
    "duration": 10,
    "start_time": "2023-03-07T15:53:49.944Z"
   },
   {
    "duration": 253,
    "start_time": "2023-03-07T15:54:36.819Z"
   },
   {
    "duration": 169,
    "start_time": "2023-03-07T15:54:47.101Z"
   },
   {
    "duration": 236,
    "start_time": "2023-03-07T15:55:01.812Z"
   },
   {
    "duration": 30,
    "start_time": "2023-03-07T15:55:25.013Z"
   },
   {
    "duration": 6,
    "start_time": "2023-03-07T15:55:42.874Z"
   },
   {
    "duration": 33,
    "start_time": "2023-03-07T15:56:08.002Z"
   },
   {
    "duration": 5,
    "start_time": "2023-03-07T15:56:23.622Z"
   },
   {
    "duration": 32,
    "start_time": "2023-03-07T15:56:38.719Z"
   },
   {
    "duration": 20,
    "start_time": "2023-03-07T15:57:32.751Z"
   },
   {
    "duration": 541,
    "start_time": "2023-03-07T15:57:46.841Z"
   },
   {
    "duration": 137,
    "start_time": "2023-03-07T15:58:13.220Z"
   },
   {
    "duration": 21,
    "start_time": "2023-03-07T15:58:26.035Z"
   },
   {
    "duration": 7,
    "start_time": "2023-03-07T15:58:33.963Z"
   },
   {
    "duration": 143,
    "start_time": "2023-03-07T15:58:50.743Z"
   },
   {
    "duration": 396,
    "start_time": "2023-03-07T15:59:02.653Z"
   },
   {
    "duration": 8,
    "start_time": "2023-03-07T15:59:13.362Z"
   },
   {
    "duration": 116,
    "start_time": "2023-03-07T15:59:22.356Z"
   },
   {
    "duration": 35,
    "start_time": "2023-03-07T15:59:46.333Z"
   },
   {
    "duration": 41,
    "start_time": "2023-03-07T16:00:53.110Z"
   },
   {
    "duration": 41,
    "start_time": "2023-03-07T16:01:12.884Z"
   },
   {
    "duration": 34,
    "start_time": "2023-03-07T16:01:59.837Z"
   },
   {
    "duration": 41,
    "start_time": "2023-03-07T16:02:09.175Z"
   },
   {
    "duration": 82,
    "start_time": "2023-03-07T16:04:02.627Z"
   },
   {
    "duration": 72,
    "start_time": "2023-03-07T16:04:56.293Z"
   },
   {
    "duration": 39,
    "start_time": "2023-03-07T16:05:05.586Z"
   },
   {
    "duration": 28,
    "start_time": "2023-03-07T16:07:55.815Z"
   },
   {
    "duration": 27,
    "start_time": "2023-03-07T16:08:08.164Z"
   },
   {
    "duration": 18,
    "start_time": "2023-03-07T16:08:15.908Z"
   },
   {
    "duration": 25,
    "start_time": "2023-03-07T16:08:28.850Z"
   },
   {
    "duration": 18,
    "start_time": "2023-03-07T16:08:37.125Z"
   },
   {
    "duration": 14,
    "start_time": "2023-03-07T16:08:44.670Z"
   },
   {
    "duration": 177,
    "start_time": "2023-03-07T16:08:57.543Z"
   },
   {
    "duration": 9,
    "start_time": "2023-03-07T16:09:37.198Z"
   },
   {
    "duration": 11,
    "start_time": "2023-03-07T16:09:49.201Z"
   },
   {
    "duration": 10,
    "start_time": "2023-03-07T16:09:55.474Z"
   },
   {
    "duration": 366,
    "start_time": "2023-03-07T16:10:23.175Z"
   },
   {
    "duration": 10,
    "start_time": "2023-03-07T16:12:26.963Z"
   },
   {
    "duration": 323,
    "start_time": "2023-03-07T16:13:14.263Z"
   },
   {
    "duration": 7,
    "start_time": "2023-03-07T16:13:21.748Z"
   },
   {
    "duration": 670,
    "start_time": "2023-03-07T16:13:27.473Z"
   },
   {
    "duration": 335,
    "start_time": "2023-03-07T16:14:16.770Z"
   },
   {
    "duration": 48,
    "start_time": "2023-03-07T16:15:53.427Z"
   },
   {
    "duration": 49,
    "start_time": "2023-03-07T16:18:49.844Z"
   },
   {
    "duration": 371,
    "start_time": "2023-03-07T16:19:04.776Z"
   },
   {
    "duration": 10,
    "start_time": "2023-03-07T16:19:22.009Z"
   },
   {
    "duration": 46,
    "start_time": "2023-03-07T16:19:31.749Z"
   },
   {
    "duration": 11,
    "start_time": "2023-03-07T16:19:53.905Z"
   },
   {
    "duration": 9,
    "start_time": "2023-03-07T16:19:58.423Z"
   },
   {
    "duration": 9,
    "start_time": "2023-03-07T16:20:05.308Z"
   },
   {
    "duration": 1021,
    "start_time": "2023-03-07T16:20:07.778Z"
   },
   {
    "duration": 6,
    "start_time": "2023-03-07T16:20:20.507Z"
   },
   {
    "duration": 558,
    "start_time": "2023-03-07T16:20:36.273Z"
   },
   {
    "duration": 26,
    "start_time": "2023-03-07T16:20:37.266Z"
   },
   {
    "duration": 1306,
    "start_time": "2023-03-07T16:20:38.887Z"
   },
   {
    "duration": 99,
    "start_time": "2023-03-07T16:20:40.194Z"
   },
   {
    "duration": 18,
    "start_time": "2023-03-07T16:20:42.576Z"
   },
   {
    "duration": 10,
    "start_time": "2023-03-07T16:20:43.004Z"
   },
   {
    "duration": 13,
    "start_time": "2023-03-07T16:20:44.807Z"
   },
   {
    "duration": 5,
    "start_time": "2023-03-07T16:20:45.073Z"
   },
   {
    "duration": 8,
    "start_time": "2023-03-07T16:20:45.379Z"
   },
   {
    "duration": 238,
    "start_time": "2023-03-07T16:20:45.807Z"
   },
   {
    "duration": 28,
    "start_time": "2023-03-07T16:20:47.900Z"
   },
   {
    "duration": 6,
    "start_time": "2023-03-07T16:20:48.263Z"
   },
   {
    "duration": 32,
    "start_time": "2023-03-07T16:20:48.644Z"
   },
   {
    "duration": 34,
    "start_time": "2023-03-07T16:20:50.135Z"
   },
   {
    "duration": 23,
    "start_time": "2023-03-07T16:20:50.478Z"
   },
   {
    "duration": 483,
    "start_time": "2023-03-07T16:20:50.828Z"
   },
   {
    "duration": 141,
    "start_time": "2023-03-07T16:20:52.464Z"
   },
   {
    "duration": 23,
    "start_time": "2023-03-07T16:20:53.704Z"
   },
   {
    "duration": 8,
    "start_time": "2023-03-07T16:20:54.003Z"
   },
   {
    "duration": 147,
    "start_time": "2023-03-07T16:20:54.318Z"
   },
   {
    "duration": 406,
    "start_time": "2023-03-07T16:20:55.599Z"
   },
   {
    "duration": 9,
    "start_time": "2023-03-07T16:20:57.520Z"
   },
   {
    "duration": 27,
    "start_time": "2023-03-07T16:20:57.910Z"
   },
   {
    "duration": 25,
    "start_time": "2023-03-07T16:20:58.296Z"
   },
   {
    "duration": 19,
    "start_time": "2023-03-07T16:21:00.358Z"
   },
   {
    "duration": 16,
    "start_time": "2023-03-07T16:21:00.671Z"
   },
   {
    "duration": 185,
    "start_time": "2023-03-07T16:21:01.104Z"
   },
   {
    "duration": 10,
    "start_time": "2023-03-07T16:21:03.170Z"
   },
   {
    "duration": 10,
    "start_time": "2023-03-07T16:21:05.140Z"
   },
   {
    "duration": 10,
    "start_time": "2023-03-07T16:21:05.500Z"
   },
   {
    "duration": 9,
    "start_time": "2023-03-07T16:21:06.105Z"
   },
   {
    "duration": 5,
    "start_time": "2023-03-07T16:21:08.976Z"
   },
   {
    "duration": 528,
    "start_time": "2023-03-07T16:21:51.968Z"
   },
   {
    "duration": 26,
    "start_time": "2023-03-07T16:21:52.498Z"
   },
   {
    "duration": 1263,
    "start_time": "2023-03-07T16:21:52.530Z"
   },
   {
    "duration": 95,
    "start_time": "2023-03-07T16:21:53.795Z"
   },
   {
    "duration": 19,
    "start_time": "2023-03-07T16:21:53.892Z"
   },
   {
    "duration": 28,
    "start_time": "2023-03-07T16:21:53.913Z"
   },
   {
    "duration": 15,
    "start_time": "2023-03-07T16:21:53.943Z"
   },
   {
    "duration": 10,
    "start_time": "2023-03-07T16:21:53.959Z"
   },
   {
    "duration": 11,
    "start_time": "2023-03-07T16:21:53.970Z"
   },
   {
    "duration": 272,
    "start_time": "2023-03-07T16:21:53.983Z"
   },
   {
    "duration": 29,
    "start_time": "2023-03-07T16:21:54.257Z"
   },
   {
    "duration": 7,
    "start_time": "2023-03-07T16:21:54.288Z"
   },
   {
    "duration": 59,
    "start_time": "2023-03-07T16:21:54.297Z"
   },
   {
    "duration": 32,
    "start_time": "2023-03-07T16:21:54.359Z"
   },
   {
    "duration": 43,
    "start_time": "2023-03-07T16:21:54.393Z"
   },
   {
    "duration": 473,
    "start_time": "2023-03-07T16:21:54.438Z"
   },
   {
    "duration": 166,
    "start_time": "2023-03-07T16:21:54.913Z"
   },
   {
    "duration": 22,
    "start_time": "2023-03-07T16:21:55.081Z"
   },
   {
    "duration": 6,
    "start_time": "2023-03-07T16:21:55.105Z"
   },
   {
    "duration": 178,
    "start_time": "2023-03-07T16:21:55.112Z"
   },
   {
    "duration": 409,
    "start_time": "2023-03-07T16:21:55.291Z"
   },
   {
    "duration": 9,
    "start_time": "2023-03-07T16:21:55.702Z"
   },
   {
    "duration": 41,
    "start_time": "2023-03-07T16:21:55.713Z"
   },
   {
    "duration": 25,
    "start_time": "2023-03-07T16:21:55.756Z"
   },
   {
    "duration": 18,
    "start_time": "2023-03-07T16:21:55.783Z"
   },
   {
    "duration": 41,
    "start_time": "2023-03-07T16:21:55.802Z"
   },
   {
    "duration": 202,
    "start_time": "2023-03-07T16:21:55.845Z"
   },
   {
    "duration": 9,
    "start_time": "2023-03-07T16:21:56.050Z"
   },
   {
    "duration": 12,
    "start_time": "2023-03-07T16:22:01.343Z"
   },
   {
    "duration": 44,
    "start_time": "2023-03-07T16:22:02.847Z"
   },
   {
    "duration": 8,
    "start_time": "2023-03-07T16:22:12.830Z"
   },
   {
    "duration": 7,
    "start_time": "2023-03-07T16:22:40.939Z"
   },
   {
    "duration": 6,
    "start_time": "2023-03-07T16:22:50.298Z"
   },
   {
    "duration": 539,
    "start_time": "2023-03-07T16:23:36.877Z"
   },
   {
    "duration": 26,
    "start_time": "2023-03-07T16:23:37.418Z"
   },
   {
    "duration": 1328,
    "start_time": "2023-03-07T16:23:37.446Z"
   },
   {
    "duration": 98,
    "start_time": "2023-03-07T16:23:38.776Z"
   },
   {
    "duration": 18,
    "start_time": "2023-03-07T16:23:38.876Z"
   },
   {
    "duration": 12,
    "start_time": "2023-03-07T16:23:38.896Z"
   },
   {
    "duration": 26,
    "start_time": "2023-03-07T16:23:38.910Z"
   },
   {
    "duration": 5,
    "start_time": "2023-03-07T16:23:38.938Z"
   },
   {
    "duration": 12,
    "start_time": "2023-03-07T16:23:38.944Z"
   },
   {
    "duration": 280,
    "start_time": "2023-03-07T16:23:38.958Z"
   },
   {
    "duration": 29,
    "start_time": "2023-03-07T16:23:39.240Z"
   },
   {
    "duration": 6,
    "start_time": "2023-03-07T16:23:39.270Z"
   },
   {
    "duration": 54,
    "start_time": "2023-03-07T16:23:39.278Z"
   },
   {
    "duration": 34,
    "start_time": "2023-03-07T16:23:39.334Z"
   },
   {
    "duration": 23,
    "start_time": "2023-03-07T16:23:39.369Z"
   },
   {
    "duration": 494,
    "start_time": "2023-03-07T16:23:39.393Z"
   },
   {
    "duration": 153,
    "start_time": "2023-03-07T16:23:39.888Z"
   },
   {
    "duration": 22,
    "start_time": "2023-03-07T16:23:40.043Z"
   },
   {
    "duration": 6,
    "start_time": "2023-03-07T16:23:40.066Z"
   },
   {
    "duration": 179,
    "start_time": "2023-03-07T16:23:40.075Z"
   },
   {
    "duration": 414,
    "start_time": "2023-03-07T16:23:40.256Z"
   },
   {
    "duration": 9,
    "start_time": "2023-03-07T16:23:40.672Z"
   },
   {
    "duration": 26,
    "start_time": "2023-03-07T16:23:40.683Z"
   },
   {
    "duration": 22,
    "start_time": "2023-03-07T16:23:40.731Z"
   },
   {
    "duration": 17,
    "start_time": "2023-03-07T16:23:40.755Z"
   },
   {
    "duration": 20,
    "start_time": "2023-03-07T16:23:40.774Z"
   },
   {
    "duration": 201,
    "start_time": "2023-03-07T16:23:40.795Z"
   },
   {
    "duration": 9,
    "start_time": "2023-03-07T16:23:40.999Z"
   },
   {
    "duration": 30,
    "start_time": "2023-03-07T16:23:41.010Z"
   },
   {
    "duration": 9,
    "start_time": "2023-03-07T16:23:41.041Z"
   },
   {
    "duration": 14,
    "start_time": "2023-03-07T16:23:55.764Z"
   },
   {
    "duration": 5,
    "start_time": "2023-03-07T16:23:59.342Z"
   },
   {
    "duration": 403,
    "start_time": "2023-03-07T16:24:03.111Z"
   },
   {
    "duration": 242,
    "start_time": "2023-03-07T16:24:37.008Z"
   },
   {
    "duration": 11,
    "start_time": "2023-03-07T16:25:48.419Z"
   },
   {
    "duration": 233,
    "start_time": "2023-03-07T16:25:50.296Z"
   },
   {
    "duration": 4,
    "start_time": "2023-03-07T16:26:25.938Z"
   },
   {
    "duration": 6,
    "start_time": "2023-03-07T16:26:30.899Z"
   },
   {
    "duration": 569,
    "start_time": "2023-03-07T16:26:41.844Z"
   },
   {
    "duration": 24,
    "start_time": "2023-03-07T16:26:42.415Z"
   },
   {
    "duration": 1286,
    "start_time": "2023-03-07T16:26:42.440Z"
   },
   {
    "duration": 86,
    "start_time": "2023-03-07T16:26:43.728Z"
   },
   {
    "duration": 30,
    "start_time": "2023-03-07T16:26:43.815Z"
   },
   {
    "duration": 9,
    "start_time": "2023-03-07T16:26:43.847Z"
   },
   {
    "duration": 12,
    "start_time": "2023-03-07T16:26:43.857Z"
   },
   {
    "duration": 5,
    "start_time": "2023-03-07T16:26:43.871Z"
   },
   {
    "duration": 12,
    "start_time": "2023-03-07T16:26:43.877Z"
   },
   {
    "duration": 260,
    "start_time": "2023-03-07T16:26:43.892Z"
   },
   {
    "duration": 28,
    "start_time": "2023-03-07T16:26:44.153Z"
   },
   {
    "duration": 5,
    "start_time": "2023-03-07T16:26:44.183Z"
   },
   {
    "duration": 48,
    "start_time": "2023-03-07T16:26:44.190Z"
   },
   {
    "duration": 30,
    "start_time": "2023-03-07T16:26:44.240Z"
   },
   {
    "duration": 22,
    "start_time": "2023-03-07T16:26:44.271Z"
   },
   {
    "duration": 500,
    "start_time": "2023-03-07T16:26:44.295Z"
   },
   {
    "duration": 148,
    "start_time": "2023-03-07T16:26:44.796Z"
   },
   {
    "duration": 20,
    "start_time": "2023-03-07T16:26:44.946Z"
   },
   {
    "duration": 6,
    "start_time": "2023-03-07T16:26:44.968Z"
   },
   {
    "duration": 170,
    "start_time": "2023-03-07T16:26:44.975Z"
   },
   {
    "duration": 402,
    "start_time": "2023-03-07T16:26:45.147Z"
   },
   {
    "duration": 9,
    "start_time": "2023-03-07T16:26:45.551Z"
   },
   {
    "duration": 27,
    "start_time": "2023-03-07T16:26:45.562Z"
   },
   {
    "duration": 51,
    "start_time": "2023-03-07T16:26:45.591Z"
   },
   {
    "duration": 16,
    "start_time": "2023-03-07T16:26:45.644Z"
   },
   {
    "duration": 13,
    "start_time": "2023-03-07T16:26:45.662Z"
   },
   {
    "duration": 196,
    "start_time": "2023-03-07T16:26:45.677Z"
   },
   {
    "duration": 10,
    "start_time": "2023-03-07T16:26:45.876Z"
   },
   {
    "duration": 13,
    "start_time": "2023-03-07T16:26:45.887Z"
   },
   {
    "duration": 9,
    "start_time": "2023-03-07T16:26:45.901Z"
   },
   {
    "duration": 12,
    "start_time": "2023-03-07T16:26:45.930Z"
   },
   {
    "duration": 125,
    "start_time": "2023-03-07T16:27:22.589Z"
   },
   {
    "duration": 63,
    "start_time": "2023-03-07T16:27:27.229Z"
   },
   {
    "duration": 5,
    "start_time": "2023-03-07T16:27:46.806Z"
   },
   {
    "duration": 348,
    "start_time": "2023-03-07T16:28:00.634Z"
   },
   {
    "duration": 10,
    "start_time": "2023-03-07T16:28:15.113Z"
   },
   {
    "duration": 5,
    "start_time": "2023-03-07T16:28:16.294Z"
   },
   {
    "duration": 376,
    "start_time": "2023-03-07T16:28:19.372Z"
   },
   {
    "duration": 255,
    "start_time": "2023-03-07T16:28:25.306Z"
   },
   {
    "duration": 238,
    "start_time": "2023-03-07T16:28:37.229Z"
   },
   {
    "duration": 7,
    "start_time": "2023-03-07T16:31:10.287Z"
   },
   {
    "duration": 646,
    "start_time": "2023-03-07T16:31:15.473Z"
   },
   {
    "duration": 10,
    "start_time": "2023-03-07T16:32:50.764Z"
   },
   {
    "duration": 12,
    "start_time": "2023-03-07T16:33:19.177Z"
   },
   {
    "duration": 12,
    "start_time": "2023-03-07T16:33:31.641Z"
   },
   {
    "duration": 237,
    "start_time": "2023-03-07T16:34:05.939Z"
   },
   {
    "duration": 4,
    "start_time": "2023-03-07T16:35:58.809Z"
   },
   {
    "duration": 5,
    "start_time": "2023-03-07T16:36:03.901Z"
   },
   {
    "duration": 6,
    "start_time": "2023-03-07T16:36:40.244Z"
   },
   {
    "duration": 66,
    "start_time": "2023-03-07T16:36:43.889Z"
   },
   {
    "duration": 5,
    "start_time": "2023-03-07T16:36:46.476Z"
   },
   {
    "duration": 429,
    "start_time": "2023-03-07T16:37:33.927Z"
   },
   {
    "duration": 8,
    "start_time": "2023-03-07T16:37:54.967Z"
   },
   {
    "duration": 8,
    "start_time": "2023-03-07T16:37:58.905Z"
   },
   {
    "duration": 3,
    "start_time": "2023-03-07T16:38:10.779Z"
   },
   {
    "duration": 7,
    "start_time": "2023-03-07T16:38:15.544Z"
   },
   {
    "duration": 10,
    "start_time": "2023-03-07T16:38:50.597Z"
   },
   {
    "duration": 19,
    "start_time": "2023-03-07T16:42:34.274Z"
   },
   {
    "duration": 701,
    "start_time": "2023-03-07T16:42:42.328Z"
   },
   {
    "duration": 6,
    "start_time": "2023-03-07T16:43:01.174Z"
   },
   {
    "duration": 220,
    "start_time": "2023-03-07T16:43:13.172Z"
   },
   {
    "duration": 515,
    "start_time": "2023-03-07T16:50:53.079Z"
   },
   {
    "duration": 691,
    "start_time": "2023-03-07T16:51:06.223Z"
   },
   {
    "duration": 518,
    "start_time": "2023-03-07T16:51:28.028Z"
   },
   {
    "duration": 16,
    "start_time": "2023-03-07T16:51:28.975Z"
   },
   {
    "duration": 2224,
    "start_time": "2023-03-07T16:52:24.367Z"
   },
   {
    "duration": 73,
    "start_time": "2023-03-07T16:52:29.894Z"
   },
   {
    "duration": 10,
    "start_time": "2023-03-07T16:52:33.953Z"
   },
   {
    "duration": 7,
    "start_time": "2023-03-07T16:52:35.875Z"
   },
   {
    "duration": 9,
    "start_time": "2023-03-07T16:52:38.085Z"
   },
   {
    "duration": 4,
    "start_time": "2023-03-07T16:52:40.148Z"
   },
   {
    "duration": 12,
    "start_time": "2023-03-07T16:53:12.293Z"
   },
   {
    "duration": 237,
    "start_time": "2023-03-07T16:53:17.893Z"
   },
   {
    "duration": 17,
    "start_time": "2023-03-07T16:53:21.678Z"
   },
   {
    "duration": 5,
    "start_time": "2023-03-07T16:53:25.197Z"
   },
   {
    "duration": 39,
    "start_time": "2023-03-07T16:53:26.818Z"
   },
   {
    "duration": 22,
    "start_time": "2023-03-07T16:53:28.740Z"
   },
   {
    "duration": 24,
    "start_time": "2023-03-07T16:53:46.703Z"
   },
   {
    "duration": 448,
    "start_time": "2023-03-07T16:53:48.615Z"
   },
   {
    "duration": 132,
    "start_time": "2023-03-07T16:53:52.195Z"
   },
   {
    "duration": 21,
    "start_time": "2023-03-07T16:54:02.671Z"
   },
   {
    "duration": 7,
    "start_time": "2023-03-07T16:54:06.778Z"
   },
   {
    "duration": 150,
    "start_time": "2023-03-07T16:54:07.113Z"
   },
   {
    "duration": 501,
    "start_time": "2023-03-07T16:54:09.971Z"
   },
   {
    "duration": 9,
    "start_time": "2023-03-07T16:54:12.680Z"
   },
   {
    "duration": 101,
    "start_time": "2023-03-07T16:54:24.544Z"
   },
   {
    "duration": 25,
    "start_time": "2023-03-07T16:54:59.936Z"
   },
   {
    "duration": 19,
    "start_time": "2023-03-07T16:55:08.940Z"
   },
   {
    "duration": 18,
    "start_time": "2023-03-07T16:55:15.918Z"
   },
   {
    "duration": 14,
    "start_time": "2023-03-07T16:55:24.870Z"
   },
   {
    "duration": 192,
    "start_time": "2023-03-07T16:55:34.605Z"
   },
   {
    "duration": 9,
    "start_time": "2023-03-07T16:55:37.515Z"
   },
   {
    "duration": 8,
    "start_time": "2023-03-07T16:55:55.696Z"
   },
   {
    "duration": 10,
    "start_time": "2023-03-07T16:56:03.699Z"
   },
   {
    "duration": 12,
    "start_time": "2023-03-07T16:56:07.115Z"
   },
   {
    "duration": 32,
    "start_time": "2023-03-07T16:56:21.938Z"
   },
   {
    "duration": 176,
    "start_time": "2023-03-07T16:56:35.221Z"
   },
   {
    "duration": 7,
    "start_time": "2023-03-07T16:56:42.962Z"
   },
   {
    "duration": 23,
    "start_time": "2023-03-07T16:56:51.675Z"
   },
   {
    "duration": 10,
    "start_time": "2023-03-07T16:56:59.922Z"
   },
   {
    "duration": 15,
    "start_time": "2023-03-07T16:57:12.536Z"
   },
   {
    "duration": 414,
    "start_time": "2023-03-07T16:57:12.905Z"
   },
   {
    "duration": 171,
    "start_time": "2023-03-07T16:57:13.321Z"
   },
   {
    "duration": 166,
    "start_time": "2023-03-07T16:57:21.099Z"
   },
   {
    "duration": 34,
    "start_time": "2023-03-07T16:57:27.335Z"
   },
   {
    "duration": 18,
    "start_time": "2023-03-07T16:57:37.327Z"
   },
   {
    "duration": 171,
    "start_time": "2023-03-07T16:57:43.361Z"
   },
   {
    "duration": 150,
    "start_time": "2023-03-07T16:57:48.594Z"
   },
   {
    "duration": 383,
    "start_time": "2023-03-07T16:58:00.356Z"
   },
   {
    "duration": 10,
    "start_time": "2023-03-07T16:58:06.940Z"
   },
   {
    "duration": 194,
    "start_time": "2023-03-07T16:58:12.961Z"
   },
   {
    "duration": 10,
    "start_time": "2023-03-07T16:58:22.905Z"
   },
   {
    "duration": 10,
    "start_time": "2023-03-07T16:58:28.571Z"
   },
   {
    "duration": 24,
    "start_time": "2023-03-07T16:58:48.065Z"
   },
   {
    "duration": 15,
    "start_time": "2023-03-07T16:58:56.422Z"
   },
   {
    "duration": 5,
    "start_time": "2023-03-07T16:59:02.952Z"
   },
   {
    "duration": 21,
    "start_time": "2023-03-07T16:59:19.090Z"
   },
   {
    "duration": 949,
    "start_time": "2023-03-07T16:59:30.543Z"
   },
   {
    "duration": 8,
    "start_time": "2023-03-07T16:59:36.797Z"
   },
   {
    "duration": 24,
    "start_time": "2023-03-07T16:59:43.756Z"
   },
   {
    "duration": 1132,
    "start_time": "2023-03-07T17:00:17.492Z"
   },
   {
    "duration": 592,
    "start_time": "2023-03-07T17:00:35.489Z"
   },
   {
    "duration": 579,
    "start_time": "2023-03-07T17:00:47.304Z"
   },
   {
    "duration": 158,
    "start_time": "2023-03-07T17:00:53.947Z"
   },
   {
    "duration": 158,
    "start_time": "2023-03-07T17:00:59.600Z"
   },
   {
    "duration": 323,
    "start_time": "2023-03-07T17:01:04.098Z"
   },
   {
    "duration": 202,
    "start_time": "2023-03-07T17:01:08.994Z"
   },
   {
    "duration": 833,
    "start_time": "2023-03-07T17:01:15.346Z"
   },
   {
    "duration": 431,
    "start_time": "2023-03-07T17:01:21.290Z"
   },
   {
    "duration": 301,
    "start_time": "2023-03-07T17:01:28.722Z"
   },
   {
    "duration": 9,
    "start_time": "2023-03-07T17:01:34.515Z"
   },
   {
    "duration": 447,
    "start_time": "2023-03-07T17:01:39.490Z"
   },
   {
    "duration": 12,
    "start_time": "2023-03-07T17:01:51.576Z"
   },
   {
    "duration": 598,
    "start_time": "2023-03-07T17:02:06.094Z"
   },
   {
    "duration": 314,
    "start_time": "2023-03-07T17:02:18.937Z"
   },
   {
    "duration": 309,
    "start_time": "2023-03-07T17:02:32.063Z"
   },
   {
    "duration": 294,
    "start_time": "2023-03-07T17:02:39.132Z"
   },
   {
    "duration": 966,
    "start_time": "2023-03-07T19:33:42.154Z"
   },
   {
    "duration": 18,
    "start_time": "2023-03-07T19:33:43.123Z"
   },
   {
    "duration": 3104,
    "start_time": "2023-03-07T19:33:43.144Z"
   },
   {
    "duration": 96,
    "start_time": "2023-03-07T19:33:46.250Z"
   },
   {
    "duration": 9,
    "start_time": "2023-03-07T19:33:46.349Z"
   },
   {
    "duration": 16,
    "start_time": "2023-03-07T19:33:46.360Z"
   },
   {
    "duration": 29,
    "start_time": "2023-03-07T19:33:46.383Z"
   },
   {
    "duration": 7,
    "start_time": "2023-03-07T19:33:46.414Z"
   },
   {
    "duration": 18,
    "start_time": "2023-03-07T19:33:46.424Z"
   },
   {
    "duration": 357,
    "start_time": "2023-03-07T19:33:46.444Z"
   },
   {
    "duration": 28,
    "start_time": "2023-03-07T19:33:46.803Z"
   },
   {
    "duration": 17,
    "start_time": "2023-03-07T19:33:46.833Z"
   },
   {
    "duration": 80,
    "start_time": "2023-03-07T19:33:46.853Z"
   },
   {
    "duration": 29,
    "start_time": "2023-03-07T19:33:46.938Z"
   },
   {
    "duration": 26,
    "start_time": "2023-03-07T19:33:46.973Z"
   },
   {
    "duration": 660,
    "start_time": "2023-03-07T19:33:47.002Z"
   },
   {
    "duration": 171,
    "start_time": "2023-03-07T19:33:47.665Z"
   },
   {
    "duration": 40,
    "start_time": "2023-03-07T19:33:47.838Z"
   },
   {
    "duration": 12,
    "start_time": "2023-03-07T19:33:47.879Z"
   },
   {
    "duration": 222,
    "start_time": "2023-03-07T19:33:47.893Z"
   },
   {
    "duration": 631,
    "start_time": "2023-03-07T19:33:48.117Z"
   },
   {
    "duration": 9,
    "start_time": "2023-03-07T19:33:48.749Z"
   },
   {
    "duration": 58,
    "start_time": "2023-03-07T19:33:48.760Z"
   },
   {
    "duration": 23,
    "start_time": "2023-03-07T19:33:48.820Z"
   },
   {
    "duration": 43,
    "start_time": "2023-03-07T19:33:48.845Z"
   },
   {
    "duration": 31,
    "start_time": "2023-03-07T19:33:48.891Z"
   },
   {
    "duration": 277,
    "start_time": "2023-03-07T19:33:48.925Z"
   },
   {
    "duration": 15,
    "start_time": "2023-03-07T19:33:49.205Z"
   },
   {
    "duration": 13,
    "start_time": "2023-03-07T19:33:49.222Z"
   },
   {
    "duration": 11,
    "start_time": "2023-03-07T19:33:49.238Z"
   },
   {
    "duration": 69,
    "start_time": "2023-03-07T19:33:49.250Z"
   },
   {
    "duration": 235,
    "start_time": "2023-03-07T19:33:49.321Z"
   },
   {
    "duration": 20,
    "start_time": "2023-03-07T19:33:49.558Z"
   },
   {
    "duration": 36,
    "start_time": "2023-03-07T19:33:49.583Z"
   },
   {
    "duration": 12,
    "start_time": "2023-03-07T19:33:49.621Z"
   },
   {
    "duration": 17,
    "start_time": "2023-03-07T19:33:49.635Z"
   },
   {
    "duration": 585,
    "start_time": "2023-03-07T19:33:49.654Z"
   },
   {
    "duration": 241,
    "start_time": "2023-03-07T19:33:50.242Z"
   },
   {
    "duration": 241,
    "start_time": "2023-03-07T19:33:50.485Z"
   },
   {
    "duration": 70,
    "start_time": "2023-03-07T19:33:50.729Z"
   },
   {
    "duration": 24,
    "start_time": "2023-03-07T19:33:50.806Z"
   },
   {
    "duration": 246,
    "start_time": "2023-03-07T19:33:50.832Z"
   },
   {
    "duration": 237,
    "start_time": "2023-03-07T19:33:51.080Z"
   },
   {
    "duration": 462,
    "start_time": "2023-03-07T19:33:51.319Z"
   },
   {
    "duration": 18,
    "start_time": "2023-03-07T19:33:51.783Z"
   },
   {
    "duration": 294,
    "start_time": "2023-03-07T19:33:51.803Z"
   },
   {
    "duration": 14,
    "start_time": "2023-03-07T19:33:52.100Z"
   },
   {
    "duration": 10,
    "start_time": "2023-03-07T19:33:52.116Z"
   },
   {
    "duration": 55,
    "start_time": "2023-03-07T19:33:52.129Z"
   },
   {
    "duration": 35,
    "start_time": "2023-03-07T19:33:52.186Z"
   },
   {
    "duration": 1218,
    "start_time": "2023-03-07T19:33:52.223Z"
   },
   {
    "duration": 8,
    "start_time": "2023-03-07T19:33:53.443Z"
   },
   {
    "duration": 59,
    "start_time": "2023-03-07T19:33:53.453Z"
   },
   {
    "duration": 1496,
    "start_time": "2023-03-07T19:33:53.515Z"
   },
   {
    "duration": 795,
    "start_time": "2023-03-07T19:33:55.016Z"
   },
   {
    "duration": 781,
    "start_time": "2023-03-07T19:33:55.813Z"
   },
   {
    "duration": 224,
    "start_time": "2023-03-07T19:33:56.596Z"
   },
   {
    "duration": 223,
    "start_time": "2023-03-07T19:33:56.822Z"
   },
   {
    "duration": 448,
    "start_time": "2023-03-07T19:33:57.047Z"
   },
   {
    "duration": 272,
    "start_time": "2023-03-07T19:33:57.497Z"
   },
   {
    "duration": 1092,
    "start_time": "2023-03-07T19:33:57.770Z"
   },
   {
    "duration": 579,
    "start_time": "2023-03-07T19:33:58.864Z"
   },
   {
    "duration": 391,
    "start_time": "2023-03-07T19:33:59.445Z"
   },
   {
    "duration": 8,
    "start_time": "2023-03-07T19:33:59.838Z"
   },
   {
    "duration": 605,
    "start_time": "2023-03-07T19:33:59.848Z"
   },
   {
    "duration": 12,
    "start_time": "2023-03-07T19:34:00.455Z"
   },
   {
    "duration": 845,
    "start_time": "2023-03-07T19:34:00.473Z"
   },
   {
    "duration": 432,
    "start_time": "2023-03-07T19:34:01.320Z"
   },
   {
    "duration": 392,
    "start_time": "2023-03-07T19:34:01.753Z"
   },
   {
    "duration": 386,
    "start_time": "2023-03-07T19:34:02.147Z"
   },
   {
    "duration": 61,
    "start_time": "2023-03-07T19:39:27.145Z"
   },
   {
    "duration": 99,
    "start_time": "2023-03-07T19:39:53.227Z"
   },
   {
    "duration": 73,
    "start_time": "2023-03-07T19:40:03.497Z"
   },
   {
    "duration": 235,
    "start_time": "2023-03-07T19:40:08.166Z"
   },
   {
    "duration": 56,
    "start_time": "2023-03-07T19:41:01.012Z"
   },
   {
    "duration": 46,
    "start_time": "2023-03-07T19:52:23.199Z"
   },
   {
    "duration": 167,
    "start_time": "2023-03-07T19:55:02.251Z"
   },
   {
    "duration": 47,
    "start_time": "2023-03-07T19:56:19.806Z"
   },
   {
    "duration": 14,
    "start_time": "2023-03-07T19:57:55.498Z"
   },
   {
    "duration": 12,
    "start_time": "2023-03-07T19:57:59.335Z"
   },
   {
    "duration": 287,
    "start_time": "2023-03-07T19:57:59.350Z"
   },
   {
    "duration": 9,
    "start_time": "2023-03-07T19:57:59.639Z"
   },
   {
    "duration": 22,
    "start_time": "2023-03-07T19:57:59.651Z"
   },
   {
    "duration": 47,
    "start_time": "2023-03-07T19:57:59.674Z"
   },
   {
    "duration": 25,
    "start_time": "2023-03-07T19:57:59.723Z"
   },
   {
    "duration": 1300,
    "start_time": "2023-03-07T19:57:59.750Z"
   },
   {
    "duration": 8,
    "start_time": "2023-03-07T19:58:01.052Z"
   },
   {
    "duration": 99,
    "start_time": "2023-03-07T19:58:01.062Z"
   },
   {
    "duration": 1217,
    "start_time": "2023-03-07T19:58:01.164Z"
   },
   {
    "duration": 733,
    "start_time": "2023-03-07T19:58:02.383Z"
   },
   {
    "duration": 751,
    "start_time": "2023-03-07T19:58:03.118Z"
   },
   {
    "duration": 451,
    "start_time": "2023-03-07T19:58:03.871Z"
   },
   {
    "duration": 237,
    "start_time": "2023-03-07T19:58:04.324Z"
   },
   {
    "duration": 251,
    "start_time": "2023-03-07T19:58:04.563Z"
   },
   {
    "duration": 254,
    "start_time": "2023-03-07T19:58:04.816Z"
   },
   {
    "duration": 1058,
    "start_time": "2023-03-07T19:58:05.072Z"
   },
   {
    "duration": 578,
    "start_time": "2023-03-07T19:58:06.132Z"
   },
   {
    "duration": 389,
    "start_time": "2023-03-07T19:58:06.712Z"
   },
   {
    "duration": 10,
    "start_time": "2023-03-07T19:58:07.103Z"
   },
   {
    "duration": 405,
    "start_time": "2023-03-07T19:58:07.115Z"
   },
   {
    "duration": 12,
    "start_time": "2023-03-07T19:58:07.522Z"
   },
   {
    "duration": 906,
    "start_time": "2023-03-07T19:58:07.536Z"
   },
   {
    "duration": 391,
    "start_time": "2023-03-07T19:58:08.444Z"
   },
   {
    "duration": 391,
    "start_time": "2023-03-07T19:58:08.837Z"
   },
   {
    "duration": 368,
    "start_time": "2023-03-07T19:58:09.230Z"
   },
   {
    "duration": 79,
    "start_time": "2023-03-07T20:01:33.243Z"
   },
   {
    "duration": 261,
    "start_time": "2023-03-07T20:09:43.599Z"
   },
   {
    "duration": 984,
    "start_time": "2023-03-07T20:13:46.078Z"
   },
   {
    "duration": 219,
    "start_time": "2023-03-07T20:23:27.618Z"
   },
   {
    "duration": 343,
    "start_time": "2023-03-07T20:25:57.072Z"
   },
   {
    "duration": 53,
    "start_time": "2023-03-07T20:26:08.025Z"
   },
   {
    "duration": 409,
    "start_time": "2023-03-07T20:26:20.359Z"
   },
   {
    "duration": 663,
    "start_time": "2023-03-07T20:34:38.151Z"
   },
   {
    "duration": 23,
    "start_time": "2023-03-07T20:34:38.817Z"
   },
   {
    "duration": 2717,
    "start_time": "2023-03-07T20:34:38.843Z"
   },
   {
    "duration": 122,
    "start_time": "2023-03-07T20:34:41.564Z"
   },
   {
    "duration": 15,
    "start_time": "2023-03-07T20:34:41.688Z"
   },
   {
    "duration": 8,
    "start_time": "2023-03-07T20:34:41.705Z"
   },
   {
    "duration": 27,
    "start_time": "2023-03-07T20:34:41.716Z"
   },
   {
    "duration": 27,
    "start_time": "2023-03-07T20:34:41.746Z"
   },
   {
    "duration": 19,
    "start_time": "2023-03-07T20:34:41.776Z"
   },
   {
    "duration": 396,
    "start_time": "2023-03-07T20:34:41.799Z"
   },
   {
    "duration": 20,
    "start_time": "2023-03-07T20:34:42.197Z"
   },
   {
    "duration": 7,
    "start_time": "2023-03-07T20:34:42.219Z"
   },
   {
    "duration": 75,
    "start_time": "2023-03-07T20:34:42.229Z"
   },
   {
    "duration": 27,
    "start_time": "2023-03-07T20:34:42.305Z"
   },
   {
    "duration": 50,
    "start_time": "2023-03-07T20:34:42.334Z"
   },
   {
    "duration": 538,
    "start_time": "2023-03-07T20:34:42.386Z"
   },
   {
    "duration": 174,
    "start_time": "2023-03-07T20:34:42.927Z"
   },
   {
    "duration": 23,
    "start_time": "2023-03-07T20:34:43.103Z"
   },
   {
    "duration": 7,
    "start_time": "2023-03-07T20:34:43.128Z"
   },
   {
    "duration": 232,
    "start_time": "2023-03-07T20:34:43.137Z"
   },
   {
    "duration": 554,
    "start_time": "2023-03-07T20:34:43.373Z"
   },
   {
    "duration": 11,
    "start_time": "2023-03-07T20:34:43.930Z"
   },
   {
    "duration": 54,
    "start_time": "2023-03-07T20:34:43.943Z"
   },
   {
    "duration": 23,
    "start_time": "2023-03-07T20:34:43.999Z"
   },
   {
    "duration": 21,
    "start_time": "2023-03-07T20:34:44.025Z"
   },
   {
    "duration": 19,
    "start_time": "2023-03-07T20:34:44.074Z"
   },
   {
    "duration": 289,
    "start_time": "2023-03-07T20:34:44.095Z"
   },
   {
    "duration": 12,
    "start_time": "2023-03-07T20:34:44.391Z"
   },
   {
    "duration": 17,
    "start_time": "2023-03-07T20:34:44.405Z"
   },
   {
    "duration": 13,
    "start_time": "2023-03-07T20:34:44.424Z"
   },
   {
    "duration": 63,
    "start_time": "2023-03-07T20:34:44.439Z"
   },
   {
    "duration": 227,
    "start_time": "2023-03-07T20:34:44.504Z"
   },
   {
    "duration": 11,
    "start_time": "2023-03-07T20:34:44.733Z"
   },
   {
    "duration": 44,
    "start_time": "2023-03-07T20:34:44.746Z"
   },
   {
    "duration": 15,
    "start_time": "2023-03-07T20:34:44.793Z"
   },
   {
    "duration": 20,
    "start_time": "2023-03-07T20:34:44.810Z"
   },
   {
    "duration": 515,
    "start_time": "2023-03-07T20:34:44.833Z"
   },
   {
    "duration": 204,
    "start_time": "2023-03-07T20:34:45.350Z"
   },
   {
    "duration": 216,
    "start_time": "2023-03-07T20:34:45.557Z"
   },
   {
    "duration": 41,
    "start_time": "2023-03-07T20:34:45.774Z"
   },
   {
    "duration": 26,
    "start_time": "2023-03-07T20:34:45.817Z"
   },
   {
    "duration": 241,
    "start_time": "2023-03-07T20:34:45.846Z"
   },
   {
    "duration": 189,
    "start_time": "2023-03-07T20:34:46.089Z"
   },
   {
    "duration": 322,
    "start_time": "2023-03-07T20:34:46.280Z"
   },
   {
    "duration": 17,
    "start_time": "2023-03-07T20:34:46.605Z"
   },
   {
    "duration": 381,
    "start_time": "2023-03-07T20:34:46.624Z"
   },
   {
    "duration": 17,
    "start_time": "2023-03-07T20:34:47.007Z"
   },
   {
    "duration": 14,
    "start_time": "2023-03-07T20:34:47.027Z"
   },
   {
    "duration": 65,
    "start_time": "2023-03-07T20:34:47.043Z"
   },
   {
    "duration": 37,
    "start_time": "2023-03-07T20:34:47.110Z"
   },
   {
    "duration": 948,
    "start_time": "2023-03-07T20:34:47.150Z"
   },
   {
    "duration": 10,
    "start_time": "2023-03-07T20:34:48.100Z"
   },
   {
    "duration": 34,
    "start_time": "2023-03-07T20:34:48.112Z"
   },
   {
    "duration": 1398,
    "start_time": "2023-03-07T20:34:48.147Z"
   },
   {
    "duration": 904,
    "start_time": "2023-03-07T20:34:49.547Z"
   },
   {
    "duration": 888,
    "start_time": "2023-03-07T20:34:50.455Z"
   },
   {
    "duration": 185,
    "start_time": "2023-03-07T20:34:51.346Z"
   },
   {
    "duration": 231,
    "start_time": "2023-03-07T20:34:51.533Z"
   },
   {
    "duration": 233,
    "start_time": "2023-03-07T20:34:51.772Z"
   },
   {
    "duration": 390,
    "start_time": "2023-03-07T20:34:52.007Z"
   },
   {
    "duration": 1052,
    "start_time": "2023-03-07T20:34:52.399Z"
   },
   {
    "duration": 546,
    "start_time": "2023-03-07T20:34:53.453Z"
   },
   {
    "duration": 397,
    "start_time": "2023-03-07T20:34:54.002Z"
   },
   {
    "duration": 11,
    "start_time": "2023-03-07T20:34:54.402Z"
   },
   {
    "duration": 529,
    "start_time": "2023-03-07T20:34:54.415Z"
   },
   {
    "duration": 27,
    "start_time": "2023-03-07T20:34:54.947Z"
   },
   {
    "duration": 656,
    "start_time": "2023-03-07T20:34:54.976Z"
   },
   {
    "duration": 374,
    "start_time": "2023-03-07T20:34:55.634Z"
   },
   {
    "duration": 363,
    "start_time": "2023-03-07T20:34:56.011Z"
   },
   {
    "duration": 366,
    "start_time": "2023-03-07T20:34:56.376Z"
   },
   {
    "duration": 250,
    "start_time": "2023-03-07T20:34:56.744Z"
   },
   {
    "duration": 412,
    "start_time": "2023-03-07T20:34:56.996Z"
   },
   {
    "duration": 600,
    "start_time": "2023-03-07T20:44:00.003Z"
   },
   {
    "duration": 30,
    "start_time": "2023-03-07T20:44:00.605Z"
   },
   {
    "duration": 3095,
    "start_time": "2023-03-07T20:44:00.641Z"
   },
   {
    "duration": 145,
    "start_time": "2023-03-07T20:44:03.739Z"
   },
   {
    "duration": 9,
    "start_time": "2023-03-07T20:44:03.888Z"
   },
   {
    "duration": 82,
    "start_time": "2023-03-07T20:44:03.899Z"
   },
   {
    "duration": 10,
    "start_time": "2023-03-07T20:44:03.984Z"
   },
   {
    "duration": 85,
    "start_time": "2023-03-07T20:44:03.996Z"
   },
   {
    "duration": 16,
    "start_time": "2023-03-07T20:44:04.084Z"
   },
   {
    "duration": 336,
    "start_time": "2023-03-07T20:44:04.106Z"
   },
   {
    "duration": 23,
    "start_time": "2023-03-07T20:44:04.448Z"
   },
   {
    "duration": 42,
    "start_time": "2023-03-07T20:44:04.473Z"
   },
   {
    "duration": 119,
    "start_time": "2023-03-07T20:44:04.519Z"
   },
   {
    "duration": 28,
    "start_time": "2023-03-07T20:44:04.640Z"
   },
   {
    "duration": 47,
    "start_time": "2023-03-07T20:44:04.670Z"
   },
   {
    "duration": 620,
    "start_time": "2023-03-07T20:44:04.718Z"
   },
   {
    "duration": 178,
    "start_time": "2023-03-07T20:44:05.340Z"
   },
   {
    "duration": 31,
    "start_time": "2023-03-07T20:44:05.520Z"
   },
   {
    "duration": 29,
    "start_time": "2023-03-07T20:44:05.557Z"
   },
   {
    "duration": 210,
    "start_time": "2023-03-07T20:44:05.588Z"
   },
   {
    "duration": 715,
    "start_time": "2023-03-07T20:44:05.803Z"
   },
   {
    "duration": 22,
    "start_time": "2023-03-07T20:44:06.524Z"
   },
   {
    "duration": 74,
    "start_time": "2023-03-07T20:44:06.552Z"
   },
   {
    "duration": 53,
    "start_time": "2023-03-07T20:44:06.629Z"
   },
   {
    "duration": 22,
    "start_time": "2023-03-07T20:44:06.684Z"
   },
   {
    "duration": 105,
    "start_time": "2023-03-07T20:44:06.707Z"
   },
   {
    "duration": 345,
    "start_time": "2023-03-07T20:44:06.815Z"
   },
   {
    "duration": 17,
    "start_time": "2023-03-07T20:44:07.169Z"
   },
   {
    "duration": 18,
    "start_time": "2023-03-07T20:44:07.190Z"
   },
   {
    "duration": 75,
    "start_time": "2023-03-07T20:44:07.210Z"
   },
   {
    "duration": 51,
    "start_time": "2023-03-07T20:44:07.287Z"
   },
   {
    "duration": 279,
    "start_time": "2023-03-07T20:44:07.340Z"
   },
   {
    "duration": 13,
    "start_time": "2023-03-07T20:44:07.620Z"
   },
   {
    "duration": 78,
    "start_time": "2023-03-07T20:44:07.637Z"
   },
   {
    "duration": 12,
    "start_time": "2023-03-07T20:44:07.717Z"
   },
   {
    "duration": 45,
    "start_time": "2023-03-07T20:44:07.731Z"
   },
   {
    "duration": 617,
    "start_time": "2023-03-07T20:44:07.778Z"
   },
   {
    "duration": 229,
    "start_time": "2023-03-07T20:44:08.398Z"
   },
   {
    "duration": 216,
    "start_time": "2023-03-07T20:44:08.633Z"
   },
   {
    "duration": 69,
    "start_time": "2023-03-07T20:44:08.865Z"
   },
   {
    "duration": 69,
    "start_time": "2023-03-07T20:44:08.937Z"
   },
   {
    "duration": 346,
    "start_time": "2023-03-07T20:44:09.008Z"
   },
   {
    "duration": 274,
    "start_time": "2023-03-07T20:44:09.365Z"
   },
   {
    "duration": 375,
    "start_time": "2023-03-07T20:44:09.641Z"
   },
   {
    "duration": 18,
    "start_time": "2023-03-07T20:44:10.019Z"
   },
   {
    "duration": 438,
    "start_time": "2023-03-07T20:44:10.039Z"
   },
   {
    "duration": 12,
    "start_time": "2023-03-07T20:44:10.479Z"
   },
   {
    "duration": 36,
    "start_time": "2023-03-07T20:44:10.502Z"
   },
   {
    "duration": 60,
    "start_time": "2023-03-07T20:44:10.545Z"
   },
   {
    "duration": 55,
    "start_time": "2023-03-07T20:44:10.607Z"
   },
   {
    "duration": 1295,
    "start_time": "2023-03-07T20:44:10.666Z"
   },
   {
    "duration": 20,
    "start_time": "2023-03-07T20:44:11.963Z"
   },
   {
    "duration": 57,
    "start_time": "2023-03-07T20:44:11.985Z"
   },
   {
    "duration": 1504,
    "start_time": "2023-03-07T20:44:12.049Z"
   },
   {
    "duration": 989,
    "start_time": "2023-03-07T20:44:13.555Z"
   },
   {
    "duration": 907,
    "start_time": "2023-03-07T20:44:14.548Z"
   },
   {
    "duration": 220,
    "start_time": "2023-03-07T20:44:15.462Z"
   },
   {
    "duration": 250,
    "start_time": "2023-03-07T20:44:15.684Z"
   },
   {
    "duration": 261,
    "start_time": "2023-03-07T20:44:15.940Z"
   },
   {
    "duration": 445,
    "start_time": "2023-03-07T20:44:16.203Z"
   },
   {
    "duration": 1200,
    "start_time": "2023-03-07T20:44:16.652Z"
   },
   {
    "duration": 609,
    "start_time": "2023-03-07T20:44:17.856Z"
   },
   {
    "duration": 431,
    "start_time": "2023-03-07T20:44:18.467Z"
   },
   {
    "duration": 27,
    "start_time": "2023-03-07T20:44:18.919Z"
   },
   {
    "duration": 638,
    "start_time": "2023-03-07T20:44:18.951Z"
   },
   {
    "duration": 25,
    "start_time": "2023-03-07T20:44:19.591Z"
   },
   {
    "duration": 823,
    "start_time": "2023-03-07T20:44:19.617Z"
   },
   {
    "duration": 431,
    "start_time": "2023-03-07T20:44:20.448Z"
   },
   {
    "duration": 412,
    "start_time": "2023-03-07T20:44:20.881Z"
   },
   {
    "duration": 391,
    "start_time": "2023-03-07T20:44:21.294Z"
   },
   {
    "duration": 270,
    "start_time": "2023-03-07T20:44:21.687Z"
   },
   {
    "duration": 414,
    "start_time": "2023-03-07T20:44:21.958Z"
   },
   {
    "duration": 656,
    "start_time": "2023-03-08T06:44:11.499Z"
   },
   {
    "duration": 28,
    "start_time": "2023-03-08T06:44:12.158Z"
   },
   {
    "duration": 2610,
    "start_time": "2023-03-08T06:44:12.188Z"
   },
   {
    "duration": 98,
    "start_time": "2023-03-08T06:44:14.800Z"
   },
   {
    "duration": 11,
    "start_time": "2023-03-08T06:44:14.900Z"
   },
   {
    "duration": 47,
    "start_time": "2023-03-08T06:44:14.913Z"
   },
   {
    "duration": 18,
    "start_time": "2023-03-08T06:44:14.962Z"
   },
   {
    "duration": 17,
    "start_time": "2023-03-08T06:44:14.981Z"
   },
   {
    "duration": 33,
    "start_time": "2023-03-08T06:44:14.999Z"
   },
   {
    "duration": 280,
    "start_time": "2023-03-08T06:44:15.033Z"
   },
   {
    "duration": 42,
    "start_time": "2023-03-08T06:44:15.317Z"
   },
   {
    "duration": 17,
    "start_time": "2023-03-08T06:44:15.361Z"
   },
   {
    "duration": 50,
    "start_time": "2023-03-08T06:44:15.380Z"
   },
   {
    "duration": 44,
    "start_time": "2023-03-08T06:44:15.433Z"
   },
   {
    "duration": 23,
    "start_time": "2023-03-08T06:44:15.479Z"
   },
   {
    "duration": 579,
    "start_time": "2023-03-08T06:44:15.504Z"
   },
   {
    "duration": 147,
    "start_time": "2023-03-08T06:44:16.085Z"
   },
   {
    "duration": 35,
    "start_time": "2023-03-08T06:44:16.241Z"
   },
   {
    "duration": 6,
    "start_time": "2023-03-08T06:44:16.279Z"
   },
   {
    "duration": 234,
    "start_time": "2023-03-08T06:44:16.287Z"
   },
   {
    "duration": 581,
    "start_time": "2023-03-08T06:44:16.525Z"
   },
   {
    "duration": 10,
    "start_time": "2023-03-08T06:44:17.108Z"
   },
   {
    "duration": 61,
    "start_time": "2023-03-08T06:44:17.120Z"
   },
   {
    "duration": 23,
    "start_time": "2023-03-08T06:44:17.183Z"
   },
   {
    "duration": 45,
    "start_time": "2023-03-08T06:44:17.208Z"
   },
   {
    "duration": 24,
    "start_time": "2023-03-08T06:44:17.260Z"
   },
   {
    "duration": 363,
    "start_time": "2023-03-08T06:44:17.286Z"
   },
   {
    "duration": 19,
    "start_time": "2023-03-08T06:44:17.652Z"
   },
   {
    "duration": 28,
    "start_time": "2023-03-08T06:44:17.673Z"
   },
   {
    "duration": 30,
    "start_time": "2023-03-08T06:44:17.704Z"
   },
   {
    "duration": 76,
    "start_time": "2023-03-08T06:44:17.737Z"
   },
   {
    "duration": 269,
    "start_time": "2023-03-08T06:44:17.815Z"
   },
   {
    "duration": 10,
    "start_time": "2023-03-08T06:44:18.086Z"
   },
   {
    "duration": 24,
    "start_time": "2023-03-08T06:44:18.098Z"
   },
   {
    "duration": 18,
    "start_time": "2023-03-08T06:44:18.146Z"
   },
   {
    "duration": 23,
    "start_time": "2023-03-08T06:44:18.167Z"
   },
   {
    "duration": 535,
    "start_time": "2023-03-08T06:44:18.192Z"
   },
   {
    "duration": 266,
    "start_time": "2023-03-08T06:44:18.729Z"
   },
   {
    "duration": 207,
    "start_time": "2023-03-08T06:44:18.998Z"
   },
   {
    "duration": 52,
    "start_time": "2023-03-08T06:44:19.207Z"
   },
   {
    "duration": 22,
    "start_time": "2023-03-08T06:44:19.265Z"
   },
   {
    "duration": 225,
    "start_time": "2023-03-08T06:44:19.289Z"
   },
   {
    "duration": 191,
    "start_time": "2023-03-08T06:44:19.516Z"
   },
   {
    "duration": 343,
    "start_time": "2023-03-08T06:44:19.709Z"
   },
   {
    "duration": 18,
    "start_time": "2023-03-08T06:44:20.056Z"
   },
   {
    "duration": 368,
    "start_time": "2023-03-08T06:44:20.076Z"
   },
   {
    "duration": 20,
    "start_time": "2023-03-08T06:44:20.446Z"
   },
   {
    "duration": 13,
    "start_time": "2023-03-08T06:44:20.468Z"
   },
   {
    "duration": 28,
    "start_time": "2023-03-08T06:44:20.483Z"
   },
   {
    "duration": 58,
    "start_time": "2023-03-08T06:44:20.513Z"
   },
   {
    "duration": 1102,
    "start_time": "2023-03-08T06:44:20.573Z"
   },
   {
    "duration": 8,
    "start_time": "2023-03-08T06:44:21.677Z"
   },
   {
    "duration": 44,
    "start_time": "2023-03-08T06:44:21.687Z"
   },
   {
    "duration": 1363,
    "start_time": "2023-03-08T06:44:21.735Z"
   },
   {
    "duration": 711,
    "start_time": "2023-03-08T06:44:23.100Z"
   },
   {
    "duration": 713,
    "start_time": "2023-03-08T06:44:23.813Z"
   },
   {
    "duration": 186,
    "start_time": "2023-03-08T06:44:24.527Z"
   },
   {
    "duration": 191,
    "start_time": "2023-03-08T06:44:24.715Z"
   },
   {
    "duration": 217,
    "start_time": "2023-03-08T06:44:24.907Z"
   },
   {
    "duration": 385,
    "start_time": "2023-03-08T06:44:25.126Z"
   },
   {
    "duration": 1015,
    "start_time": "2023-03-08T06:44:25.513Z"
   },
   {
    "duration": 553,
    "start_time": "2023-03-08T06:44:26.530Z"
   },
   {
    "duration": 447,
    "start_time": "2023-03-08T06:44:27.088Z"
   },
   {
    "duration": 12,
    "start_time": "2023-03-08T06:44:27.538Z"
   },
   {
    "duration": 573,
    "start_time": "2023-03-08T06:44:27.552Z"
   },
   {
    "duration": 22,
    "start_time": "2023-03-08T06:44:28.127Z"
   },
   {
    "duration": 685,
    "start_time": "2023-03-08T06:44:28.151Z"
   },
   {
    "duration": 405,
    "start_time": "2023-03-08T06:44:28.838Z"
   },
   {
    "duration": 365,
    "start_time": "2023-03-08T06:44:29.253Z"
   },
   {
    "duration": 344,
    "start_time": "2023-03-08T06:44:29.620Z"
   },
   {
    "duration": 217,
    "start_time": "2023-03-08T06:44:29.966Z"
   },
   {
    "duration": 373,
    "start_time": "2023-03-08T06:44:30.185Z"
   },
   {
    "duration": 24,
    "start_time": "2023-03-08T06:47:09.142Z"
   },
   {
    "duration": 16,
    "start_time": "2023-03-08T06:47:33.531Z"
   },
   {
    "duration": 100,
    "start_time": "2023-03-08T06:47:36.794Z"
   },
   {
    "duration": 101,
    "start_time": "2023-03-08T06:50:27.331Z"
   },
   {
    "duration": 13,
    "start_time": "2023-03-08T06:52:02.720Z"
   },
   {
    "duration": 12,
    "start_time": "2023-03-08T06:52:10.630Z"
   },
   {
    "duration": 22,
    "start_time": "2023-03-08T06:52:14.448Z"
   },
   {
    "duration": 736,
    "start_time": "2023-03-08T09:21:58.401Z"
   },
   {
    "duration": 14,
    "start_time": "2023-03-08T09:21:59.139Z"
   },
   {
    "duration": 2339,
    "start_time": "2023-03-08T09:21:59.155Z"
   },
   {
    "duration": 76,
    "start_time": "2023-03-08T09:22:01.497Z"
   },
   {
    "duration": 21,
    "start_time": "2023-03-08T09:22:01.574Z"
   },
   {
    "duration": 52,
    "start_time": "2023-03-08T09:22:01.596Z"
   },
   {
    "duration": 35,
    "start_time": "2023-03-08T09:22:01.650Z"
   },
   {
    "duration": 50,
    "start_time": "2023-03-08T09:22:01.687Z"
   },
   {
    "duration": 49,
    "start_time": "2023-03-08T09:22:01.739Z"
   },
   {
    "duration": 122,
    "start_time": "2023-03-08T09:22:01.791Z"
   },
   {
    "duration": 0,
    "start_time": "2023-03-08T09:22:01.915Z"
   },
   {
    "duration": 0,
    "start_time": "2023-03-08T09:22:01.916Z"
   },
   {
    "duration": 0,
    "start_time": "2023-03-08T09:22:01.917Z"
   },
   {
    "duration": 0,
    "start_time": "2023-03-08T09:22:01.918Z"
   },
   {
    "duration": 0,
    "start_time": "2023-03-08T09:22:01.920Z"
   },
   {
    "duration": 0,
    "start_time": "2023-03-08T09:22:01.921Z"
   },
   {
    "duration": 0,
    "start_time": "2023-03-08T09:22:01.922Z"
   },
   {
    "duration": 0,
    "start_time": "2023-03-08T09:22:01.923Z"
   },
   {
    "duration": 0,
    "start_time": "2023-03-08T09:22:01.924Z"
   },
   {
    "duration": 0,
    "start_time": "2023-03-08T09:22:01.925Z"
   },
   {
    "duration": 0,
    "start_time": "2023-03-08T09:22:01.926Z"
   },
   {
    "duration": 0,
    "start_time": "2023-03-08T09:22:01.927Z"
   },
   {
    "duration": 0,
    "start_time": "2023-03-08T09:22:01.928Z"
   },
   {
    "duration": 0,
    "start_time": "2023-03-08T09:22:01.929Z"
   },
   {
    "duration": 0,
    "start_time": "2023-03-08T09:22:01.930Z"
   },
   {
    "duration": 0,
    "start_time": "2023-03-08T09:22:01.931Z"
   },
   {
    "duration": 0,
    "start_time": "2023-03-08T09:22:01.932Z"
   },
   {
    "duration": 140,
    "start_time": "2023-03-08T09:22:26.306Z"
   },
   {
    "duration": 15,
    "start_time": "2023-03-08T09:22:26.449Z"
   },
   {
    "duration": 1967,
    "start_time": "2023-03-08T09:22:26.466Z"
   },
   {
    "duration": 86,
    "start_time": "2023-03-08T09:22:28.435Z"
   },
   {
    "duration": 8,
    "start_time": "2023-03-08T09:22:28.523Z"
   },
   {
    "duration": 5,
    "start_time": "2023-03-08T09:22:28.533Z"
   },
   {
    "duration": 18,
    "start_time": "2023-03-08T09:22:28.539Z"
   },
   {
    "duration": 8,
    "start_time": "2023-03-08T09:22:28.559Z"
   },
   {
    "duration": 29,
    "start_time": "2023-03-08T09:22:28.569Z"
   },
   {
    "duration": 15,
    "start_time": "2023-03-08T09:22:28.600Z"
   },
   {
    "duration": 7,
    "start_time": "2023-03-08T09:22:28.616Z"
   },
   {
    "duration": 0,
    "start_time": "2023-03-08T09:22:28.625Z"
   },
   {
    "duration": 0,
    "start_time": "2023-03-08T09:22:28.626Z"
   },
   {
    "duration": 0,
    "start_time": "2023-03-08T09:22:28.628Z"
   },
   {
    "duration": 0,
    "start_time": "2023-03-08T09:22:28.629Z"
   },
   {
    "duration": 0,
    "start_time": "2023-03-08T09:22:28.631Z"
   },
   {
    "duration": 0,
    "start_time": "2023-03-08T09:22:28.632Z"
   },
   {
    "duration": 0,
    "start_time": "2023-03-08T09:22:28.634Z"
   },
   {
    "duration": 0,
    "start_time": "2023-03-08T09:22:28.636Z"
   },
   {
    "duration": 0,
    "start_time": "2023-03-08T09:22:28.637Z"
   },
   {
    "duration": 0,
    "start_time": "2023-03-08T09:22:28.638Z"
   },
   {
    "duration": 0,
    "start_time": "2023-03-08T09:22:28.639Z"
   },
   {
    "duration": 0,
    "start_time": "2023-03-08T09:22:28.641Z"
   },
   {
    "duration": 0,
    "start_time": "2023-03-08T09:22:28.642Z"
   },
   {
    "duration": 0,
    "start_time": "2023-03-08T09:22:28.644Z"
   },
   {
    "duration": 0,
    "start_time": "2023-03-08T09:22:28.645Z"
   },
   {
    "duration": 0,
    "start_time": "2023-03-08T09:22:28.691Z"
   },
   {
    "duration": 115,
    "start_time": "2023-03-08T09:22:52.352Z"
   },
   {
    "duration": 21,
    "start_time": "2023-03-08T09:22:52.469Z"
   },
   {
    "duration": 1961,
    "start_time": "2023-03-08T09:22:52.491Z"
   },
   {
    "duration": 93,
    "start_time": "2023-03-08T09:22:54.454Z"
   },
   {
    "duration": 9,
    "start_time": "2023-03-08T09:22:54.549Z"
   },
   {
    "duration": 5,
    "start_time": "2023-03-08T09:22:54.560Z"
   },
   {
    "duration": 25,
    "start_time": "2023-03-08T09:22:54.567Z"
   },
   {
    "duration": 5,
    "start_time": "2023-03-08T09:22:54.594Z"
   },
   {
    "duration": 12,
    "start_time": "2023-03-08T09:22:54.600Z"
   },
   {
    "duration": 8,
    "start_time": "2023-03-08T09:22:54.615Z"
   },
   {
    "duration": 5,
    "start_time": "2023-03-08T09:22:54.624Z"
   },
   {
    "duration": 265,
    "start_time": "2023-03-08T09:22:54.630Z"
   },
   {
    "duration": 17,
    "start_time": "2023-03-08T09:22:54.897Z"
   },
   {
    "duration": 5,
    "start_time": "2023-03-08T09:22:54.916Z"
   },
   {
    "duration": 43,
    "start_time": "2023-03-08T09:22:54.923Z"
   },
   {
    "duration": 21,
    "start_time": "2023-03-08T09:22:54.989Z"
   },
   {
    "duration": 19,
    "start_time": "2023-03-08T09:22:55.011Z"
   },
   {
    "duration": 466,
    "start_time": "2023-03-08T09:22:55.032Z"
   },
   {
    "duration": 130,
    "start_time": "2023-03-08T09:22:55.499Z"
   },
   {
    "duration": 21,
    "start_time": "2023-03-08T09:22:55.631Z"
   },
   {
    "duration": 6,
    "start_time": "2023-03-08T09:22:55.653Z"
   },
   {
    "duration": 170,
    "start_time": "2023-03-08T09:22:55.660Z"
   },
   {
    "duration": 423,
    "start_time": "2023-03-08T09:22:55.831Z"
   },
   {
    "duration": 12,
    "start_time": "2023-03-08T09:22:56.257Z"
   },
   {
    "duration": 44,
    "start_time": "2023-03-08T09:22:56.271Z"
   },
   {
    "duration": 25,
    "start_time": "2023-03-08T09:22:56.318Z"
   },
   {
    "duration": 44,
    "start_time": "2023-03-08T09:22:56.346Z"
   },
   {
    "duration": 14,
    "start_time": "2023-03-08T09:22:59.342Z"
   },
   {
    "duration": 122,
    "start_time": "2023-03-08T09:25:44.495Z"
   },
   {
    "duration": 12,
    "start_time": "2023-03-08T09:25:44.619Z"
   },
   {
    "duration": 2023,
    "start_time": "2023-03-08T09:25:44.632Z"
   },
   {
    "duration": 82,
    "start_time": "2023-03-08T09:25:46.657Z"
   },
   {
    "duration": 9,
    "start_time": "2023-03-08T09:25:46.741Z"
   },
   {
    "duration": 6,
    "start_time": "2023-03-08T09:25:46.751Z"
   },
   {
    "duration": 8,
    "start_time": "2023-03-08T09:25:46.758Z"
   },
   {
    "duration": 24,
    "start_time": "2023-03-08T09:25:46.767Z"
   },
   {
    "duration": 65,
    "start_time": "2023-03-08T09:25:46.792Z"
   },
   {
    "duration": 10,
    "start_time": "2023-03-08T09:25:46.858Z"
   },
   {
    "duration": 25,
    "start_time": "2023-03-08T09:25:46.869Z"
   },
   {
    "duration": 227,
    "start_time": "2023-03-08T09:25:46.896Z"
   },
   {
    "duration": 17,
    "start_time": "2023-03-08T09:25:47.125Z"
   },
   {
    "duration": 5,
    "start_time": "2023-03-08T09:25:47.145Z"
   },
   {
    "duration": 61,
    "start_time": "2023-03-08T09:25:47.152Z"
   },
   {
    "duration": 20,
    "start_time": "2023-03-08T09:25:47.215Z"
   },
   {
    "duration": 19,
    "start_time": "2023-03-08T09:25:47.237Z"
   },
   {
    "duration": 485,
    "start_time": "2023-03-08T09:25:47.257Z"
   },
   {
    "duration": 132,
    "start_time": "2023-03-08T09:25:47.743Z"
   },
   {
    "duration": 26,
    "start_time": "2023-03-08T09:25:47.877Z"
   },
   {
    "duration": 5,
    "start_time": "2023-03-08T09:25:47.904Z"
   },
   {
    "duration": 160,
    "start_time": "2023-03-08T09:25:47.911Z"
   },
   {
    "duration": 568,
    "start_time": "2023-03-08T09:25:48.072Z"
   },
   {
    "duration": 9,
    "start_time": "2023-03-08T09:25:48.642Z"
   },
   {
    "duration": 45,
    "start_time": "2023-03-08T09:25:48.653Z"
   },
   {
    "duration": 19,
    "start_time": "2023-03-08T09:25:48.699Z"
   },
   {
    "duration": 15,
    "start_time": "2023-03-08T09:25:48.720Z"
   },
   {
    "duration": 13,
    "start_time": "2023-03-08T09:25:48.737Z"
   },
   {
    "duration": 219,
    "start_time": "2023-03-08T09:25:48.751Z"
   },
   {
    "duration": 8,
    "start_time": "2023-03-08T09:25:48.972Z"
   },
   {
    "duration": 7,
    "start_time": "2023-03-08T09:25:48.990Z"
   },
   {
    "duration": 8,
    "start_time": "2023-03-08T09:25:48.999Z"
   },
   {
    "duration": 29,
    "start_time": "2023-03-08T09:25:49.008Z"
   },
   {
    "duration": 201,
    "start_time": "2023-03-08T09:25:49.038Z"
   },
   {
    "duration": 11,
    "start_time": "2023-03-08T09:25:49.241Z"
   },
   {
    "duration": 36,
    "start_time": "2023-03-08T09:25:49.254Z"
   },
   {
    "duration": 9,
    "start_time": "2023-03-08T09:25:49.291Z"
   },
   {
    "duration": 14,
    "start_time": "2023-03-08T09:25:49.302Z"
   },
   {
    "duration": 447,
    "start_time": "2023-03-08T09:25:49.318Z"
   },
   {
    "duration": 158,
    "start_time": "2023-03-08T09:25:49.767Z"
   },
   {
    "duration": 161,
    "start_time": "2023-03-08T09:25:49.929Z"
   },
   {
    "duration": 33,
    "start_time": "2023-03-08T09:25:50.091Z"
   },
   {
    "duration": 15,
    "start_time": "2023-03-08T09:25:50.126Z"
   },
   {
    "duration": 207,
    "start_time": "2023-03-08T09:25:50.143Z"
   },
   {
    "duration": 168,
    "start_time": "2023-03-08T09:25:50.352Z"
   },
   {
    "duration": 298,
    "start_time": "2023-03-08T09:25:50.522Z"
   },
   {
    "duration": 10,
    "start_time": "2023-03-08T09:25:50.822Z"
   },
   {
    "duration": 221,
    "start_time": "2023-03-08T09:25:50.833Z"
   },
   {
    "duration": 10,
    "start_time": "2023-03-08T09:25:51.056Z"
   },
   {
    "duration": 27,
    "start_time": "2023-03-08T09:25:51.067Z"
   },
   {
    "duration": 29,
    "start_time": "2023-03-08T09:25:51.095Z"
   },
   {
    "duration": 21,
    "start_time": "2023-03-08T09:25:51.126Z"
   },
   {
    "duration": 1019,
    "start_time": "2023-03-08T09:25:51.149Z"
   },
   {
    "duration": 9,
    "start_time": "2023-03-08T09:25:52.170Z"
   },
   {
    "duration": 36,
    "start_time": "2023-03-08T09:25:52.181Z"
   },
   {
    "duration": 1031,
    "start_time": "2023-03-08T09:25:52.219Z"
   },
   {
    "duration": 593,
    "start_time": "2023-03-08T09:25:53.252Z"
   },
   {
    "duration": 580,
    "start_time": "2023-03-08T09:25:57.714Z"
   },
   {
    "duration": 777,
    "start_time": "2023-03-08T09:26:07.344Z"
   },
   {
    "duration": 10,
    "start_time": "2023-03-08T09:28:27.010Z"
   },
   {
    "duration": 10,
    "start_time": "2023-03-08T09:33:01.047Z"
   },
   {
    "duration": 192,
    "start_time": "2023-03-08T09:40:41.050Z"
   },
   {
    "duration": 232,
    "start_time": "2023-03-08T09:42:48.342Z"
   },
   {
    "duration": 239,
    "start_time": "2023-03-08T09:44:04.238Z"
   },
   {
    "duration": 145,
    "start_time": "2023-03-08T09:44:10.965Z"
   },
   {
    "duration": 14,
    "start_time": "2023-03-08T09:44:11.112Z"
   },
   {
    "duration": 1875,
    "start_time": "2023-03-08T09:44:11.128Z"
   },
   {
    "duration": 70,
    "start_time": "2023-03-08T09:44:13.005Z"
   },
   {
    "duration": 22,
    "start_time": "2023-03-08T09:44:13.077Z"
   },
   {
    "duration": 12,
    "start_time": "2023-03-08T09:44:13.101Z"
   },
   {
    "duration": 8,
    "start_time": "2023-03-08T09:44:13.114Z"
   },
   {
    "duration": 6,
    "start_time": "2023-03-08T09:44:13.124Z"
   },
   {
    "duration": 14,
    "start_time": "2023-03-08T09:44:13.131Z"
   },
   {
    "duration": 8,
    "start_time": "2023-03-08T09:44:13.147Z"
   },
   {
    "duration": 4,
    "start_time": "2023-03-08T09:44:13.157Z"
   },
   {
    "duration": 226,
    "start_time": "2023-03-08T09:44:13.190Z"
   },
   {
    "duration": 18,
    "start_time": "2023-03-08T09:44:13.418Z"
   },
   {
    "duration": 5,
    "start_time": "2023-03-08T09:44:13.438Z"
   },
   {
    "duration": 56,
    "start_time": "2023-03-08T09:44:13.444Z"
   },
   {
    "duration": 21,
    "start_time": "2023-03-08T09:44:13.502Z"
   },
   {
    "duration": 19,
    "start_time": "2023-03-08T09:44:13.524Z"
   },
   {
    "duration": 477,
    "start_time": "2023-03-08T09:44:13.545Z"
   },
   {
    "duration": 335,
    "start_time": "2023-03-08T09:44:14.024Z"
   },
   {
    "duration": 29,
    "start_time": "2023-03-08T09:44:14.361Z"
   },
   {
    "duration": 6,
    "start_time": "2023-03-08T09:44:14.391Z"
   },
   {
    "duration": 193,
    "start_time": "2023-03-08T09:44:14.399Z"
   },
   {
    "duration": 418,
    "start_time": "2023-03-08T09:44:14.593Z"
   },
   {
    "duration": 8,
    "start_time": "2023-03-08T09:44:15.013Z"
   },
   {
    "duration": 31,
    "start_time": "2023-03-08T09:44:15.023Z"
   },
   {
    "duration": 35,
    "start_time": "2023-03-08T09:44:15.055Z"
   },
   {
    "duration": 15,
    "start_time": "2023-03-08T09:44:15.091Z"
   },
   {
    "duration": 12,
    "start_time": "2023-03-08T09:44:15.109Z"
   },
   {
    "duration": 211,
    "start_time": "2023-03-08T09:44:15.123Z"
   },
   {
    "duration": 12,
    "start_time": "2023-03-08T09:44:15.335Z"
   },
   {
    "duration": 9,
    "start_time": "2023-03-08T09:44:15.349Z"
   },
   {
    "duration": 8,
    "start_time": "2023-03-08T09:44:15.359Z"
   },
   {
    "duration": 32,
    "start_time": "2023-03-08T09:44:15.390Z"
   },
   {
    "duration": 201,
    "start_time": "2023-03-08T09:44:15.424Z"
   },
   {
    "duration": 9,
    "start_time": "2023-03-08T09:44:15.626Z"
   },
   {
    "duration": 35,
    "start_time": "2023-03-08T09:44:15.637Z"
   },
   {
    "duration": 22,
    "start_time": "2023-03-08T09:44:15.675Z"
   },
   {
    "duration": 22,
    "start_time": "2023-03-08T09:44:15.699Z"
   },
   {
    "duration": 455,
    "start_time": "2023-03-08T09:44:15.722Z"
   },
   {
    "duration": 194,
    "start_time": "2023-03-08T09:44:16.178Z"
   },
   {
    "duration": 198,
    "start_time": "2023-03-08T09:44:16.374Z"
   },
   {
    "duration": 41,
    "start_time": "2023-03-08T09:44:16.573Z"
   },
   {
    "duration": 17,
    "start_time": "2023-03-08T09:44:16.616Z"
   },
   {
    "duration": 206,
    "start_time": "2023-03-08T09:44:16.634Z"
   },
   {
    "duration": 156,
    "start_time": "2023-03-08T09:44:16.842Z"
   },
   {
    "duration": 292,
    "start_time": "2023-03-08T09:44:16.999Z"
   },
   {
    "duration": 10,
    "start_time": "2023-03-08T09:44:17.293Z"
   },
   {
    "duration": 225,
    "start_time": "2023-03-08T09:44:17.304Z"
   },
   {
    "duration": 10,
    "start_time": "2023-03-08T09:44:17.530Z"
   },
   {
    "duration": 9,
    "start_time": "2023-03-08T09:44:17.541Z"
   },
   {
    "duration": 48,
    "start_time": "2023-03-08T09:44:17.551Z"
   },
   {
    "duration": 22,
    "start_time": "2023-03-08T09:44:17.600Z"
   },
   {
    "duration": 901,
    "start_time": "2023-03-08T09:44:17.624Z"
   },
   {
    "duration": 8,
    "start_time": "2023-03-08T09:44:18.526Z"
   },
   {
    "duration": 25,
    "start_time": "2023-03-08T09:44:18.536Z"
   },
   {
    "duration": 1212,
    "start_time": "2023-03-08T09:44:18.563Z"
   },
   {
    "duration": 582,
    "start_time": "2023-03-08T09:44:19.777Z"
   },
   {
    "duration": 591,
    "start_time": "2023-03-08T09:44:20.360Z"
   },
   {
    "duration": 185,
    "start_time": "2023-03-08T09:44:20.953Z"
   },
   {
    "duration": 179,
    "start_time": "2023-03-08T09:44:21.140Z"
   },
   {
    "duration": 188,
    "start_time": "2023-03-08T09:44:21.321Z"
   },
   {
    "duration": 200,
    "start_time": "2023-03-08T09:44:21.510Z"
   },
   {
    "duration": 858,
    "start_time": "2023-03-08T09:44:21.712Z"
   },
   {
    "duration": 459,
    "start_time": "2023-03-08T09:44:22.572Z"
   },
   {
    "duration": 578,
    "start_time": "2023-03-08T09:44:23.032Z"
   },
   {
    "duration": 8,
    "start_time": "2023-03-08T09:44:23.611Z"
   },
   {
    "duration": 307,
    "start_time": "2023-03-08T09:44:23.620Z"
   },
   {
    "duration": 9,
    "start_time": "2023-03-08T09:44:23.929Z"
   },
   {
    "duration": 580,
    "start_time": "2023-03-08T09:44:23.939Z"
   },
   {
    "duration": 344,
    "start_time": "2023-03-08T09:44:24.521Z"
   },
   {
    "duration": 320,
    "start_time": "2023-03-08T09:44:24.867Z"
   },
   {
    "duration": 302,
    "start_time": "2023-03-08T09:44:25.191Z"
   },
   {
    "duration": 194,
    "start_time": "2023-03-08T09:44:28.807Z"
   },
   {
    "duration": 218,
    "start_time": "2023-03-08T09:45:05.397Z"
   },
   {
    "duration": 209,
    "start_time": "2023-03-08T09:45:50.955Z"
   },
   {
    "duration": 34,
    "start_time": "2023-03-08T09:46:32.603Z"
   },
   {
    "duration": 207,
    "start_time": "2023-03-08T09:47:01.463Z"
   },
   {
    "duration": 16,
    "start_time": "2023-03-08T09:51:35.404Z"
   },
   {
    "duration": 35,
    "start_time": "2023-03-08T09:53:19.836Z"
   },
   {
    "duration": 224,
    "start_time": "2023-03-08T09:53:32.538Z"
   },
   {
    "duration": 247,
    "start_time": "2023-03-08T09:53:48.366Z"
   },
   {
    "duration": 223,
    "start_time": "2023-03-08T09:55:21.138Z"
   },
   {
    "duration": 251,
    "start_time": "2023-03-08T09:55:32.265Z"
   },
   {
    "duration": 6288,
    "start_time": "2023-03-08T09:56:27.979Z"
   },
   {
    "duration": 216,
    "start_time": "2023-03-08T09:57:18.052Z"
   },
   {
    "duration": 720,
    "start_time": "2023-03-08T10:04:46.061Z"
   },
   {
    "duration": 33,
    "start_time": "2023-03-08T10:04:46.783Z"
   },
   {
    "duration": 2468,
    "start_time": "2023-03-08T10:04:46.818Z"
   },
   {
    "duration": 79,
    "start_time": "2023-03-08T10:04:49.288Z"
   },
   {
    "duration": 23,
    "start_time": "2023-03-08T10:04:49.369Z"
   },
   {
    "duration": 13,
    "start_time": "2023-03-08T10:04:49.395Z"
   },
   {
    "duration": 22,
    "start_time": "2023-03-08T10:04:49.410Z"
   },
   {
    "duration": 6,
    "start_time": "2023-03-08T10:04:49.434Z"
   },
   {
    "duration": 20,
    "start_time": "2023-03-08T10:04:49.442Z"
   },
   {
    "duration": 9,
    "start_time": "2023-03-08T10:04:49.465Z"
   },
   {
    "duration": 23,
    "start_time": "2023-03-08T10:04:49.476Z"
   },
   {
    "duration": 263,
    "start_time": "2023-03-08T10:04:49.501Z"
   },
   {
    "duration": 32,
    "start_time": "2023-03-08T10:04:49.766Z"
   },
   {
    "duration": 6,
    "start_time": "2023-03-08T10:04:49.801Z"
   },
   {
    "duration": 45,
    "start_time": "2023-03-08T10:04:49.809Z"
   },
   {
    "duration": 22,
    "start_time": "2023-03-08T10:04:49.855Z"
   },
   {
    "duration": 36,
    "start_time": "2023-03-08T10:04:49.879Z"
   },
   {
    "duration": 512,
    "start_time": "2023-03-08T10:04:49.917Z"
   },
   {
    "duration": 166,
    "start_time": "2023-03-08T10:04:50.431Z"
   },
   {
    "duration": 22,
    "start_time": "2023-03-08T10:04:50.603Z"
   },
   {
    "duration": 6,
    "start_time": "2023-03-08T10:04:50.626Z"
   },
   {
    "duration": 168,
    "start_time": "2023-03-08T10:04:50.634Z"
   },
   {
    "duration": 516,
    "start_time": "2023-03-08T10:04:50.804Z"
   },
   {
    "duration": 9,
    "start_time": "2023-03-08T10:04:51.321Z"
   },
   {
    "duration": 32,
    "start_time": "2023-03-08T10:04:51.331Z"
   },
   {
    "duration": 41,
    "start_time": "2023-03-08T10:04:51.365Z"
   },
   {
    "duration": 19,
    "start_time": "2023-03-08T10:04:51.408Z"
   },
   {
    "duration": 14,
    "start_time": "2023-03-08T10:04:51.431Z"
   },
   {
    "duration": 228,
    "start_time": "2023-03-08T10:04:51.447Z"
   },
   {
    "duration": 19,
    "start_time": "2023-03-08T10:04:51.677Z"
   },
   {
    "duration": 29,
    "start_time": "2023-03-08T10:04:51.697Z"
   },
   {
    "duration": 18,
    "start_time": "2023-03-08T10:04:51.728Z"
   },
   {
    "duration": 58,
    "start_time": "2023-03-08T10:04:51.748Z"
   },
   {
    "duration": 219,
    "start_time": "2023-03-08T10:04:51.808Z"
   },
   {
    "duration": 9,
    "start_time": "2023-03-08T10:04:52.028Z"
   },
   {
    "duration": 20,
    "start_time": "2023-03-08T10:04:52.039Z"
   },
   {
    "duration": 9,
    "start_time": "2023-03-08T10:04:52.060Z"
   },
   {
    "duration": 24,
    "start_time": "2023-03-08T10:04:52.089Z"
   },
   {
    "duration": 533,
    "start_time": "2023-03-08T10:04:52.116Z"
   },
   {
    "duration": 200,
    "start_time": "2023-03-08T10:04:52.651Z"
   },
   {
    "duration": 200,
    "start_time": "2023-03-08T10:04:52.854Z"
   },
   {
    "duration": 52,
    "start_time": "2023-03-08T10:04:53.056Z"
   },
   {
    "duration": 18,
    "start_time": "2023-03-08T10:04:53.109Z"
   },
   {
    "duration": 237,
    "start_time": "2023-03-08T10:04:53.129Z"
   },
   {
    "duration": 182,
    "start_time": "2023-03-08T10:04:53.368Z"
   },
   {
    "duration": 427,
    "start_time": "2023-03-08T10:04:53.552Z"
   },
   {
    "duration": 17,
    "start_time": "2023-03-08T10:04:53.980Z"
   },
   {
    "duration": 227,
    "start_time": "2023-03-08T10:04:54.001Z"
   },
   {
    "duration": 10,
    "start_time": "2023-03-08T10:04:54.229Z"
   },
   {
    "duration": 13,
    "start_time": "2023-03-08T10:04:54.241Z"
   },
   {
    "duration": 38,
    "start_time": "2023-03-08T10:04:54.256Z"
   },
   {
    "duration": 26,
    "start_time": "2023-03-08T10:04:54.299Z"
   },
   {
    "duration": 992,
    "start_time": "2023-03-08T10:04:54.327Z"
   },
   {
    "duration": 8,
    "start_time": "2023-03-08T10:04:55.320Z"
   },
   {
    "duration": 26,
    "start_time": "2023-03-08T10:04:55.330Z"
   },
   {
    "duration": 1267,
    "start_time": "2023-03-08T10:04:55.357Z"
   },
   {
    "duration": 659,
    "start_time": "2023-03-08T10:04:56.626Z"
   },
   {
    "duration": 645,
    "start_time": "2023-03-08T10:04:57.301Z"
   },
   {
    "duration": 182,
    "start_time": "2023-03-08T10:04:57.949Z"
   },
   {
    "duration": 224,
    "start_time": "2023-03-08T10:04:58.133Z"
   },
   {
    "duration": 379,
    "start_time": "2023-03-08T10:04:58.359Z"
   },
   {
    "duration": 238,
    "start_time": "2023-03-08T10:04:58.740Z"
   },
   {
    "duration": 1040,
    "start_time": "2023-03-08T10:04:58.980Z"
   },
   {
    "duration": 489,
    "start_time": "2023-03-08T10:05:00.021Z"
   },
   {
    "duration": 348,
    "start_time": "2023-03-08T10:05:00.512Z"
   },
   {
    "duration": 10,
    "start_time": "2023-03-08T10:05:00.862Z"
   },
   {
    "duration": 502,
    "start_time": "2023-03-08T10:05:00.874Z"
   },
   {
    "duration": 19,
    "start_time": "2023-03-08T10:05:01.378Z"
   },
   {
    "duration": 608,
    "start_time": "2023-03-08T10:05:01.400Z"
   },
   {
    "duration": 316,
    "start_time": "2023-03-08T10:05:02.018Z"
   },
   {
    "duration": 323,
    "start_time": "2023-03-08T10:05:02.336Z"
   },
   {
    "duration": 304,
    "start_time": "2023-03-08T10:05:02.661Z"
   },
   {
    "duration": 201,
    "start_time": "2023-03-08T10:05:02.967Z"
   },
   {
    "duration": 87,
    "start_time": "2023-03-08T10:05:03.169Z"
   },
   {
    "duration": 0,
    "start_time": "2023-03-08T10:05:03.258Z"
   },
   {
    "duration": 319,
    "start_time": "2023-03-08T10:05:35.714Z"
   },
   {
    "duration": 595,
    "start_time": "2023-03-09T06:51:50.043Z"
   },
   {
    "duration": 19,
    "start_time": "2023-03-09T06:51:50.640Z"
   },
   {
    "duration": 2201,
    "start_time": "2023-03-09T06:51:50.661Z"
   },
   {
    "duration": 111,
    "start_time": "2023-03-09T06:51:52.864Z"
   },
   {
    "duration": 10,
    "start_time": "2023-03-09T06:51:52.977Z"
   },
   {
    "duration": 6,
    "start_time": "2023-03-09T06:51:52.989Z"
   },
   {
    "duration": 9,
    "start_time": "2023-03-09T06:51:52.996Z"
   },
   {
    "duration": 9,
    "start_time": "2023-03-09T06:51:53.006Z"
   },
   {
    "duration": 31,
    "start_time": "2023-03-09T06:51:53.017Z"
   },
   {
    "duration": 9,
    "start_time": "2023-03-09T06:51:53.051Z"
   },
   {
    "duration": 5,
    "start_time": "2023-03-09T06:51:53.061Z"
   },
   {
    "duration": 253,
    "start_time": "2023-03-09T06:51:53.068Z"
   },
   {
    "duration": 23,
    "start_time": "2023-03-09T06:51:53.322Z"
   },
   {
    "duration": 6,
    "start_time": "2023-03-09T06:51:53.346Z"
   },
   {
    "duration": 41,
    "start_time": "2023-03-09T06:51:53.353Z"
   },
   {
    "duration": 21,
    "start_time": "2023-03-09T06:51:53.395Z"
   },
   {
    "duration": 41,
    "start_time": "2023-03-09T06:51:53.417Z"
   },
   {
    "duration": 465,
    "start_time": "2023-03-09T06:51:53.459Z"
   },
   {
    "duration": 127,
    "start_time": "2023-03-09T06:51:53.925Z"
   },
   {
    "duration": 19,
    "start_time": "2023-03-09T06:51:54.054Z"
   },
   {
    "duration": 22,
    "start_time": "2023-03-09T06:51:54.075Z"
   },
   {
    "duration": 146,
    "start_time": "2023-03-09T06:51:54.099Z"
   },
   {
    "duration": 480,
    "start_time": "2023-03-09T06:51:54.246Z"
   },
   {
    "duration": 18,
    "start_time": "2023-03-09T06:51:54.728Z"
   },
   {
    "duration": 30,
    "start_time": "2023-03-09T06:51:54.748Z"
   },
   {
    "duration": 18,
    "start_time": "2023-03-09T06:51:54.780Z"
   },
   {
    "duration": 45,
    "start_time": "2023-03-09T06:51:54.800Z"
   },
   {
    "duration": 14,
    "start_time": "2023-03-09T06:51:54.850Z"
   },
   {
    "duration": 203,
    "start_time": "2023-03-09T06:51:54.865Z"
   },
   {
    "duration": 10,
    "start_time": "2023-03-09T06:51:55.069Z"
   },
   {
    "duration": 13,
    "start_time": "2023-03-09T06:51:55.080Z"
   },
   {
    "duration": 9,
    "start_time": "2023-03-09T06:51:55.094Z"
   },
   {
    "duration": 54,
    "start_time": "2023-03-09T06:51:55.104Z"
   },
   {
    "duration": 192,
    "start_time": "2023-03-09T06:51:55.159Z"
   },
   {
    "duration": 8,
    "start_time": "2023-03-09T06:51:55.353Z"
   },
   {
    "duration": 24,
    "start_time": "2023-03-09T06:51:55.363Z"
   },
   {
    "duration": 9,
    "start_time": "2023-03-09T06:51:55.388Z"
   },
   {
    "duration": 45,
    "start_time": "2023-03-09T06:51:55.400Z"
   },
   {
    "duration": 430,
    "start_time": "2023-03-09T06:51:55.447Z"
   },
   {
    "duration": 165,
    "start_time": "2023-03-09T06:51:55.879Z"
   },
   {
    "duration": 157,
    "start_time": "2023-03-09T06:51:56.046Z"
   },
   {
    "duration": 38,
    "start_time": "2023-03-09T06:51:56.206Z"
   },
   {
    "duration": 25,
    "start_time": "2023-03-09T06:51:56.246Z"
   },
   {
    "duration": 222,
    "start_time": "2023-03-09T06:51:56.273Z"
   },
   {
    "duration": 191,
    "start_time": "2023-03-09T06:51:56.497Z"
   },
   {
    "duration": 377,
    "start_time": "2023-03-09T06:51:56.690Z"
   },
   {
    "duration": 11,
    "start_time": "2023-03-09T06:51:57.069Z"
   },
   {
    "duration": 215,
    "start_time": "2023-03-09T06:51:57.082Z"
   },
   {
    "duration": 9,
    "start_time": "2023-03-09T06:51:57.299Z"
   },
   {
    "duration": 12,
    "start_time": "2023-03-09T06:51:57.309Z"
   },
   {
    "duration": 41,
    "start_time": "2023-03-09T06:51:57.322Z"
   },
   {
    "duration": 21,
    "start_time": "2023-03-09T06:51:57.365Z"
   },
   {
    "duration": 830,
    "start_time": "2023-03-09T06:51:57.388Z"
   },
   {
    "duration": 7,
    "start_time": "2023-03-09T06:51:58.219Z"
   },
   {
    "duration": 38,
    "start_time": "2023-03-09T06:51:58.227Z"
   },
   {
    "duration": 1044,
    "start_time": "2023-03-09T06:51:58.267Z"
   },
   {
    "duration": 567,
    "start_time": "2023-03-09T06:51:59.313Z"
   },
   {
    "duration": 580,
    "start_time": "2023-03-09T06:51:59.882Z"
   },
   {
    "duration": 154,
    "start_time": "2023-03-09T06:52:00.464Z"
   },
   {
    "duration": 189,
    "start_time": "2023-03-09T06:52:00.619Z"
   },
   {
    "duration": 316,
    "start_time": "2023-03-09T06:52:00.810Z"
   },
   {
    "duration": 196,
    "start_time": "2023-03-09T06:52:01.128Z"
   },
   {
    "duration": 824,
    "start_time": "2023-03-09T06:52:01.326Z"
   },
   {
    "duration": 473,
    "start_time": "2023-03-09T06:52:02.152Z"
   },
   {
    "duration": 300,
    "start_time": "2023-03-09T06:52:02.627Z"
   },
   {
    "duration": 15,
    "start_time": "2023-03-09T06:52:02.928Z"
   },
   {
    "duration": 441,
    "start_time": "2023-03-09T06:52:02.944Z"
   },
   {
    "duration": 9,
    "start_time": "2023-03-09T06:52:03.386Z"
   },
   {
    "duration": 549,
    "start_time": "2023-03-09T06:52:03.396Z"
   },
   {
    "duration": 336,
    "start_time": "2023-03-09T06:52:03.947Z"
   },
   {
    "duration": 272,
    "start_time": "2023-03-09T06:52:04.284Z"
   },
   {
    "duration": 278,
    "start_time": "2023-03-09T06:52:04.558Z"
   },
   {
    "duration": 206,
    "start_time": "2023-03-09T06:52:04.839Z"
   },
   {
    "duration": 305,
    "start_time": "2023-03-09T06:52:05.047Z"
   },
   {
    "duration": 97,
    "start_time": "2023-03-09T06:52:41.587Z"
   },
   {
    "duration": 571,
    "start_time": "2023-04-10T17:41:15.229Z"
   },
   {
    "duration": 14,
    "start_time": "2023-04-10T17:41:15.802Z"
   },
   {
    "duration": 2473,
    "start_time": "2023-04-10T17:41:15.818Z"
   },
   {
    "duration": 84,
    "start_time": "2023-04-10T17:41:18.293Z"
   },
   {
    "duration": 22,
    "start_time": "2023-04-10T17:41:18.379Z"
   },
   {
    "duration": 6,
    "start_time": "2023-04-10T17:41:18.402Z"
   },
   {
    "duration": 9,
    "start_time": "2023-04-10T17:41:18.410Z"
   },
   {
    "duration": 5,
    "start_time": "2023-04-10T17:41:18.420Z"
   },
   {
    "duration": 19,
    "start_time": "2023-04-10T17:41:18.426Z"
   },
   {
    "duration": 50,
    "start_time": "2023-04-10T17:41:18.448Z"
   },
   {
    "duration": 5,
    "start_time": "2023-04-10T17:41:18.500Z"
   },
   {
    "duration": 255,
    "start_time": "2023-04-10T17:41:18.508Z"
   },
   {
    "duration": 16,
    "start_time": "2023-04-10T17:41:18.765Z"
   },
   {
    "duration": 5,
    "start_time": "2023-04-10T17:41:18.793Z"
   },
   {
    "duration": 41,
    "start_time": "2023-04-10T17:41:18.800Z"
   },
   {
    "duration": 21,
    "start_time": "2023-04-10T17:41:18.842Z"
   },
   {
    "duration": 45,
    "start_time": "2023-04-10T17:41:18.865Z"
   },
   {
    "duration": 503,
    "start_time": "2023-04-10T17:41:18.912Z"
   },
   {
    "duration": 149,
    "start_time": "2023-04-10T17:41:19.417Z"
   },
   {
    "duration": 32,
    "start_time": "2023-04-10T17:41:19.567Z"
   },
   {
    "duration": 6,
    "start_time": "2023-04-10T17:41:19.601Z"
   },
   {
    "duration": 172,
    "start_time": "2023-04-10T17:41:19.608Z"
   },
   {
    "duration": 519,
    "start_time": "2023-04-10T17:41:19.781Z"
   },
   {
    "duration": 9,
    "start_time": "2023-04-10T17:41:20.302Z"
   },
   {
    "duration": 26,
    "start_time": "2023-04-10T17:41:20.313Z"
   },
   {
    "duration": 19,
    "start_time": "2023-04-10T17:41:20.341Z"
   },
   {
    "duration": 46,
    "start_time": "2023-04-10T17:41:20.362Z"
   },
   {
    "duration": 14,
    "start_time": "2023-04-10T17:41:20.412Z"
   },
   {
    "duration": 232,
    "start_time": "2023-04-10T17:41:20.427Z"
   },
   {
    "duration": 10,
    "start_time": "2023-04-10T17:41:20.661Z"
   },
   {
    "duration": 26,
    "start_time": "2023-04-10T17:41:20.672Z"
   },
   {
    "duration": 9,
    "start_time": "2023-04-10T17:41:20.700Z"
   },
   {
    "duration": 57,
    "start_time": "2023-04-10T17:41:20.711Z"
   },
   {
    "duration": 197,
    "start_time": "2023-04-10T17:41:20.770Z"
   },
   {
    "duration": 8,
    "start_time": "2023-04-10T17:41:20.969Z"
   },
   {
    "duration": 34,
    "start_time": "2023-04-10T17:41:20.979Z"
   },
   {
    "duration": 9,
    "start_time": "2023-04-10T17:41:21.014Z"
   },
   {
    "duration": 14,
    "start_time": "2023-04-10T17:41:21.024Z"
   },
   {
    "duration": 488,
    "start_time": "2023-04-10T17:41:21.040Z"
   },
   {
    "duration": 178,
    "start_time": "2023-04-10T17:41:21.530Z"
   },
   {
    "duration": 197,
    "start_time": "2023-04-10T17:41:21.710Z"
   },
   {
    "duration": 46,
    "start_time": "2023-04-10T17:41:21.910Z"
   },
   {
    "duration": 40,
    "start_time": "2023-04-10T17:41:21.958Z"
   },
   {
    "duration": 218,
    "start_time": "2023-04-10T17:41:22.000Z"
   },
   {
    "duration": 186,
    "start_time": "2023-04-10T17:41:22.220Z"
   },
   {
    "duration": 391,
    "start_time": "2023-04-10T17:41:22.408Z"
   },
   {
    "duration": 10,
    "start_time": "2023-04-10T17:41:22.801Z"
   },
   {
    "duration": 239,
    "start_time": "2023-04-10T17:41:22.813Z"
   },
   {
    "duration": 11,
    "start_time": "2023-04-10T17:41:23.053Z"
   },
   {
    "duration": 27,
    "start_time": "2023-04-10T17:41:23.066Z"
   },
   {
    "duration": 28,
    "start_time": "2023-04-10T17:41:23.095Z"
   },
   {
    "duration": 23,
    "start_time": "2023-04-10T17:41:23.124Z"
   },
   {
    "duration": 935,
    "start_time": "2023-04-10T17:41:23.148Z"
   },
   {
    "duration": 9,
    "start_time": "2023-04-10T17:41:24.085Z"
   },
   {
    "duration": 25,
    "start_time": "2023-04-10T17:41:24.096Z"
   },
   {
    "duration": 1172,
    "start_time": "2023-04-10T17:41:24.123Z"
   },
   {
    "duration": 649,
    "start_time": "2023-04-10T17:41:25.296Z"
   },
   {
    "duration": 638,
    "start_time": "2023-04-10T17:41:25.947Z"
   },
   {
    "duration": 177,
    "start_time": "2023-04-10T17:41:26.587Z"
   },
   {
    "duration": 328,
    "start_time": "2023-04-10T17:41:26.765Z"
   },
   {
    "duration": 206,
    "start_time": "2023-04-10T17:41:27.094Z"
   },
   {
    "duration": 223,
    "start_time": "2023-04-10T17:41:27.302Z"
   },
   {
    "duration": 926,
    "start_time": "2023-04-10T17:41:27.526Z"
   },
   {
    "duration": 499,
    "start_time": "2023-04-10T17:41:28.454Z"
   },
   {
    "duration": 472,
    "start_time": "2023-04-10T17:41:28.955Z"
   },
   {
    "duration": 8,
    "start_time": "2023-04-10T17:41:29.429Z"
   },
   {
    "duration": 335,
    "start_time": "2023-04-10T17:41:29.438Z"
   },
   {
    "duration": 22,
    "start_time": "2023-04-10T17:41:29.775Z"
   },
   {
    "duration": 594,
    "start_time": "2023-04-10T17:41:29.799Z"
   },
   {
    "duration": 339,
    "start_time": "2023-04-10T17:41:30.395Z"
   },
   {
    "duration": 360,
    "start_time": "2023-04-10T17:41:30.736Z"
   },
   {
    "duration": 331,
    "start_time": "2023-04-10T17:41:31.097Z"
   },
   {
    "duration": 218,
    "start_time": "2023-04-10T17:41:31.430Z"
   },
   {
    "duration": 333,
    "start_time": "2023-04-10T17:41:31.650Z"
   }
  ],
  "gist": {
   "data": {
    "description": "Downloads/flats.ipynb",
    "public": false
   },
   "id": ""
  },
  "kernelspec": {
   "display_name": "Python 3 (ipykernel)",
   "language": "python",
   "name": "python3"
  },
  "language_info": {
   "codemirror_mode": {
    "name": "ipython",
    "version": 3
   },
   "file_extension": ".py",
   "mimetype": "text/x-python",
   "name": "python",
   "nbconvert_exporter": "python",
   "pygments_lexer": "ipython3",
   "version": "3.9.13"
  },
  "nbTranslate": {
   "displayLangs": [
    "*"
   ],
   "hotkey": "alt-t",
   "langInMainMenu": true,
   "sourceLang": "en",
   "targetLang": "fr",
   "useGoogleTranslate": true
  },
  "toc": {
   "base_numbering": 1,
   "nav_menu": {},
   "number_sections": true,
   "sideBar": true,
   "skip_h1_title": true,
   "title_cell": "Table of Contents",
   "title_sidebar": "Contents",
   "toc_cell": false,
   "toc_position": {},
   "toc_section_display": true,
   "toc_window_display": false
  },
  "varInspector": {
   "cols": {
    "lenName": 16,
    "lenType": 16,
    "lenVar": 40
   },
   "kernels_config": {
    "python": {
     "delete_cmd_postfix": "",
     "delete_cmd_prefix": "del ",
     "library": "var_list.py",
     "varRefreshCmd": "print(var_dic_list())"
    },
    "r": {
     "delete_cmd_postfix": ") ",
     "delete_cmd_prefix": "rm(",
     "library": "var_list.r",
     "varRefreshCmd": "cat(var_dic_list()) "
    }
   },
   "types_to_exclude": [
    "module",
    "function",
    "builtin_function_or_method",
    "instance",
    "_Feature"
   ],
   "window_display": false
  }
 },
 "nbformat": 4,
 "nbformat_minor": 2
}
